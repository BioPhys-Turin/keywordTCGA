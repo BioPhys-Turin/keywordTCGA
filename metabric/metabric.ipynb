{
 "cells": [
  {
   "cell_type": "code",
   "execution_count": null,
   "id": "d4cd0b7e-8d65-4cd7-be0e-4d9d3d26718d",
   "metadata": {},
   "outputs": [],
   "source": [
    "%load_ext watermark\n",
    "%watermark -a Filippo_Valle -p pandas,regex -m"
   ]
  },
  {
   "cell_type": "markdown",
   "id": "8edf95a7-156a-41f0-ba98-f63f2190925b",
   "metadata": {},
   "source": [
    "https://github.com/EGA-archive/ega-download-client\n",
    "\n",
    "`pyega3 -d fetch EGAF00000171401`\n",
    "\n",
    "`pyega3 -d fetch EGAF00000245831`"
   ]
  },
  {
   "cell_type": "code",
   "execution_count": null,
   "id": "c57a7eca-6dde-4b4e-974d-e193d4147b22",
   "metadata": {},
   "outputs": [],
   "source": [
    "import pandas as pd\n",
    "import regex as re"
   ]
  },
  {
   "cell_type": "code",
   "execution_count": null,
   "id": "7843ffdc-ec34-4e93-b9de-8d7d4e0c6121",
   "metadata": {},
   "outputs": [],
   "source": [
    "df = pd.read_csv(\"EGAF00000171401/Illumina_HT12_normalised_mRNA_expression.xls\", sep=\" \")\n",
    "print(df.shape)\n",
    "df.head()"
   ]
  },
  {
   "cell_type": "code",
   "execution_count": null,
   "id": "7fe53c95-f634-45c8-b8da-c527699012e4",
   "metadata": {},
   "outputs": [],
   "source": [
    "df_mirna = pd.read_csv(\"EGAF00000245831/Agilent_ncRNA_60k_normalised_miRNA_expression.xls\", sep=\"\\t\").set_index(\"miRNA\").drop(\"ProbeID\", axis=1)\n",
    "df_mirna = df_mirna.loc[~df_mirna.index.duplicated(),:]\n",
    "print(df_mirna.shape)\n",
    "df_mirna.head()"
   ]
  },
  {
   "cell_type": "code",
   "execution_count": null,
   "id": "8698174a-e95c-43f9-9641-85480271fdcb",
   "metadata": {},
   "outputs": [],
   "source": [
    "df = df.reindex(columns=df.columns[df.columns.isin(df_mirna.columns)])\n",
    "df_mirna = df_mirna.reindex(columns=df.columns)"
   ]
  },
  {
   "cell_type": "code",
   "execution_count": null,
   "id": "6d94a1c1-9fec-45bf-8606-b07e0c14889c",
   "metadata": {},
   "outputs": [],
   "source": [
    "df_tcga = pd.read_csv(\"../mainTable_hv.csv\",index_col=0)"
   ]
  },
  {
   "cell_type": "code",
   "execution_count": null,
   "id": "9e286212-9578-4b73-ad22-4b1b9f177d5d",
   "metadata": {},
   "outputs": [],
   "source": [
    "df = df.reindex(index=df.index[df.index.isin(df_tcga.index)])"
   ]
  },
  {
   "cell_type": "code",
   "execution_count": null,
   "id": "b17bc09b-301a-49be-b6b7-b847a99c5bc6",
   "metadata": {},
   "outputs": [],
   "source": [
    "#df_tcga = pd.read_csv(\"../mainTable_mirna.csv\",index_col=0)\n",
    "#df_mirna.reindex(index=df_mirna.index[df_mirna.index.isin(df_tcga.index.drop_duplicates())])"
   ]
  },
  {
   "cell_type": "code",
   "execution_count": null,
   "id": "bf2347cf-5184-4e71-a713-d34c84b040af",
   "metadata": {},
   "outputs": [],
   "source": [
    "df_all = pd.concat([df,df_mirna], axis=0)"
   ]
  },
  {
   "cell_type": "markdown",
   "id": "cd9ed9bd-7c72-4a7f-8d3a-651325732fac",
   "metadata": {},
   "source": [
    "## hSBM"
   ]
  },
  {
   "cell_type": "code",
   "execution_count": null,
   "id": "7d8b59ef-1e9b-4b6d-9d18-d5b165f75753",
   "metadata": {},
   "outputs": [],
   "source": [
    "import sys\n",
    "sys.path.append(\"../../hSBM_Topicmodel/\")\n",
    "from sbmtm import sbmtm"
   ]
  },
  {
   "cell_type": "code",
   "execution_count": null,
   "id": "ae028ea9-2ba0-4285-88df-523c637a4c32",
   "metadata": {},
   "outputs": [],
   "source": [
    "hsbm = sbmtm()\n",
    "hsbm.make_graph_from_BoW_df(df.fillna(0))"
   ]
  },
  {
   "cell_type": "code",
   "execution_count": null,
   "id": "cc38f521-60aa-4c7a-9eaa-199cfaf92d17",
   "metadata": {},
   "outputs": [],
   "source": [
    "hsbm.g"
   ]
  },
  {
   "cell_type": "code",
   "execution_count": null,
   "id": "30dd2e2e-7546-4ace-9d5e-8990bfe9ee1d",
   "metadata": {},
   "outputs": [],
   "source": [
    "hsbm.save_graph(\"graph_metabric_hsbm.xml.gz\")"
   ]
  },
  {
   "cell_type": "markdown",
   "id": "e1c5e5f5-0dd6-4930-ab77-be233ac00f12",
   "metadata": {},
   "source": [
    "## triSBM"
   ]
  },
  {
   "cell_type": "code",
   "execution_count": null,
   "id": "468c0c7b-3089-47c3-bfcd-79af2b1a1e0b",
   "metadata": {},
   "outputs": [],
   "source": [
    "from trisbm import trisbm"
   ]
  },
  {
   "cell_type": "code",
   "execution_count": null,
   "id": "d34d3983-7667-4910-be85-f3d7a35c49b2",
   "metadata": {},
   "outputs": [],
   "source": [
    "trisbm_model = trisbm()\n",
    "trisbm_model.make_graph(df_all.fillna(0), lambda gene: 1 if \"ENSG\" in gene else 2)"
   ]
  },
  {
   "cell_type": "code",
   "execution_count": null,
   "id": "9ad4968b-801e-49e0-88f7-ef29243a1fa5",
   "metadata": {},
   "outputs": [],
   "source": [
    "trisbm_model.save_graph(\"graph_metabric_trisbm.xml.gz\")"
   ]
  },
  {
   "cell_type": "code",
   "execution_count": null,
   "id": "d74257be-0f6e-4ed9-af71-036d609a2199",
   "metadata": {},
   "outputs": [],
   "source": [
    "import numpy as np\n",
    "np.isin(hsbm.words, trisbm_model.words).sum()"
   ]
  },
  {
   "cell_type": "code",
   "execution_count": null,
   "id": "5f91d6ca-1227-43af-a11c-f145721bbb0e",
   "metadata": {},
   "outputs": [],
   "source": [
    "df_files = pd.read_excel(\"../brca/41523_2021_345_MOESM2_ESM.xlsx\", skiprows=4)\n",
    "def parse_metabric_sample(sample):\n",
    "    if re.match(\"MB.[0-9]{4}\", sample):\n",
    "        sample=sample.replace(\".\",\"-\")\n",
    "    return sample\n",
    "df_files[\"sample\"]=list(map(parse_metabric_sample,df_files[\"sample\"]))\n",
    "df_files.set_index(\"sample\", inplace=True)"
   ]
  },
  {
   "cell_type": "code",
   "execution_count": null,
   "id": "ff05ed30-e8ea-4c28-a164-9deb62f49648",
   "metadata": {},
   "outputs": [],
   "source": [
    "df_files = df_files.reindex(index=df_all.columns).fillna(\"unknown\")"
   ]
  },
  {
   "cell_type": "code",
   "execution_count": null,
   "id": "eac565e9-c436-4883-a705-8474d81811d3",
   "metadata": {},
   "outputs": [],
   "source": [
    "analyses = {\n",
    "    \"subtypes\": [\"hsbm_bccs\", \"trisbm_bccs\", \"shuffle\"],\n",
    "}"
   ]
  },
  {
   "cell_type": "code",
   "execution_count": null,
   "id": "0e043025-3ee2-43c6-8c09-db907ce5b9eb",
   "metadata": {},
   "outputs": [],
   "source": [
    "labels = ['BCS subtype', 'BCCS subtype']"
   ]
  },
  {
   "cell_type": "markdown",
   "id": "0089c384-79fe-4af6-8d44-00e462653c8a",
   "metadata": {},
   "source": [
    "### subtypes"
   ]
  },
  {
   "cell_type": "code",
   "execution_count": null,
   "id": "ce084257-fbf5-4713-b4cc-6073bb15ee02",
   "metadata": {},
   "outputs": [],
   "source": [
    "from topicpy.hsbmpy import get_scores, get_scores_shuffled, add_score_lines, normalise_score, get_cluster_given_l, get_clustersinfo, get_fraction_sites, plot_cluster_composition\n",
    "import matplotlib.pyplot as plt"
   ]
  },
  {
   "cell_type": "code",
   "execution_count": null,
   "id": "c43669f1-b9ce-43e8-b858-aeb0fde93c9f",
   "metadata": {
    "tags": []
   },
   "outputs": [],
   "source": [
    "directory = \"./\"\n",
    "\n",
    "scores = {}\n",
    "scores['hsbm_bcs'] = get_scores(directory, labels, algorithm='topsbm', df_files=df_files, verbose=False)[labels[1]]\n",
    "scores['trisbm_bcs'] = get_scores(directory, labels, algorithm='trisbm', df_files=df_files, verbose=False)[labels[1]]\n",
    "\n",
    "scores['hsbm_bccs'] = get_scores(directory, labels, algorithm='topsbm', df_files=df_files, verbose=False)[labels[1]]\n",
    "scores['trisbm_bccs'] = get_scores(directory, labels, algorithm='trisbm', df_files=df_files, verbose=False)[labels[1]]\n",
    "\n",
    "\n",
    "scores['shuffle'] = get_scores_shuffled(directory, df_files, label=labels[1], algorithm='topsbm')\n",
    "shuffle = []\n",
    "for _ in range(50):\n",
    "    shuffle.append(get_scores_shuffled(directory, df_files, label=labels[1], algorithm='topsbm')[\"V\"])\n",
    "scores[\"shuffle\"][\"V\"] = np.average(shuffle,0)\n",
    "normalise_score(scores, base_algorithm=\"shuffle\")"
   ]
  },
  {
   "cell_type": "code",
   "execution_count": null,
   "id": "30f35c1d-78c8-48fc-9ff8-5fc7ff514c73",
   "metadata": {},
   "outputs": [],
   "source": [
    "analysis = \"subtypes\"\n",
    "\n",
    "fig=plt.figure(figsize=(20,15))\n",
    "ax = fig.subplots(1)\n",
    "add_score_lines(ax,scores, V=\"norm_V\", labels=analyses[analysis])\n",
    "#ax.set_xscale('linear')\n",
    "#ax.set_title(\"Tumor/Normal\", fontsize=40)\n",
    "ax.set_ylabel(\"NMI/NMI* score\", fontsize=35)\n",
    "\n",
    "plt.xlim(1,max(map(max,[score[\"xl\"] for score in scores.values()]))*1.1)\n",
    "plt.ylim(0,max(map(max,[score[\"norm_V\"] for score in scores.values()]))*1.1)\n",
    "plt.show()\n",
    "fig.savefig(\"%s/metric_scores_%s.pdf\"%(directory,analysis))"
   ]
  },
  {
   "cell_type": "code",
   "execution_count": null,
   "id": "44a23fb1-3541-4f5b-bdbd-c39bc70910af",
   "metadata": {},
   "outputs": [],
   "source": [
    "level = 0\n",
    "algorithm = \"topsbm\"\n",
    "cluster = get_cluster_given_l(level, \".\", algorithm=algorithm)\n",
    "fraction_sites = get_fraction_sites(cluster, df_files=df_files, label=labels[0], normalise=False)\n",
    "\n",
    "clustersinfo = get_clustersinfo(cluster,fraction_sites)\n",
    "plot_cluster_composition(fraction_sites,\".\",level,label=labels[0], normalise=False,algorithm=algorithm)"
   ]
  },
  {
   "cell_type": "code",
   "execution_count": null,
   "id": "58056116-c20a-4967-aac3-c31841945c1a",
   "metadata": {},
   "outputs": [],
   "source": [
    "level = 0\n",
    "algorithm = \"trisbm\"\n",
    "cluster = get_cluster_given_l(level, \".\", algorithm=algorithm)\n",
    "fraction_sites = get_fraction_sites(cluster, df_files=df_files, label=labels[0], normalise=False)\n",
    "\n",
    "clustersinfo = get_clustersinfo(cluster,fraction_sites)\n",
    "plot_cluster_composition(fraction_sites,\".\",level,label=labels[0], normalise=False,algorithm=algorithm)"
   ]
  },
  {
   "cell_type": "code",
   "execution_count": null,
   "id": "b6109595-5e38-4954-b8a5-95186f879873",
   "metadata": {},
   "outputs": [],
   "source": [
    "level = 0\n",
    "algorithm = \"topsbm\"\n",
    "cluster = get_cluster_given_l(level, \".\", algorithm=algorithm)\n",
    "fraction_sites = get_fraction_sites(cluster, df_files=df_files, label=labels[1], normalise=False)\n",
    "\n",
    "clustersinfo = get_clustersinfo(cluster,fraction_sites)\n",
    "plot_cluster_composition(fraction_sites,\".\",level,label=labels[1], normalise=False,algorithm=algorithm)"
   ]
  },
  {
   "cell_type": "code",
   "execution_count": null,
   "id": "c120a302-f7aa-4777-a44c-bfef3fc75ada",
   "metadata": {},
   "outputs": [],
   "source": [
    "level = 0\n",
    "algorithm = \"trisbm\"\n",
    "cluster = get_cluster_given_l(level, \".\", algorithm=algorithm)\n",
    "fraction_sites = get_fraction_sites(cluster, df_files=df_files, label=labels[1], normalise=False)\n",
    "\n",
    "clustersinfo = get_clustersinfo(cluster,fraction_sites)\n",
    "plot_cluster_composition(fraction_sites,\".\",level,label=labels[1], normalise=False,algorithm=algorithm)"
   ]
  },
  {
   "cell_type": "code",
   "execution_count": null,
   "id": "120f9da0-d818-4fad-bf22-592a43bebc43",
   "metadata": {},
   "outputs": [],
   "source": []
  }
 ],
 "metadata": {
  "kernelspec": {
   "display_name": "Python 3 (ipykernel)",
   "language": "python",
   "name": "python3"
  },
  "language_info": {
   "codemirror_mode": {
    "name": "ipython",
    "version": 3
   },
   "file_extension": ".py",
   "mimetype": "text/x-python",
   "name": "python",
   "nbconvert_exporter": "python",
   "pygments_lexer": "ipython3",
   "version": "3.8.5"
  }
 },
 "nbformat": 4,
 "nbformat_minor": 5
}
