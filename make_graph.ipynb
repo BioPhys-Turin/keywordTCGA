{
 "cells": [
  {
   "cell_type": "markdown",
   "id": "a4c53cdf",
   "metadata": {},
   "source": [
    "# Process data"
   ]
  },
  {
   "cell_type": "code",
   "execution_count": null,
   "id": "dec00998",
   "metadata": {},
   "outputs": [],
   "source": [
    "import pandas as pd\n",
    "import numpy as np"
   ]
  },
  {
   "cell_type": "code",
   "execution_count": null,
   "id": "a1ad54a9",
   "metadata": {},
   "outputs": [],
   "source": [
    "df_messanger = pd.read_csv(\"mainTable_fpkm.csv\", index_col=0)\n",
    "df_miRNA = pd.read_csv(\"mainTable_mirna.csv\", index_col=0)"
   ]
  },
  {
   "cell_type": "code",
   "execution_count": null,
   "id": "d678918f",
   "metadata": {},
   "outputs": [],
   "source": [
    "df_files = pd.read_csv(\"files_manifest.dat\")\n",
    "df_files.head(2)"
   ]
  },
  {
   "cell_type": "code",
   "execution_count": null,
   "id": "fba1be37",
   "metadata": {},
   "outputs": [],
   "source": [
    "df_files.drop_duplicates(subset=[\"sample_submitter_id\"], keep=\"first\", inplace=True)\n",
    "df_files.drop_duplicates(subset=[\"sample_submitter_id_mirna\"], keep=\"first\", inplace=True)"
   ]
  },
  {
   "cell_type": "code",
   "execution_count": null,
   "id": "79a8269c",
   "metadata": {},
   "outputs": [],
   "source": [
    "df_files.set_index(\"sample_submitter_id\", inplace=True)\n",
    "df_files = df_files.reindex(index=df_messanger.columns).dropna(how=\"all\", axis=0)\n",
    "df_messanger = df_messanger.reindex(columns=df_files.index)\n",
    "df_messanger.columns = df_files[\"cases.0.submitter_id\"]\n",
    "df_messanger.head(2)"
   ]
  },
  {
   "cell_type": "code",
   "execution_count": null,
   "id": "c79853d5",
   "metadata": {},
   "outputs": [],
   "source": [
    "df_files = df_files.reset_index().set_index(\"sample_submitter_id_mirna\")\n",
    "df_files = df_files.reindex(index=df_miRNA.columns).dropna(how=\"all\", axis=0)\n",
    "df_miRNA = df_miRNA.reindex(columns=df_files.index)\n",
    "df_miRNA.columns = df_files[\"cases.0.submitter_id\"]\n",
    "df_miRNA.head(2)"
   ]
  },
  {
   "cell_type": "code",
   "execution_count": null,
   "id": "cdcd2b3f",
   "metadata": {},
   "outputs": [],
   "source": [
    "df = df_messanger.append(df_miRNA.reindex(columns=df_messanger.columns))\n",
    "df.to_csv(\"mainTable_all.csv\", index=True)"
   ]
  },
  {
   "cell_type": "code",
   "execution_count": null,
   "id": "582a00b3",
   "metadata": {},
   "outputs": [],
   "source": [
    "df.head(2)"
   ]
  },
  {
   "cell_type": "code",
   "execution_count": null,
   "id": "732881ff",
   "metadata": {},
   "outputs": [],
   "source": [
    "df_files = df_files.reset_index().set_index(\"cases.0.submitter_id\")"
   ]
  },
  {
   "cell_type": "code",
   "execution_count": null,
   "id": "a435907a",
   "metadata": {},
   "outputs": [],
   "source": [
    "df_files.loc[\"TCGA-D8-A140\",:]"
   ]
  },
  {
   "cell_type": "markdown",
   "id": "113374da",
   "metadata": {},
   "source": [
    "# Filter genes\n",
    "## HVG"
   ]
  },
  {
   "cell_type": "code",
   "execution_count": null,
   "id": "abf3ae57",
   "metadata": {},
   "outputs": [],
   "source": [
    "import scanpy as sc"
   ]
  },
  {
   "cell_type": "code",
   "execution_count": null,
   "id": "c4041035",
   "metadata": {},
   "outputs": [],
   "source": [
    "adata = sc.AnnData(X=df_messanger.reindex(columns=df_files.index).dropna(how=\"all\", axis=1).transpose(), obs=df_files[df_files.index.isin(df_messanger.columns)])"
   ]
  },
  {
   "cell_type": "code",
   "execution_count": null,
   "id": "3dcb7b3f",
   "metadata": {},
   "outputs": [],
   "source": [
    "sc.pp.log1p(adata, copy=False)\n",
    "sc.pp.highly_variable_genes(adata, n_top_genes=3000, n_bins=50)\n",
    "sc.pl.highly_variable_genes(adata, log=False, save='hvg.pdf')"
   ]
  },
  {
   "cell_type": "code",
   "execution_count": null,
   "id": "751e7313",
   "metadata": {},
   "outputs": [],
   "source": [
    "hvg = adata.var[adata.var['highly_variable']==True].index\n",
    "samples = adata.obs.index"
   ]
  },
  {
   "cell_type": "code",
   "execution_count": null,
   "id": "8a5c9a07",
   "metadata": {},
   "outputs": [],
   "source": [
    "hvg"
   ]
  },
  {
   "cell_type": "code",
   "execution_count": null,
   "id": "384893a5",
   "metadata": {},
   "outputs": [],
   "source": [
    "df.reindex(index=hvg, columns=samples).to_csv(\"mainTable_hv.csv\")"
   ]
  },
  {
   "cell_type": "markdown",
   "id": "4fd3a8e9",
   "metadata": {},
   "source": [
    "## HVmiRNA"
   ]
  },
  {
   "cell_type": "code",
   "execution_count": null,
   "id": "16012001",
   "metadata": {},
   "outputs": [],
   "source": [
    "adata = sc.AnnData(X=df_miRNA.reindex(columns=df_files.index).dropna(how=\"all\", axis=1).transpose(), obs=df_files)"
   ]
  },
  {
   "cell_type": "code",
   "execution_count": null,
   "id": "35f8d163",
   "metadata": {},
   "outputs": [],
   "source": [
    "sc.pp.log1p(adata, copy=False)\n",
    "sc.pp.highly_variable_genes(adata, n_top_genes=1000, n_bins=50)\n",
    "sc.pl.highly_variable_genes(adata, log=False, save='hvmiRNA.pdf')"
   ]
  },
  {
   "cell_type": "markdown",
   "id": "0c94fe11",
   "metadata": {},
   "source": [
    "# Make Graph"
   ]
  },
  {
   "cell_type": "code",
   "execution_count": null,
   "id": "e6885154",
   "metadata": {},
   "outputs": [],
   "source": [
    "import graph_tool.all as gt\n",
    "from time import time\n",
    "import seaborn as sns"
   ]
  },
  {
   "cell_type": "code",
   "execution_count": null,
   "id": "dcaa3e92",
   "metadata": {},
   "outputs": [],
   "source": [
    "%load_ext autoreload\n",
    "%autoreload 2\n",
    "\n",
    "import sys\n",
    "sys.path.append(\"../trisbm\")\n",
    "\n",
    "from trisbm import trisbm"
   ]
  },
  {
   "cell_type": "code",
   "execution_count": null,
   "id": "10be5f7f",
   "metadata": {},
   "outputs": [],
   "source": [
    "model = trisbm()\n",
    "model.make_graph(df.reindex(index=np.concatenate([hvg, df_miRNA.index])).applymap(lambda fpkm:np.log(fpkm+1)),\n",
    "                  get_kind=lambda word: 1 if \"ENSG\" in word else 2\n",
    "                )"
   ]
  },
  {
   "cell_type": "code",
   "execution_count": null,
   "id": "be39bf8f",
   "metadata": {},
   "outputs": [],
   "source": [
    "model._get_shape()"
   ]
  },
  {
   "cell_type": "code",
   "execution_count": null,
   "id": "e8ed4929",
   "metadata": {},
   "outputs": [],
   "source": [
    "g = model.g\n",
    "g"
   ]
  },
  {
   "cell_type": "code",
   "execution_count": null,
   "id": "6196d02d",
   "metadata": {},
   "outputs": [],
   "source": [
    "g.save(\"graph_breast_trisbm.xml.gz\")"
   ]
  },
  {
   "cell_type": "code",
   "execution_count": null,
   "id": "a823fa01",
   "metadata": {},
   "outputs": [],
   "source": [
    "gt.adjacency(g, weight=g.ep[\"count\"]).toarray().max()"
   ]
  },
  {
   "cell_type": "code",
   "execution_count": null,
   "id": "2a89eb14",
   "metadata": {},
   "outputs": [],
   "source": [
    "np.log2(df[\"TCGA-D8-A140\"][\"ENSG00000000938\"]+1)"
   ]
  },
  {
   "cell_type": "markdown",
   "id": "b08442cf",
   "metadata": {},
   "source": [
    "## sbmtm"
   ]
  },
  {
   "cell_type": "code",
   "execution_count": null,
   "id": "23c4a750",
   "metadata": {},
   "outputs": [],
   "source": [
    "import sys\n",
    "sys.path.append(\"../hSBM_Topicmodel/\")"
   ]
  },
  {
   "cell_type": "code",
   "execution_count": null,
   "id": "2db010a5",
   "metadata": {},
   "outputs": [],
   "source": [
    "from sbmtm import sbmtm"
   ]
  },
  {
   "cell_type": "code",
   "execution_count": null,
   "id": "a21058ae",
   "metadata": {},
   "outputs": [],
   "source": [
    "model = sbmtm()\n",
    "model.make_graph_from_BoW_df(df.reindex(index=hvg).dropna(how=\"any\", axis=1).applymap(lambda fpkm:np.log(fpkm+1)))\n",
    "model.save_graph(\"graph_breast_hsbm.xml.gz\")"
   ]
  }
 ],
 "metadata": {
  "kernelspec": {
   "display_name": "Python 3",
   "language": "python",
   "name": "python3"
  },
  "language_info": {
   "codemirror_mode": {
    "name": "ipython",
    "version": 3
   },
   "file_extension": ".py",
   "mimetype": "text/x-python",
   "name": "python",
   "nbconvert_exporter": "python",
   "pygments_lexer": "ipython3",
   "version": "3.8.8"
  }
 },
 "nbformat": 4,
 "nbformat_minor": 5
}
