{
 "cells": [
  {
   "cell_type": "code",
   "execution_count": null,
   "id": "4fd8aff5",
   "metadata": {},
   "outputs": [],
   "source": [
    "import pandas as pd\n",
    "import numpy as np\n",
    "import matplotlib.pyplot as plt"
   ]
  },
  {
   "cell_type": "code",
   "execution_count": null,
   "id": "c7900021",
   "metadata": {},
   "outputs": [],
   "source": [
    "df_word_dist = pd.read_csv(\"brca/trisbm/trisbm_level_1_keyword-dist.csv\", index_col=0)\n",
    "for g, p in df_word_dist.sort_values(\"Metadatum 7\", ascending=False)[\"Metadatum 7\"][:20].items():\n",
    "    print(g,\"&\",round(p,2),\"\\\\\\\\\")"
   ]
  },
  {
   "cell_type": "code",
   "execution_count": null,
   "id": "6964ea65",
   "metadata": {},
   "outputs": [],
   "source": [
    "gsea = {\n",
    "    \"Metadatum 3\":[\"hsa-mir-433\",\"hsa-mir-329-2\",\"hsa-mir-380\",\"hsa-mir-665\",\"hsa-mir-668\", \"hsa-mir-1185-1\",\"hsa-mir-656\"],\n",
    "    \"Metadatum 7\":[\"hsa-mir-431\",\"hsa-mir-495\",\"hsa-mir-377\",\"hsa-mir-329-1\",\"hsa-mir-410\",\"hsa-mir-370\",\"hsa-mir-485\",\"hsa-mir-376b\",\"hsa-mir-411\",\"hsa-mir-543\",\"hsa-mir-541\",\"hsa-mir-154\",\"hsa-mir-412\",\"hsa-mir-376c\",\"hsa-mir-496\",\"hsa-mir-487a\",\"hsa-mir-299\",\"hsa-mir-369\",\"hsa-mir-758\",\"hsa-mir-889\",\"hsa-mir-376a-1\",\"hsa-mir-493\",\"hsa-mir-432\",\"hsa-mir-487b\",\"hsa-mir-654\"]\n",
    "}"
   ]
  },
  {
   "cell_type": "code",
   "execution_count": null,
   "id": "adaf2ddc",
   "metadata": {},
   "outputs": [],
   "source": [
    "for topic in [\"Metadatum 3\", \"Metadatum 7\"]:\n",
    "    fig,ax = plt.subplots(figsize=(18,15))\n",
    "\n",
    "    bins = np.linspace(df_word_dist[topic].min(), df_word_dist[topic].max(), 15)\n",
    "\n",
    "    mask = df_word_dist[topic] > 0\n",
    "    df_word_dist[topic][mask].hist(ax=ax, color=\"gray\", label=f\"miRNA in {topic}\", density=False, bins=bins)\n",
    "\n",
    "    chr14q32 = gsea[topic]\n",
    "    df_word_dist.loc[chr14q32,[topic]].hist(ax=ax, density=False, lw=15, color=\"red\", histtype=\"step\", bins=bins, label=\"enrich term chr14q32\"),\n",
    "\n",
    "    ax.set_title(\"\")\n",
    "    ax.set_xlabel(\"P(miRNA|topic)\", fontsize=45)\n",
    "    ax.set_ylabel(\"# miRNAs\", fontsize=45)\n",
    "    ax.legend(fontsize=35)\n",
    "    ax.tick_params(labelsize=30)\n",
    "    \n",
    "    A = df_word_dist.loc[chr14q32,[topic]].sum()\n",
    "    print(A)\n",
    "\n",
    "    #ax.set_yscale(\"log\")\n",
    "    fig.savefig(f\"Pwordtopic_go_{topic.lower()}.pdf\")"
   ]
  },
  {
   "cell_type": "code",
   "execution_count": null,
   "id": "faafc1e5",
   "metadata": {},
   "outputs": [],
   "source": [
    "for topic in [\"Metadatum 3\", \"Metadatum 7\"]:\n",
    "    fig,ax = plt.subplots(figsize=(18,15))\n",
    "\n",
    "    mask = df_word_dist[topic] > 0\n",
    "    x = np.linspace(0, mask.sum(), len(mask))\n",
    "    sorted_mask = np.argsort(df_word_dist[topic][mask].values)[::-1]\n",
    "\n",
    "    ax.plot(x[mask], df_word_dist[topic][mask][sorted_mask].values, lw=15, color=\"gray\", label=\"miRNA in Topic\")\n",
    "\n",
    "    chr14q32 = gsea[topic]\n",
    "    chrmask = (df_word_dist[mask].index.isin(chr14q32)).astype(bool)\n",
    "\n",
    "    ax.plot(x[mask][chrmask], df_word_dist[topic][mask][sorted_mask][chrmask].values, lw=0, marker=\"o\", ms=15, label=\"enrich term chr14q32\"),\n",
    "\n",
    "    ax.set_xlabel(\"P(miRNA|topic)\", fontsize=35)\n",
    "    ax.set_ylabel(\"PDF\", fontsize=35)\n",
    "    ax.legend(fontsize=35)\n",
    "    ax.tick_params(labelsize=30)\n",
    "\n",
    "    #ax.set_xscale(\"log\")\n",
    "    ax.set_yscale(\"log\")"
   ]
  },
  {
   "cell_type": "code",
   "execution_count": null,
   "id": "91cf68d8",
   "metadata": {},
   "outputs": [],
   "source": []
  }
 ],
 "metadata": {
  "kernelspec": {
   "display_name": "Python 3",
   "language": "python",
   "name": "python3"
  },
  "language_info": {
   "codemirror_mode": {
    "name": "ipython",
    "version": 3
   },
   "file_extension": ".py",
   "mimetype": "text/x-python",
   "name": "python",
   "nbconvert_exporter": "python",
   "pygments_lexer": "ipython3",
   "version": "3.8.5"
  }
 },
 "nbformat": 4,
 "nbformat_minor": 5
}
