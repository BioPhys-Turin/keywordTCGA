{
 "cells": [
  {
   "cell_type": "code",
   "execution_count": 13,
   "id": "90281b92",
   "metadata": {},
   "outputs": [
    {
     "name": "stdout",
     "output_type": "stream",
     "text": [
      "The watermark extension is already loaded. To reload it, use:\n",
      "  %reload_ext watermark\n",
      "Author: Filippo_Valle\n",
      "\n",
      "pandas    : 1.1.2\n",
      "numpy     : 1.19.1\n",
      "matplotlib: 3.3.2\n",
      "\n",
      "Compiler    : GCC 7.3.0\n",
      "OS          : Linux\n",
      "Release     : 5.11.0-34-generic\n",
      "Machine     : x86_64\n",
      "Processor   : x86_64\n",
      "CPU cores   : 12\n",
      "Architecture: 64bit\n",
      "\n",
      "Git hash: 407e5e45d6f541e7abc68cd7ee4103382dabeea0\n",
      "\n"
     ]
    }
   ],
   "source": [
    "%load_ext watermark\n",
    "%watermark -a Filippo_Valle -p pandas,numpy,matplotlib -g -m"
   ]
  },
  {
   "cell_type": "code",
   "execution_count": null,
   "id": "66cd610d",
   "metadata": {},
   "outputs": [],
   "source": [
    "import pandas as pd\n",
    "import numpy as np\n",
    "import matplotlib.pyplot as plt"
   ]
  },
  {
   "cell_type": "code",
   "execution_count": null,
   "id": "34628869",
   "metadata": {},
   "outputs": [],
   "source": [
    "df_word_dist = pd.read_csv(\"brca/trisbm/trisbm_level_1_keyword-dist.csv\", index_col=0)\n",
    "for g, p in df_word_dist.sort_values(\"Metadatum 7\", ascending=False)[\"Metadatum 7\"][:20].items():\n",
    "    print(g,\"&\",round(p,3),\"\\\\\\\\\")"
   ]
  },
  {
   "cell_type": "code",
   "execution_count": null,
   "id": "12867b91",
   "metadata": {},
   "outputs": [],
   "source": [
    "gsea = {\n",
    "   # \"Metadatum 3\":[\"hsa-mir-433\",\"hsa-mir-329-2\",\"hsa-mir-380\",\"hsa-mir-665\",\"hsa-mir-668\", \"hsa-mir-1185-1\",\"hsa-mir-656\"],\n",
    "    \"Metadatum 7\":[\"hsa-mir-431\",\"hsa-mir-495\",\"hsa-mir-377\",\"hsa-mir-329-1\",\"hsa-mir-410\",\"hsa-mir-370\",\"hsa-mir-485\",\"hsa-mir-376b\",\"hsa-mir-411\",\"hsa-mir-543\",\"hsa-mir-541\",\"hsa-mir-154\",\"hsa-mir-412\",\"hsa-mir-376c\",\"hsa-mir-496\",\"hsa-mir-487a\",\"hsa-mir-299\",\"hsa-mir-369\",\"hsa-mir-758\",\"hsa-mir-889\",\"hsa-mir-376a-1\",\"hsa-mir-493\",\"hsa-mir-432\",\"hsa-mir-487b\",\"hsa-mir-654\"]\n",
    "}"
   ]
  },
  {
   "cell_type": "code",
   "execution_count": null,
   "id": "1324aeb9",
   "metadata": {},
   "outputs": [],
   "source": [
    "for topic in [\"Metadatum 7\"]:\n",
    "    fig,ax = plt.subplots(figsize=(18,15))\n",
    "\n",
    "    bins = np.linspace(df_word_dist[topic].min(), df_word_dist[topic].max(), 15)\n",
    "\n",
    "    mask = df_word_dist[topic] > 0\n",
    "    df_word_dist[topic][mask].hist(ax=ax, color=\"gray\", label=f\"miRNA in {topic}\", density=False, bins=bins)\n",
    "\n",
    "    chr14q32 = gsea[topic]\n",
    "    df_word_dist.loc[chr14q32,[topic]].hist(ax=ax, density=False, lw=15, color=\"red\", histtype=\"step\", bins=bins, label=\"enrich term chr14q32\"),\n",
    "\n",
    "    ax.set_title(\"\")\n",
    "    ax.set_xlabel(\"P(miRNA|topic)\", fontsize=45)\n",
    "    ax.set_ylabel(\"# miRNAs\", fontsize=45)\n",
    "    ax.legend(fontsize=35)\n",
    "    ax.tick_params(labelsize=30)\n",
    "    \n",
    "    A = df_word_dist.loc[chr14q32,[topic]].sum()\n",
    "    print(A)\n",
    "\n",
    "    #ax.set_yscale(\"log\")\n",
    "    fig.savefig(f\"Pwordtopic_go_{topic.lower()}.pdf\")"
   ]
  },
  {
   "cell_type": "code",
   "execution_count": null,
   "id": "c1e3a6c4",
   "metadata": {},
   "outputs": [],
   "source": [
    "for topic in [\"Metadatum 7\"]:\n",
    "    fig,ax = plt.subplots(figsize=(18,15))\n",
    "\n",
    "    mask = df_word_dist[topic] > 0\n",
    "    x = np.linspace(0, mask.sum(), len(mask))\n",
    "    sorted_mask = np.argsort(df_word_dist[topic][mask].values)[::-1]\n",
    "\n",
    "    ax.plot(x[mask], df_word_dist[topic][mask][sorted_mask].values, lw=15, color=\"gray\", label=\"miRNA in Topic\")\n",
    "\n",
    "    chr14q32 = gsea[topic]\n",
    "    chrmask = (df_word_dist[mask].index.isin(chr14q32)).astype(bool)\n",
    "\n",
    "    ax.plot(x[mask][chrmask], df_word_dist[topic][mask][sorted_mask][chrmask].values, lw=0, marker=\"o\", ms=15, label=\"enrich term chr14q32\"),\n",
    "\n",
    "    ax.set_xlabel(\"P(miRNA|topic)\", fontsize=35)\n",
    "    ax.set_ylabel(\"PDF\", fontsize=35)\n",
    "    ax.legend(fontsize=35)\n",
    "    ax.tick_params(labelsize=30)\n",
    "\n",
    "    #ax.set_xscale(\"log\")\n",
    "    ax.set_yscale(\"log\")"
   ]
  },
  {
   "cell_type": "code",
   "execution_count": null,
   "id": "50492e1d",
   "metadata": {},
   "outputs": [],
   "source": []
  }
 ],
 "metadata": {
  "kernelspec": {
   "display_name": "Python 3",
   "language": "python",
   "name": "python3"
  },
  "language_info": {
   "codemirror_mode": {
    "name": "ipython",
    "version": 3
   },
   "file_extension": ".py",
   "mimetype": "text/x-python",
   "name": "python",
   "nbconvert_exporter": "python",
   "pygments_lexer": "ipython3",
   "version": "3.8.5"
  }
 },
 "nbformat": 4,
 "nbformat_minor": 5
}
