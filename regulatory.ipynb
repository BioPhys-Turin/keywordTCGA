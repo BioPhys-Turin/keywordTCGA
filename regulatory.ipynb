{
 "cells": [
  {
   "cell_type": "code",
   "execution_count": 1,
   "id": "c50942e4",
   "metadata": {},
   "outputs": [],
   "source": [
    "import graph_tool.all as gt\n",
    "import pandas as pd\n",
    "import numpy as np\n",
    "import cloudpickle as pickle\n",
    "import sys\n",
    "sys.path.append(\"../trisbm\")\n",
    "from trisbm import trisbm"
   ]
  },
  {
   "cell_type": "code",
   "execution_count": 2,
   "id": "fbad2ab2",
   "metadata": {},
   "outputs": [],
   "source": [
    "with open(\"brca/trisbm/model.pkl\", \"rb\") as file:\n",
    "    model = pickle.load(file)"
   ]
  },
  {
   "cell_type": "code",
   "execution_count": 3,
   "id": "9dc0a8c7",
   "metadata": {},
   "outputs": [],
   "source": [
    "#network_file = \"mirdip/HUMAN.mirDIP_top90k.Translated.ts\"\n",
    "network_file = \"tarbase/HUMAN.TarBase.Translated.tsv\""
   ]
  },
  {
   "cell_type": "code",
   "execution_count": 4,
   "id": "72048fb9",
   "metadata": {},
   "outputs": [],
   "source": [
    "df_net = pd.read_csv(\"../regulatory/\"+network_file, sep=\"\\t\", header=None)\n",
    "df_net[0]=[s.replace(\"miR\",\"mir\") for s in df_net[0]]\n",
    "df_conversion = pd.read_csv(\"miRNA.txt\")\n",
    "df_gene_conversion = pd.read_csv(\"https://www.genenames.org/cgi-bin/download/custom?col=gd_app_sym&col=gd_pub_ensembl_id&status=Approved&status=Entry%20Withdrawn&hgnc_dbtag=on&order_by=gd_app_sym_sort&format=text&submit=submit\", sep=\"\\t\").dropna(how=\"any\", axis=0)\n",
    "df_net = df_net[df_net[0].isin(model.keywords)]\n",
    "df_net = df_net[df_net[0].isin(df_conversion[\"miRBase ID\"])]\n",
    "df_net = df_net[df_net[1].isin(df_gene_conversion[\"Approved symbol\"])]\n",
    "df_gene_conversion = df_gene_conversion.set_index(\"Approved symbol\")"
   ]
  },
  {
   "cell_type": "code",
   "execution_count": 5,
   "id": "02586286",
   "metadata": {},
   "outputs": [],
   "source": [
    "vertexmap = {}\n",
    "for i,node in enumerate(np.concatenate((model.documents, model.words, model.keywords))):\n",
    "    vertexmap[node]=i"
   ]
  },
  {
   "cell_type": "code",
   "execution_count": 6,
   "id": "f0ef095e",
   "metadata": {},
   "outputs": [],
   "source": [
    "def get_regulatory_edge():\n",
    "    for mirna, target in df_net.values:\n",
    "        gene = df_gene_conversion.at[target, \"Ensembl gene ID\"]\n",
    "        if (mirna in model.keywords) and (gene in model.words):\n",
    "            #print(mirna, target, gene)\n",
    "            yield (vertexmap[mirna], vertexmap[gene], 1.)\n",
    "regulatory_edges = get_regulatory_edge()"
   ]
  },
  {
   "cell_type": "code",
   "execution_count": 7,
   "id": "e5a6fce5",
   "metadata": {},
   "outputs": [
    {
     "name": "stdout",
     "output_type": "stream",
     "text": [
      "<Graph object, undirected, with 5378 vertices and 3632009 edges, 2 internal vertex properties, 1 internal edge property, at 0x7f74a1245df0>\n"
     ]
    }
   ],
   "source": [
    "print(model.g)\n",
    "model.g.save(\"tmp.xml.gz\") #need to be stored to remove edges later"
   ]
  },
  {
   "cell_type": "code",
   "execution_count": 8,
   "id": "4bf9f653",
   "metadata": {},
   "outputs": [],
   "source": [
    "model.g.add_edge_list(regulatory_edges, eprops=[model.g.ep[\"count\"]])"
   ]
  },
  {
   "cell_type": "code",
   "execution_count": 9,
   "id": "0395b411",
   "metadata": {},
   "outputs": [
    {
     "name": "stdout",
     "output_type": "stream",
     "text": [
      "<Graph object, undirected, with 5378 vertices and 3633235 edges, 2 internal vertex properties, 1 internal edge property, at 0x7f74a1245df0>\n"
     ]
    }
   ],
   "source": [
    "print(model.g)"
   ]
  },
  {
   "cell_type": "code",
   "execution_count": 10,
   "id": "6be851b2",
   "metadata": {},
   "outputs": [
    {
     "name": "stdout",
     "output_type": "stream",
     "text": [
      "5414191.155795045 5414115.825543952 5365945.977253478\n"
     ]
    }
   ],
   "source": [
    "state = model.state.copy(g=model.g, bs=model.state.get_bs() + [np.zeros(1)] * 2, sampling = True)\n",
    "\n",
    "S1 = state.entropy()\n",
    "\n",
    "for i in range(100):\n",
    "    state.multiflip_mcmc_sweep(niter=10, beta=np.inf)\n",
    "    \n",
    "print(model.get_mdl(), S1, state.entropy())"
   ]
  },
  {
   "cell_type": "code",
   "execution_count": 11,
   "id": "82c0ebd4",
   "metadata": {},
   "outputs": [],
   "source": [
    "model.state = state\n",
    "model.g = gt.load_graph(\"tmp.xml.gz\")"
   ]
  },
  {
   "cell_type": "code",
   "execution_count": 12,
   "id": "88f73329",
   "metadata": {},
   "outputs": [],
   "source": [
    "import os"
   ]
  },
  {
   "cell_type": "code",
   "execution_count": 13,
   "id": "57382a7f",
   "metadata": {},
   "outputs": [],
   "source": [
    "# necessary to be compatible with older versions of trisbm\n",
    "model.nbranches = 1 #not stored in older versions\n",
    "model.keywords = [model.keywords] # new format\n",
    "model.groups = {} # should not be cached"
   ]
  },
  {
   "cell_type": "code",
   "execution_count": null,
   "id": "74279ad8",
   "metadata": {},
   "outputs": [
    {
     "name": "stdout",
     "output_type": "stream",
     "text": [
      "Saving level 3\n"
     ]
    }
   ],
   "source": [
    "os.chdir(\"brca\")\n",
    "os.system(\"rm -rf tarbase && mkdir -p tarbase\")\n",
    "os.chdir(\"tarbase\")\n",
    "model.save_data()\n",
    "os.chdir(\"../../\")"
   ]
  },
  {
   "cell_type": "code",
   "execution_count": null,
   "id": "a2879531",
   "metadata": {},
   "outputs": [],
   "source": [
    "os.chdir(\"../../\")"
   ]
  },
  {
   "cell_type": "code",
   "execution_count": null,
   "id": "e9240a7d",
   "metadata": {},
   "outputs": [],
   "source": []
  }
 ],
 "metadata": {
  "kernelspec": {
   "display_name": "Python 3",
   "language": "python",
   "name": "python3"
  },
  "language_info": {
   "codemirror_mode": {
    "name": "ipython",
    "version": 3
   },
   "file_extension": ".py",
   "mimetype": "text/x-python",
   "name": "python",
   "nbconvert_exporter": "python",
   "pygments_lexer": "ipython3",
   "version": "3.8.8"
  }
 },
 "nbformat": 4,
 "nbformat_minor": 5
}
