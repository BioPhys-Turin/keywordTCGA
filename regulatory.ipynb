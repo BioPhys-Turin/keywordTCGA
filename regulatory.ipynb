{
 "cells": [
  {
   "cell_type": "code",
   "execution_count": null,
   "id": "36dc6593",
   "metadata": {},
   "outputs": [],
   "source": [
    "%load_ext watermark\n",
    "%watermark -a Filippo_Valle -p pandas,numpy,graph_tool,cloudpickle -m -v -g"
   ]
  },
  {
   "cell_type": "code",
   "execution_count": null,
   "id": "d4e1d386",
   "metadata": {},
   "outputs": [],
   "source": [
    "import graph_tool.all as gt\n",
    "import pandas as pd\n",
    "import numpy as np\n",
    "import cloudpickle as pickle\n",
    "import sys\n",
    "sys.path.append(\"../trisbm\")\n",
    "from trisbm import trisbm"
   ]
  },
  {
   "cell_type": "code",
   "execution_count": null,
   "id": "228cd25e",
   "metadata": {},
   "outputs": [],
   "source": [
    "with open(\"brca/trisbm/model.pkl\", \"rb\") as file:\n",
    "    model = pickle.load(file)"
   ]
  },
  {
   "cell_type": "code",
   "execution_count": null,
   "id": "8e499d19",
   "metadata": {},
   "outputs": [],
   "source": [
    "#network_file = \"mirdip/HUMAN.mirDIP_top90k.Translated.tsv\"\n",
    "network_file = \"tarbase/HUMAN.TarBase.Translated.tsv\""
   ]
  },
  {
   "cell_type": "code",
   "execution_count": null,
   "id": "f785b81b",
   "metadata": {},
   "outputs": [],
   "source": [
    "df_net = pd.read_csv(\"../regulatory/\"+network_file, sep=\"\\t\", header=None)\n",
    "df_net[0]=[s.replace(\"miR\",\"mir\") for s in df_net[0]]\n",
    "df_conversion = pd.read_csv(\"miRNA.txt\")\n",
    "df_gene_conversion = pd.read_csv(\"https://www.genenames.org/cgi-bin/download/custom?col=gd_app_sym&col=gd_pub_ensembl_id&status=Approved&status=Entry%20Withdrawn&hgnc_dbtag=on&order_by=gd_app_sym_sort&format=text&submit=submit\", sep=\"\\t\").dropna(how=\"any\", axis=0)\n",
    "df_net = df_net[df_net[0].isin(model.keywords)]\n",
    "df_net = df_net[df_net[0].isin(df_conversion[\"miRBase ID\"])]\n",
    "df_net = df_net[df_net[1].isin(df_gene_conversion[\"Approved symbol\"])]\n",
    "df_gene_conversion = df_gene_conversion.set_index(\"Approved symbol\")"
   ]
  },
  {
   "cell_type": "code",
   "execution_count": null,
   "id": "02569e46",
   "metadata": {},
   "outputs": [],
   "source": [
    "vertexmap = {}\n",
    "for i,node in enumerate(np.concatenate((model.documents, model.words, model.keywords))):\n",
    "    vertexmap[node]=i"
   ]
  },
  {
   "cell_type": "code",
   "execution_count": null,
   "id": "fefeddec",
   "metadata": {},
   "outputs": [],
   "source": [
    "def get_regulatory_edge():\n",
    "    for mirna, target in df_net.values:\n",
    "        gene = df_gene_conversion.at[target, \"Ensembl gene ID\"]\n",
    "        if (mirna in model.keywords) and (gene in model.words):\n",
    "            #print(mirna, target, gene)\n",
    "            yield (vertexmap[mirna], vertexmap[gene], 1.)\n",
    "regulatory_edges = get_regulatory_edge()"
   ]
  },
  {
   "cell_type": "code",
   "execution_count": null,
   "id": "427d2d59",
   "metadata": {},
   "outputs": [],
   "source": [
    "print(model.g)\n",
    "model.g.save(\"tmp.xml.gz\") #need to be stored to remove edges later"
   ]
  },
  {
   "cell_type": "code",
   "execution_count": null,
   "id": "c06813cc",
   "metadata": {},
   "outputs": [],
   "source": [
    "model.g.add_edge_list(regulatory_edges, eprops=[model.g.ep[\"count\"]])"
   ]
  },
  {
   "cell_type": "code",
   "execution_count": null,
   "id": "c1fd07f3",
   "metadata": {},
   "outputs": [],
   "source": [
    "print(model.g)"
   ]
  },
  {
   "cell_type": "code",
   "execution_count": null,
   "id": "e7f8bd3b",
   "metadata": {},
   "outputs": [],
   "source": [
    "state = model.state.copy(g=model.g, bs=model.state.get_bs() + [np.zeros(1)] * 4, sampling = True)\n",
    "\n",
    "S1 = state.entropy()\n",
    "\n",
    "for i in range(100):\n",
    "    state.multiflip_mcmc_sweep(niter=10, beta=np.inf)\n",
    "    \n",
    "print(model.get_mdl(), S1, state.entropy())"
   ]
  },
  {
   "cell_type": "code",
   "execution_count": null,
   "id": "4c733005-2a73-4c03-bfbb-635e35bae4f1",
   "metadata": {},
   "outputs": [],
   "source": [
    "colmap = model.g.vertex_properties[\"color\"] = model.g.new_vertex_property(\"vector<double>\")\n",
    "#https://medialab.github.io/iwanthue/\n",
    "colors = [  [174,80,209],\n",
    "            [108,192,70],\n",
    "            [207, 170, 60],\n",
    "            [131,120,197],\n",
    "            [126,138,65],\n",
    "            [201,90,138],\n",
    "            [87,172,125],\n",
    "            [213,73,57],\n",
    "            [85,175,209],\n",
    "            [193,120,81]]\n",
    "for v in model.g.vertices():\n",
    "    k = model.g.vertex_properties['kind'][v]\n",
    "    if k < 10:\n",
    "        color = np.array(colors[k])/255.\n",
    "    else:\n",
    "        color = np.array([187, 129, 164])/255.\n",
    "    colmap[v] = color"
   ]
  },
  {
   "cell_type": "code",
   "execution_count": null,
   "id": "230b72e7-e711-4d60-8e03-67003887efef",
   "metadata": {},
   "outputs": [],
   "source": [
    "model.state.draw(\n",
    "     subsample_edges = 15000,\n",
    "     hedge_pen_width=8, \n",
    "     hvertex_size=25,\n",
    "     edge_pen_width = model.g.ep[\"count\"],\n",
    "     vertex_color=colmap,\n",
    "     vertex_fill_color=colmap,\n",
    "    output=\"tarbase.png\"\n",
    ")"
   ]
  },
  {
   "cell_type": "code",
   "execution_count": null,
   "id": "2c488e6f",
   "metadata": {},
   "outputs": [],
   "source": [
    "model.state = state\n",
    "model.g = gt.load_graph(\"tmp.xml.gz\")"
   ]
  },
  {
   "cell_type": "code",
   "execution_count": null,
   "id": "c6e7a62b",
   "metadata": {},
   "outputs": [],
   "source": [
    "import os"
   ]
  },
  {
   "cell_type": "code",
   "execution_count": null,
   "id": "e5113cbb",
   "metadata": {},
   "outputs": [],
   "source": [
    "# necessary to be compatible with older versions of trisbm\n",
    "model.nbranches = 1 # not stored in older versions\n",
    "model.keywords = [model.keywords] # new format\n",
    "model.groups = {} # should not be cached"
   ]
  },
  {
   "cell_type": "code",
   "execution_count": null,
   "id": "534013b7",
   "metadata": {
    "tags": []
   },
   "outputs": [],
   "source": [
    "os.chdir(\"brca\")\n",
    "os.system(\"rm -rf tarbase && mkdir -p tarbase\")\n",
    "os.chdir(\"tarbase\")\n",
    "os.system(\"mkdir -p trisbm\")\n",
    "os.chdir(\"trisbm\")\n",
    "model.save_data()\n",
    "model.dump_model()\n",
    "os.chdir(\"../../../\")"
   ]
  },
  {
   "cell_type": "code",
   "execution_count": null,
   "id": "17e12bb5",
   "metadata": {},
   "outputs": [],
   "source": [
    "os.chdir(\"../../\")"
   ]
  },
  {
   "cell_type": "code",
   "execution_count": null,
   "id": "ae7a8d75-a7ac-4aca-b693-ca82ac1efe83",
   "metadata": {},
   "outputs": [],
   "source": []
  }
 ],
 "metadata": {
  "kernelspec": {
   "display_name": "Python 3",
   "language": "python",
   "name": "python3"
  },
  "language_info": {
   "codemirror_mode": {
    "name": "ipython",
    "version": 3
   },
   "file_extension": ".py",
   "mimetype": "text/x-python",
   "name": "python",
   "nbconvert_exporter": "python",
   "pygments_lexer": "ipython3",
   "version": "3.8.8"
  }
 },
 "nbformat": 4,
 "nbformat_minor": 5
}
