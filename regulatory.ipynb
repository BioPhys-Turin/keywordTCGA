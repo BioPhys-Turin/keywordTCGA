{
 "cells": [
  {
   "cell_type": "code",
   "execution_count": 15,
   "id": "36dc6593",
   "metadata": {},
   "outputs": [
    {
     "name": "stdout",
     "output_type": "stream",
     "text": [
      "Author: Filippo_Valle\n",
      "\n",
      "Python implementation: CPython\n",
      "Python version       : 3.8.8\n",
      "IPython version      : 7.22.0\n",
      "\n",
      "pandas     : 1.2.3\n",
      "numpy      : 1.19.0\n",
      "graph_tool : 2.37 (commit afba9459, )\n",
      "cloudpickle: 1.6.0\n",
      "\n",
      "Compiler    : GCC 9.3.0\n",
      "OS          : Linux\n",
      "Release     : 5.11.0-16-generic\n",
      "Machine     : x86_64\n",
      "Processor   : x86_64\n",
      "CPU cores   : 12\n",
      "Architecture: 64bit\n",
      "\n",
      "Git hash: 5d27b88efae870eb8ba529aaac3fbde1772bb42e\n",
      "\n"
     ]
    }
   ],
   "source": [
    "%load_ext watermark\n",
    "%watermark -a Filippo_Valle -p pandas,numpy,graph_tool,cloudpickle -m -v -g"
   ]
  },
  {
   "cell_type": "code",
   "execution_count": null,
   "id": "d4e1d386",
   "metadata": {},
   "outputs": [],
   "source": [
    "import graph_tool.all as gt\n",
    "import pandas as pd\n",
    "import numpy as np\n",
    "import cloudpickle as pickle\n",
    "import sys\n",
    "sys.path.append(\"../trisbm\")\n",
    "from trisbm import trisbm"
   ]
  },
  {
   "cell_type": "code",
   "execution_count": null,
   "id": "228cd25e",
   "metadata": {},
   "outputs": [],
   "source": [
    "with open(\"brca/trisbm/model.pkl\", \"rb\") as file:\n",
    "    model = pickle.load(file)"
   ]
  },
  {
   "cell_type": "code",
   "execution_count": null,
   "id": "8e499d19",
   "metadata": {},
   "outputs": [],
   "source": [
    "#network_file = \"mirdip/HUMAN.mirDIP_top90k.Translated.tsv\"\n",
    "network_file = \"tarbase/HUMAN.TarBase.Translated.tsv\""
   ]
  },
  {
   "cell_type": "code",
   "execution_count": null,
   "id": "f785b81b",
   "metadata": {},
   "outputs": [],
   "source": [
    "df_net = pd.read_csv(\"../regulatory/\"+network_file, sep=\"\\t\", header=None)\n",
    "df_net[0]=[s.replace(\"miR\",\"mir\") for s in df_net[0]]\n",
    "df_conversion = pd.read_csv(\"miRNA.txt\")\n",
    "df_gene_conversion = pd.read_csv(\"https://www.genenames.org/cgi-bin/download/custom?col=gd_app_sym&col=gd_pub_ensembl_id&status=Approved&status=Entry%20Withdrawn&hgnc_dbtag=on&order_by=gd_app_sym_sort&format=text&submit=submit\", sep=\"\\t\").dropna(how=\"any\", axis=0)\n",
    "df_net = df_net[df_net[0].isin(model.keywords)]\n",
    "df_net = df_net[df_net[0].isin(df_conversion[\"miRBase ID\"])]\n",
    "df_net = df_net[df_net[1].isin(df_gene_conversion[\"Approved symbol\"])]\n",
    "df_gene_conversion = df_gene_conversion.set_index(\"Approved symbol\")"
   ]
  },
  {
   "cell_type": "code",
   "execution_count": null,
   "id": "02569e46",
   "metadata": {},
   "outputs": [],
   "source": [
    "vertexmap = {}\n",
    "for i,node in enumerate(np.concatenate((model.documents, model.words, model.keywords))):\n",
    "    vertexmap[node]=i"
   ]
  },
  {
   "cell_type": "code",
   "execution_count": null,
   "id": "fefeddec",
   "metadata": {},
   "outputs": [],
   "source": [
    "def get_regulatory_edge():\n",
    "    for mirna, target in df_net.values:\n",
    "        gene = df_gene_conversion.at[target, \"Ensembl gene ID\"]\n",
    "        if (mirna in model.keywords) and (gene in model.words):\n",
    "            #print(mirna, target, gene)\n",
    "            yield (vertexmap[mirna], vertexmap[gene], 1.)\n",
    "regulatory_edges = get_regulatory_edge()"
   ]
  },
  {
   "cell_type": "code",
   "execution_count": null,
   "id": "427d2d59",
   "metadata": {},
   "outputs": [],
   "source": [
    "print(model.g)\n",
    "model.g.save(\"tmp.xml.gz\") #need to be stored to remove edges later"
   ]
  },
  {
   "cell_type": "code",
   "execution_count": null,
   "id": "c06813cc",
   "metadata": {},
   "outputs": [],
   "source": [
    "model.g.add_edge_list(regulatory_edges, eprops=[model.g.ep[\"count\"]])"
   ]
  },
  {
   "cell_type": "code",
   "execution_count": null,
   "id": "c1fd07f3",
   "metadata": {},
   "outputs": [],
   "source": [
    "print(model.g)"
   ]
  },
  {
   "cell_type": "code",
   "execution_count": null,
   "id": "e7f8bd3b",
   "metadata": {},
   "outputs": [],
   "source": [
    "state = model.state.copy(g=model.g, bs=model.state.get_bs() + [np.zeros(1)] * 4, sampling = True)\n",
    "\n",
    "S1 = state.entropy()\n",
    "\n",
    "for i in range(100):\n",
    "    state.multiflip_mcmc_sweep(niter=10, beta=np.inf)\n",
    "    \n",
    "print(model.get_mdl(), S1, state.entropy())"
   ]
  },
  {
   "cell_type": "code",
   "execution_count": null,
   "id": "2c488e6f",
   "metadata": {},
   "outputs": [],
   "source": [
    "model.state = state\n",
    "model.g = gt.load_graph(\"tmp.xml.gz\")"
   ]
  },
  {
   "cell_type": "code",
   "execution_count": null,
   "id": "c6e7a62b",
   "metadata": {},
   "outputs": [],
   "source": [
    "import os"
   ]
  },
  {
   "cell_type": "code",
   "execution_count": null,
   "id": "e5113cbb",
   "metadata": {},
   "outputs": [],
   "source": [
    "# necessary to be compatible with older versions of trisbm\n",
    "model.nbranches = 1 # not stored in older versions\n",
    "model.keywords = [model.keywords] # new format\n",
    "model.groups = {} # should not be cached"
   ]
  },
  {
   "cell_type": "code",
   "execution_count": null,
   "id": "534013b7",
   "metadata": {},
   "outputs": [],
   "source": [
    "os.chdir(\"brca\")\n",
    "os.system(\"rm -rf tarbase && mkdir -p tarbase\")\n",
    "os.chdir(\"tarbase\")\n",
    "os.system(\"mkdir -p trisbm\")\n",
    "os.chdir(\"trisbm\")\n",
    "model.save_data()\n",
    "os.chdir(\"../../../\")"
   ]
  },
  {
   "cell_type": "code",
   "execution_count": null,
   "id": "17e12bb5",
   "metadata": {},
   "outputs": [],
   "source": [
    "os.chdir(\"../../\")"
   ]
  },
  {
   "cell_type": "code",
   "execution_count": null,
   "id": "3fbb9a83",
   "metadata": {},
   "outputs": [],
   "source": []
  }
 ],
 "metadata": {
  "kernelspec": {
   "display_name": "Python 3",
   "language": "python",
   "name": "python3"
  },
  "language_info": {
   "codemirror_mode": {
    "name": "ipython",
    "version": 3
   },
   "file_extension": ".py",
   "mimetype": "text/x-python",
   "name": "python",
   "nbconvert_exporter": "python",
   "pygments_lexer": "ipython3",
   "version": "3.8.8"
  }
 },
 "nbformat": 4,
 "nbformat_minor": 5
}
