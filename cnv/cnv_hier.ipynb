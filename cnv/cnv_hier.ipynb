{
 "cells": [
  {
   "cell_type": "code",
   "execution_count": null,
   "id": "78a60933",
   "metadata": {},
   "outputs": [],
   "source": [
    "import pandas as pd\n",
    "import numpy as np\n",
    "from sklearn.cluster import AgglomerativeClustering\n",
    "from scipy.cluster.hierarchy import dendrogram, linkage"
   ]
  },
  {
   "cell_type": "code",
   "execution_count": null,
   "id": "0a90327f",
   "metadata": {},
   "outputs": [],
   "source": [
    "df = pd.read_csv(\"../mainTable_cnv.csv\", index_col=0).fillna(0).astype(int)\n",
    "df.head()"
   ]
  },
  {
   "cell_type": "code",
   "execution_count": null,
   "id": "488efb82",
   "metadata": {},
   "outputs": [],
   "source": [
    "model = AgglomerativeClustering(n_clusters=50,\n",
    "                               affinity=\"euclidean\",\n",
    "                                linkage=\"ward\")"
   ]
  },
  {
   "cell_type": "code",
   "execution_count": null,
   "id": "29fe0a20",
   "metadata": {},
   "outputs": [],
   "source": [
    "topics = model.fit_predict(df.values)"
   ]
  },
  {
   "cell_type": "code",
   "execution_count": null,
   "id": "bc5721c1",
   "metadata": {},
   "outputs": [],
   "source": [
    "for t in np.unique(topics):\n",
    "    n_genes = len(df.index[topics==t])\n",
    "    if n_genes < 100:\n",
    "        print(t)\n",
    "        for g in df.index[topics==t]:\n",
    "            print(g)"
   ]
  },
  {
   "cell_type": "code",
   "execution_count": null,
   "id": "aaef0143",
   "metadata": {},
   "outputs": [],
   "source": [
    "df.shape"
   ]
  }
 ],
 "metadata": {
  "kernelspec": {
   "display_name": "Python 3",
   "language": "python",
   "name": "python3"
  },
  "language_info": {
   "codemirror_mode": {
    "name": "ipython",
    "version": 3
   },
   "file_extension": ".py",
   "mimetype": "text/x-python",
   "name": "python",
   "nbconvert_exporter": "python",
   "pygments_lexer": "ipython3",
   "version": "3.8.5"
  }
 },
 "nbformat": 4,
 "nbformat_minor": 5
}
