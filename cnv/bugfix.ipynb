{
 "cells": [
  {
   "cell_type": "code",
   "execution_count": null,
   "id": "05c3867e",
   "metadata": {},
   "outputs": [],
   "source": [
    "import numpy as np\n",
    "import sys\n",
    "sys.path.append(\"../../hSBM_Topicmodel/\")\n",
    "%load_ext autoreload\n",
    "%autoreload 2\n",
    "from sbmtm import sbmtm\n",
    "import cloudpickle as pickle"
   ]
  },
  {
   "cell_type": "code",
   "execution_count": null,
   "id": "efcdd030",
   "metadata": {},
   "outputs": [],
   "source": [
    "with open(\"../brca/ssm/topsbm/topsbm.pkl\", \"rb\") as file:\n",
    "    model = pickle.load(file)"
   ]
  },
  {
   "cell_type": "code",
   "execution_count": null,
   "id": "8020e7e7",
   "metadata": {},
   "outputs": [],
   "source": [
    "import os\n",
    "os.chdir(\"../brca/ssm/\")"
   ]
  },
  {
   "cell_type": "code",
   "execution_count": null,
   "id": "9533cec0",
   "metadata": {},
   "outputs": [],
   "source": [
    "os.chdir(\"topsbm/\")"
   ]
  },
  {
   "cell_type": "code",
   "execution_count": null,
   "id": "84e96c53",
   "metadata": {},
   "outputs": [],
   "source": [
    "model.clusters()"
   ]
  },
  {
   "cell_type": "code",
   "execution_count": null,
   "id": "3c005886",
   "metadata": {},
   "outputs": [],
   "source": [
    "model.save_data()"
   ]
  },
  {
   "cell_type": "code",
   "execution_count": null,
   "id": "dfce0f3e",
   "metadata": {},
   "outputs": [],
   "source": []
  }
 ],
 "metadata": {
  "kernelspec": {
   "display_name": "Python 3",
   "language": "python",
   "name": "python3"
  },
  "language_info": {
   "codemirror_mode": {
    "name": "ipython",
    "version": 3
   },
   "file_extension": ".py",
   "mimetype": "text/x-python",
   "name": "python",
   "nbconvert_exporter": "python",
   "pygments_lexer": "ipython3",
   "version": "3.8.5"
  }
 },
 "nbformat": 4,
 "nbformat_minor": 5
}
