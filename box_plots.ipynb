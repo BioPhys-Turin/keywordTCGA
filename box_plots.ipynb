{
 "cells": [
  {
   "cell_type": "code",
   "execution_count": null,
   "id": "7c25557a",
   "metadata": {},
   "outputs": [],
   "source": [
    "%load_ext watermark\n",
    "%watermark -a Filippo_Valle -p pandas,seaborn,matplotlib,topicpy,sklearn,cloudpickle,plotly,nsbm -m -g -r -v"
   ]
  },
  {
   "cell_type": "code",
   "execution_count": null,
   "id": "4eea3516",
   "metadata": {},
   "outputs": [],
   "source": [
    "import pandas as pd\n",
    "import sys\n",
    "from topicpy.hsbmpy import get_file\n",
    "import seaborn as sns\n",
    "import matplotlib.pyplot as plt"
   ]
  },
  {
   "cell_type": "code",
   "execution_count": null,
   "id": "62b5d75c",
   "metadata": {},
   "outputs": [],
   "source": [
    "directory=\"brca/\"\n",
    "algorithm = \"trisbm\"\n",
    "l = 0"
   ]
  },
  {
   "cell_type": "code",
   "execution_count": null,
   "id": "9eea955a",
   "metadata": {},
   "outputs": [],
   "source": [
    "df_topics = pd.read_csv(\"%s/%s/%s_level_%d_topic-dist.csv\"%(directory,algorithm,algorithm,l))\n",
    "t_size = pd.read_csv(\"%s/%s/%s_level_%d_word-dist.csv\"%(directory,algorithm,algorithm,l), index_col=0).apply(lambda topic: sum((topic>0).astype(int))).mean()\n",
    "df_files = pd.read_csv(\"%s/files.dat\"%directory, index_col=0).dropna(how='all', axis=0)\n",
    "df_topics.set_index('doc', inplace=True)\n",
    "df_topics.insert(0,'tissue','')\n",
    "df_topics.drop('i_doc', axis=1, inplace=True)\n",
    "label = \"Subtype_Selected\"\n",
    "if label not in df_files.columns:\n",
    "    raise AttributeError(f\"{label} not valid. Available: {df_files.columns}\")\n",
    "print(\"Working at level %d with %d topics and average size: %d\"%(l,df_topics.shape[1]-1, round(t_size)))"
   ]
  },
  {
   "cell_type": "code",
   "execution_count": null,
   "id": "8bdfc2f2",
   "metadata": {},
   "outputs": [],
   "source": [
    "for sample in df_topics.index.values:\n",
    "    try:\n",
    "        df_topics.at[sample,'tissue']=(\"%s\"%(get_file(sample,df_files)[label]))\n",
    "    except:\n",
    "        print(*sys.exc_info())\n",
    "        print(sample)\n",
    "        df_topics.at[sample,'tissue']=\"unknown\""
   ]
  },
  {
   "cell_type": "code",
   "execution_count": null,
   "id": "348c7b3a",
   "metadata": {},
   "outputs": [],
   "source": [
    "df_cmap = df_topics.sort_values(by='tissue').set_index('tissue').transpose()\n",
    "df_cmap = df_cmap.subtract(df_cmap.mean(axis=1),axis=0)\n",
    "#create a color palette with the same number of colors as unique values in the Source column\n",
    "network_pal = sns.color_palette('husl',n_colors=len(df_cmap.columns))\n",
    "\n",
    "#Create a dictionary where the key is the category and the values are the\n",
    "#colors from the palette we just created\n",
    "network_lut = dict(zip(df_cmap.columns, network_pal))\n",
    "network_col = df_cmap.columns.map(network_lut)"
   ]
  },
  {
   "cell_type": "code",
   "execution_count": null,
   "id": "6c27afe1",
   "metadata": {},
   "outputs": [],
   "source": [
    "def get_box_data(topic):\n",
    "    box_data = []\n",
    "    tissues = df_cmap.columns.unique()\n",
    "    for tissue in tissues:\n",
    "        df_series = df_cmap.transpose().reset_index()[[\"tissue\",topic]]\n",
    "        df_series=df_series[df_series[\"tissue\"]==tissue]\n",
    "        box_data.append(df_series[topic].values)\n",
    "    return box_data, tissues"
   ]
  },
  {
   "cell_type": "code",
   "execution_count": null,
   "id": "f00ca964",
   "metadata": {},
   "outputs": [],
   "source": [
    "for topic in df_cmap.index: # all\n",
    "    box_data, tissues = get_box_data(topic)\n",
    "\n",
    "    fig, ax = plt.subplots(figsize=(18,15))\n",
    "    ax.boxplot(box_data, sym=\"o\", flierprops={\"c\":\"gray\", \"ms\":20, \"lw\":5}, boxprops = {\"lw\":10}, whiskerprops={\"lw\":2}, capprops={\"lw\":5}, medianprops={\"c\":\"red\", \"lw\":10})\n",
    "    #ax.violinplot(box_data)\n",
    "    \n",
    "    ax.tick_params(labelsize=35)\n",
    "    ax.set_title(topic, fontsize=35)\n",
    "\n",
    "    ax.set_xticklabels(tissues, rotation = 75)\n",
    "    ax.set_ylabel(\"Centered $P($topic $|$ sample$)$\", fontsize=35)\n",
    "\n",
    "    plt.tight_layout()\n",
    "    fig.savefig(f\"box_{algorithm}_{l}{topic}.pdf\")\n",
    "    plt.show()"
   ]
  },
  {
   "cell_type": "markdown",
   "id": "405e1cd7",
   "metadata": {},
   "source": [
    "# miRNA"
   ]
  },
  {
   "cell_type": "code",
   "execution_count": null,
   "id": "8773fa06",
   "metadata": {},
   "outputs": [],
   "source": [
    "df_topics = pd.read_csv(\"%s/%s/%s_level_%d_metadatum-dist.csv\"%(directory,algorithm,algorithm,l))\n",
    "t_size = pd.read_csv(\"%s/%s/%s_level_%d_keyword-dist.csv\"%(directory,algorithm,algorithm,l), index_col=0).apply(lambda topic: sum((topic>0).astype(int))).mean()\n",
    "df_files = pd.read_csv(\"%s/files.dat\"%directory, index_col=0).dropna(how='all', axis=0)\n",
    "df_topics.set_index('doc', inplace=True)\n",
    "df_topics.insert(0,'tissue','')\n",
    "df_topics.drop('i_doc', axis=1, inplace=True)\n",
    "label = \"Subtype_Selected\"\n",
    "if label not in df_files.columns:\n",
    "    raise AttributeError(f\"{label} not valid. Available: {df_files.columns}\")\n",
    "print(\"Working at level %d with %d topics and average size: %d\"%(l,df_topics.shape[1]-1, round(t_size)))"
   ]
  },
  {
   "cell_type": "code",
   "execution_count": null,
   "id": "fc83e03d",
   "metadata": {},
   "outputs": [],
   "source": [
    "for sample in df_topics.index.values:\n",
    "    try:\n",
    "        df_topics.at[sample,'tissue']=(\"%s\"%(get_file(sample,df_files)[label]))\n",
    "    except:\n",
    "        print(*sys.exc_info())\n",
    "        print(sample)\n",
    "        df_topics.at[sample,'tissue']=\"unknown\""
   ]
  },
  {
   "cell_type": "code",
   "execution_count": null,
   "id": "b23c5d07",
   "metadata": {},
   "outputs": [],
   "source": [
    "df_cmap = df_topics.sort_values(by='tissue').set_index('tissue').transpose()\n",
    "df_cmap = df_cmap.subtract(df_cmap.mean(axis=1),axis=0)\n",
    "#create a color palette with the same number of colors as unique values in the Source column\n",
    "network_pal = sns.color_palette('husl',n_colors=len(df_cmap.columns))\n",
    "\n",
    "#Create a dictionary where the key is the category and the values are the\n",
    "#colors from the palette we just created\n",
    "network_lut = dict(zip(df_cmap.columns, network_pal))\n",
    "network_col = df_cmap.columns.map(network_lut)"
   ]
  },
  {
   "cell_type": "code",
   "execution_count": null,
   "id": "0cf93850",
   "metadata": {},
   "outputs": [],
   "source": [
    "def get_box_data(topic):\n",
    "    box_data = []\n",
    "    tissues = df_cmap.columns.unique()\n",
    "    for tissue in tissues:\n",
    "        df_series = df_cmap.transpose().reset_index()[[\"tissue\",topic]]\n",
    "        df_series=df_series[df_series[\"tissue\"]==tissue]\n",
    "        box_data.append(df_series[topic].fillna(0).values)\n",
    "    return box_data, tissues"
   ]
  },
  {
   "cell_type": "code",
   "execution_count": null,
   "id": "151a844e",
   "metadata": {},
   "outputs": [],
   "source": [
    "for topic in df_cmap.index: # all\n",
    "    mitopic = \"miRNA-topic\"+topic.split(\" \")[1]\n",
    "    box_data, tissues = get_box_data(topic)\n",
    "\n",
    "    fig, ax = plt.subplots(figsize=(18,15))\n",
    "    ax.boxplot(box_data, sym=\"o\", flierprops={\"c\":\"gray\", \"ms\":20, \"lw\":5}, boxprops = {\"lw\":10}, whiskerprops={\"lw\":2}, capprops={\"lw\":5}, medianprops={\"c\":\"red\", \"lw\":10})\n",
    "    #ax.violinplot(box_data)\n",
    "    \n",
    "    ax.tick_params(labelsize=35)\n",
    "    ax.set_title(mitopic, fontsize=35)\n",
    "\n",
    "    ax.set_xticklabels(tissues, rotation = 75)\n",
    "    ax.set_ylabel(\"Centered $P($miRNA-topic $|$ sample$)$\", fontsize=35)\n",
    "\n",
    "    plt.tight_layout()\n",
    "    fig.savefig(f\"box_{algorithm}_{l}{mitopic}.pdf\")\n",
    "    plt.show()"
   ]
  },
  {
   "cell_type": "code",
   "execution_count": null,
   "id": "00d876b6",
   "metadata": {},
   "outputs": [],
   "source": []
  }
 ],
 "metadata": {
  "kernelspec": {
   "display_name": "Python 3",
   "language": "python",
   "name": "python3"
  },
  "language_info": {
   "codemirror_mode": {
    "name": "ipython",
    "version": 3
   },
   "file_extension": ".py",
   "mimetype": "text/x-python",
   "name": "python",
   "nbconvert_exporter": "python",
   "pygments_lexer": "ipython3",
   "version": "3.8.5"
  }
 },
 "nbformat": 4,
 "nbformat_minor": 5
}
