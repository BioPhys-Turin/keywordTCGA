{
 "cells": [
  {
   "cell_type": "code",
   "execution_count": null,
   "id": "06cebac8-716f-47c4-8894-f2b91e8a672c",
   "metadata": {},
   "outputs": [],
   "source": [
    "import pandas as pd\n",
    "import matplotlib.pyplot as plt"
   ]
  },
  {
   "cell_type": "code",
   "execution_count": null,
   "id": "3117ac43-f4c1-459d-b343-a75e23adb00d",
   "metadata": {},
   "outputs": [],
   "source": [
    "df_convert = pd.read_csv(\"https://www.genenames.org/cgi-bin/download/custom?col=gd_app_sym&col=gd_pub_ensembl_id&status=Approved&status=Entry%20Withdrawn&hgnc_dbtag=on&order_by=gd_app_sym_sort&format=text&submit=submit\", sep=\"\\t\", index_col=0)"
   ]
  },
  {
   "cell_type": "code",
   "execution_count": null,
   "id": "05b8a3bb-6a6b-4a4a-9bf0-f77c61ce4001",
   "metadata": {},
   "outputs": [],
   "source": [
    "df_gene_set = pd.read_csv(\"c14q32.txt\", skiprows=[1], index_col=0)\n",
    "df_gene_set = df_gene_set.join(df_convert)\n",
    "df_gene_set"
   ]
  },
  {
   "cell_type": "code",
   "execution_count": null,
   "id": "d84603b7-bfcc-4c14-8ead-3ad508da8687",
   "metadata": {},
   "outputs": [],
   "source": [
    "df_topics = pd.read_csv(\"brca/tetrasbm/trisbm/trisbm_level_0_kind_3_metadata.csv\")"
   ]
  },
  {
   "cell_type": "code",
   "execution_count": null,
   "id": "972eed02-c95c-4939-91fb-fe7e5c653a43",
   "metadata": {},
   "outputs": [],
   "source": [
    "df_topics = df_topics.astype(str).applymap(lambda g: g.replace(\"#\",\"\"))"
   ]
  },
  {
   "cell_type": "code",
   "execution_count": null,
   "id": "ae295fa6-8ddf-4b03-b739-4db8451a6be4",
   "metadata": {
    "tags": []
   },
   "outputs": [],
   "source": [
    "for topic in df_topics.columns:\n",
    "    print(topic, df_topics[topic].dropna().isin(df_gene_set.values.ravel()).sum())"
   ]
  },
  {
   "cell_type": "code",
   "execution_count": null,
   "id": "4c598df7-0c8b-41e8-b350-ca1692588a13",
   "metadata": {},
   "outputs": [],
   "source": [
    "df = pd.read_csv(\"mainTable_cnv.csv\", index_col=0)\n",
    "df = df[df.index.isin(df_gene_set.values.ravel())]\n",
    "fig, ax = plt.subplots()\n",
    "df.mean(1).hist(ax=ax)\n",
    "ax.set_xlabel(\"average cnv\")\n",
    "ax.set_ylabel(\"#\")\n",
    "ax.set_title(\"114 genes in gene set c14q32\")"
   ]
  },
  {
   "cell_type": "code",
   "execution_count": null,
   "id": "250e6c33-ca38-4d9c-b816-104d0e09fb07",
   "metadata": {},
   "outputs": [],
   "source": [
    "df.loc[df.index[df.mean(1)<2.5][0],:].hist()"
   ]
  },
  {
   "cell_type": "code",
   "execution_count": null,
   "id": "62aae33a-4f0c-431c-9dd7-c83e9aba50f8",
   "metadata": {},
   "outputs": [],
   "source": []
  }
 ],
 "metadata": {
  "kernelspec": {
   "display_name": "Python 3 (ipykernel)",
   "language": "python",
   "name": "python3"
  },
  "language_info": {
   "codemirror_mode": {
    "name": "ipython",
    "version": 3
   },
   "file_extension": ".py",
   "mimetype": "text/x-python",
   "name": "python",
   "nbconvert_exporter": "python",
   "pygments_lexer": "ipython3",
   "version": "3.8.5"
  }
 },
 "nbformat": 4,
 "nbformat_minor": 5
}
