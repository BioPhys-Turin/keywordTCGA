{
 "cells": [
  {
   "cell_type": "code",
   "execution_count": null,
   "id": "0384b355",
   "metadata": {},
   "outputs": [],
   "source": [
    "%load_ext watermark\n",
    "%watermark -a Filippo_Valle -p pandas,numpy,graph_tool,cloudpickle -m -v -g"
   ]
  },
  {
   "cell_type": "code",
   "execution_count": null,
   "id": "7e40e098",
   "metadata": {},
   "outputs": [],
   "source": [
    "import graph_tool.all as gt\n",
    "import pandas as pd\n",
    "import numpy as np\n",
    "import cloudpickle as pickle\n",
    "import sys\n",
    "sys.path.append(\"../trisbm\")\n",
    "from trisbm import trisbm\n",
    "import logging\n",
    "logger = logging.getLogger(\"cnv_linked\")\n",
    "hdl = logging.StreamHandler()\n",
    "hdl.setFormatter(logging.Formatter(\"%(asctime)s - %(message)s\"))\n",
    "logger.addHandler(hdl)\n",
    "logger.setLevel(logging.DEBUG)"
   ]
  },
  {
   "cell_type": "code",
   "execution_count": null,
   "id": "37315b77",
   "metadata": {},
   "outputs": [],
   "source": [
    "with open(\"brca/tetrasbm/trisbm/trisbm.pkl\", \"rb\") as file:\n",
    "    model = pickle.load(file)"
   ]
  },
  {
   "cell_type": "code",
   "execution_count": null,
   "id": "e8be8845",
   "metadata": {},
   "outputs": [],
   "source": [
    "vertexmap = {}\n",
    "for i,node in enumerate(np.concatenate((model.documents, model.words, *model.keywords))):\n",
    "    vertexmap[node]=i"
   ]
  },
  {
   "cell_type": "code",
   "execution_count": null,
   "id": "b2770104",
   "metadata": {},
   "outputs": [],
   "source": [
    "def get_regulatory_edge():\n",
    "    for gene in model.words:\n",
    "        for gene_cnv in model.keywords[1]:\n",
    "            if gene == gene_cnv[2:]:\n",
    "                yield (vertexmap[gene], vertexmap[gene_cnv], 1.)\n",
    "regulatory_edges = get_regulatory_edge()"
   ]
  },
  {
   "cell_type": "code",
   "execution_count": null,
   "id": "274962f0",
   "metadata": {},
   "outputs": [],
   "source": [
    "print(model.g)\n",
    "model.g.save(\"tmp.xml.gz\") #need to be stored to remove edges later"
   ]
  },
  {
   "cell_type": "code",
   "execution_count": null,
   "id": "29899226",
   "metadata": {},
   "outputs": [],
   "source": [
    "model.g.add_edge_list(regulatory_edges, eprops=[model.g.ep[\"count\"]])"
   ]
  },
  {
   "cell_type": "code",
   "execution_count": null,
   "id": "45703568",
   "metadata": {},
   "outputs": [],
   "source": [
    "print(model.g)"
   ]
  },
  {
   "cell_type": "code",
   "execution_count": null,
   "id": "9691d347",
   "metadata": {},
   "outputs": [],
   "source": [
    "state = model.state.levels[1].copy(g=model.g, bs=model.state.get_bs() + [np.zeros(1)] * 4 , sampling = True)\n",
    "\n",
    "S1 = state.entropy()\n",
    "\n",
    "for i in range(200):\n",
    "    logger.debug(i)\n",
    "    state.multiflip_mcmc_sweep(niter=50, beta=np.inf, verbose=True)\n",
    "    \n",
    "print(model.get_mdl(), S1, state.entropy())"
   ]
  },
  {
   "cell_type": "code",
   "execution_count": null,
   "id": "f9572706",
   "metadata": {},
   "outputs": [],
   "source": [
    "colmap = model.g.vertex_properties[\"color\"] = model.g.new_vertex_property(\"vector<double>\")\n",
    "#https://medialab.github.io/iwanthue/\n",
    "colors = [  [174,80,209],\n",
    "            [108,192,70],\n",
    "            [207, 170, 60],\n",
    "            [131,120,197],\n",
    "            [126,138,65],\n",
    "            [201,90,138],\n",
    "            [87,172,125],\n",
    "            [213,73,57],\n",
    "            [85,175,209],\n",
    "            [193,120,81]]\n",
    "for v in model.g.vertices():\n",
    "    k = model.g.vertex_properties['kind'][v]\n",
    "    if k < 10:\n",
    "        color = np.array(colors[k])/255.\n",
    "    else:\n",
    "        color = np.array([187, 129, 164])/255.\n",
    "    colmap[v] = color"
   ]
  },
  {
   "cell_type": "code",
   "execution_count": null,
   "id": "16141cee",
   "metadata": {},
   "outputs": [],
   "source": [
    "model.state.draw(\n",
    "     subsample_edges = 15000,\n",
    "     hedge_pen_width=8, \n",
    "     hvertex_size=25,\n",
    "     edge_pen_width = model.g.ep[\"count\"],\n",
    "     vertex_color=colmap,\n",
    "     vertex_fill_color=colmap,\n",
    "    output=\"cnv_linked.png\"\n",
    ")"
   ]
  },
  {
   "cell_type": "code",
   "execution_count": null,
   "id": "da84799d",
   "metadata": {},
   "outputs": [],
   "source": [
    "model.state.levels[1] = state\n",
    "model.g = gt.load_graph(\"tmp.xml.gz\")"
   ]
  },
  {
   "cell_type": "code",
   "execution_count": null,
   "id": "e75ff0b4",
   "metadata": {},
   "outputs": [],
   "source": [
    "import os"
   ]
  },
  {
   "cell_type": "code",
   "execution_count": null,
   "id": "cf47987c",
   "metadata": {
    "tags": []
   },
   "outputs": [],
   "source": [
    "os.chdir(\"brca\")\n",
    "os.system(\"rm -rf cnv_linked && mkdir -p cnv_linked\")\n",
    "os.chdir(\"cnv_linked\")\n",
    "os.system(\"mkdir -p trisbm\")\n",
    "os.chdir(\"trisbm\")\n",
    "model.save_data()\n",
    "model.dump_model()\n",
    "os.chdir(\"../../../\")"
   ]
  },
  {
   "cell_type": "code",
   "execution_count": null,
   "id": "ae97cbd8",
   "metadata": {},
   "outputs": [],
   "source": []
  }
 ],
 "metadata": {
  "kernelspec": {
   "display_name": "Python 3",
   "language": "python",
   "name": "python3"
  },
  "language_info": {
   "codemirror_mode": {
    "name": "ipython",
    "version": 3
   },
   "file_extension": ".py",
   "mimetype": "text/x-python",
   "name": "python",
   "nbconvert_exporter": "python",
   "pygments_lexer": "ipython3",
   "version": "3.8.5"
  }
 },
 "nbformat": 4,
 "nbformat_minor": 5
}
