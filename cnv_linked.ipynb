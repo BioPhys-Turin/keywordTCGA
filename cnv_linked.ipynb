{
 "cells": [
  {
   "cell_type": "code",
   "execution_count": 16,
   "id": "066af5e6",
   "metadata": {},
   "outputs": [
    {
     "name": "stdout",
     "output_type": "stream",
     "text": [
      "The watermark extension is already loaded. To reload it, use:\n",
      "  %reload_ext watermark\n",
      "Author: Filippo_Valle\n",
      "\n",
      "Python implementation: CPython\n",
      "Python version       : 3.8.5\n",
      "IPython version      : 7.18.1\n",
      "\n",
      "pandas     : 1.1.2\n",
      "numpy      : 1.19.1\n",
      "graph_tool : 2.43 (commit 5778eb10, )\n",
      "cloudpickle: 1.6.0\n",
      "\n",
      "Compiler    : GCC 7.3.0\n",
      "OS          : Linux\n",
      "Release     : 5.11.0-31-generic\n",
      "Machine     : x86_64\n",
      "Processor   : x86_64\n",
      "CPU cores   : 12\n",
      "Architecture: 64bit\n",
      "\n",
      "Git hash: f9cba0c099756c3f5e3ff57c4c8a908d2990f679\n",
      "\n"
     ]
    }
   ],
   "source": [
    "%load_ext watermark\n",
    "%watermark -a Filippo_Valle -p pandas,numpy,graph_tool,cloudpickle -m -v -g"
   ]
  },
  {
   "cell_type": "code",
   "execution_count": null,
   "id": "6646e349",
   "metadata": {},
   "outputs": [],
   "source": [
    "import graph_tool.all as gt\n",
    "import pandas as pd\n",
    "import numpy as np\n",
    "import cloudpickle as pickle\n",
    "import sys\n",
    "sys.path.append(\"../trisbm\")\n",
    "from trisbm import trisbm\n",
    "import logging\n",
    "logger = logging.getLogger(\"cnv_linked\")\n",
    "hdl = logging.StreamHandler()\n",
    "hdl.setFormatter(logging.Formatter(\"%(asctime)s - %(message)s\"))\n",
    "logger.addHandler(hdl)\n",
    "logger.setLevel(logging.DEBUG)"
   ]
  },
  {
   "cell_type": "code",
   "execution_count": null,
   "id": "67b1121a",
   "metadata": {},
   "outputs": [],
   "source": [
    "with open(\"brca/tetrasbm/trisbm/trisbm.pkl\", \"rb\") as file:\n",
    "    model = pickle.load(file)"
   ]
  },
  {
   "cell_type": "code",
   "execution_count": null,
   "id": "cd0de77d",
   "metadata": {},
   "outputs": [],
   "source": [
    "vertexmap = {}\n",
    "for i,node in enumerate(np.concatenate((model.documents, model.words, *model.keywords))):\n",
    "    vertexmap[node]=i"
   ]
  },
  {
   "cell_type": "code",
   "execution_count": null,
   "id": "4e4045fd",
   "metadata": {},
   "outputs": [],
   "source": [
    "def get_regulatory_edge():\n",
    "    for gene in model.words:\n",
    "        for gene_cnv in model.keywords[1]:\n",
    "            if gene == gene_cnv[2:]:\n",
    "                yield (vertexmap[gene], vertexmap[gene_cnv], 100.)\n",
    "regulatory_edges = get_regulatory_edge()"
   ]
  },
  {
   "cell_type": "code",
   "execution_count": null,
   "id": "d25e4070",
   "metadata": {},
   "outputs": [],
   "source": [
    "print(model.g)\n",
    "model.g.save(\"tmp.xml.gz\") #need to be stored to remove edges later"
   ]
  },
  {
   "cell_type": "code",
   "execution_count": null,
   "id": "2d8ecff7",
   "metadata": {},
   "outputs": [],
   "source": [
    "model.g.add_edge_list(regulatory_edges, eprops=[model.g.ep[\"count\"]])"
   ]
  },
  {
   "cell_type": "code",
   "execution_count": null,
   "id": "ad09caa3",
   "metadata": {},
   "outputs": [],
   "source": [
    "print(model.g)"
   ]
  },
  {
   "cell_type": "code",
   "execution_count": null,
   "id": "53fa6708",
   "metadata": {},
   "outputs": [],
   "source": [
    "states = []\n",
    "\n",
    "for level in model.state.levels:\n",
    "    state = level.copy(g=model.g, bs=model.state.get_bs() + [np.zeros(1)] * 4 , sampling = True)\n",
    "\n",
    "    S1 = state.entropy()\n",
    "\n",
    "    for i in range(25):\n",
    "        logger.debug(i)\n",
    "        state.multiflip_mcmc_sweep(niter=50, beta=np.inf, verbose=True)\n",
    "    \n",
    "    print(model.get_mdl(), S1, state.entropy())\n",
    "    \n",
    "    states.append(state)"
   ]
  },
  {
   "cell_type": "code",
   "execution_count": null,
   "id": "3f3e7a3a",
   "metadata": {},
   "outputs": [],
   "source": [
    "model.state = gt.NestedBlockState(g = model.g, bs = [state.b for state in states])\n",
    "model.g = gt.load_graph(\"tmp.xml.gz\")\n",
    "model.groups = {} #clean cache"
   ]
  },
  {
   "cell_type": "code",
   "execution_count": null,
   "id": "b9ff9905",
   "metadata": {},
   "outputs": [],
   "source": [
    "model.state.levels"
   ]
  },
  {
   "cell_type": "code",
   "execution_count": null,
   "id": "99911429",
   "metadata": {},
   "outputs": [],
   "source": [
    "import os"
   ]
  },
  {
   "cell_type": "code",
   "execution_count": null,
   "id": "4ea7a263",
   "metadata": {
    "tags": []
   },
   "outputs": [],
   "source": [
    "os.chdir(\"brca\")\n",
    "os.system(\"rm -rf cnv_linked && mkdir -p cnv_linked\")\n",
    "os.chdir(\"cnv_linked\")\n",
    "os.system(\"mkdir -p trisbm\")\n",
    "os.chdir(\"trisbm\")\n",
    "model.save_data()\n",
    "model.dump_model()\n",
    "os.chdir(\"../../../\")"
   ]
  },
  {
   "cell_type": "code",
   "execution_count": null,
   "id": "f02807c8",
   "metadata": {},
   "outputs": [],
   "source": [
    "pd.read_csv(\"brca/cnv_linked/trisbm/trisbm_level_1_clusters.csv\")"
   ]
  },
  {
   "cell_type": "code",
   "execution_count": null,
   "id": "7de83178",
   "metadata": {},
   "outputs": [],
   "source": [
    "pd.read_csv(\"brca/tetrasbm/trisbm/trisbm_level_1_clusters.csv\")"
   ]
  },
  {
   "cell_type": "code",
   "execution_count": null,
   "id": "12227bed",
   "metadata": {},
   "outputs": [],
   "source": []
  }
 ],
 "metadata": {
  "kernelspec": {
   "display_name": "Python 3",
   "language": "python",
   "name": "python3"
  },
  "language_info": {
   "codemirror_mode": {
    "name": "ipython",
    "version": 3
   },
   "file_extension": ".py",
   "mimetype": "text/x-python",
   "name": "python",
   "nbconvert_exporter": "python",
   "pygments_lexer": "ipython3",
   "version": "3.8.5"
  }
 },
 "nbformat": 4,
 "nbformat_minor": 5
}
