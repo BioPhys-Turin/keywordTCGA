{
 "cells": [
  {
   "cell_type": "code",
   "execution_count": 65,
   "id": "7d0c052c-4c64-4d4a-90eb-2b5c257f863c",
   "metadata": {},
   "outputs": [
    {
     "name": "stdout",
     "output_type": "stream",
     "text": [
      "The watermark extension is already loaded. To reload it, use:\n",
      "  %reload_ext watermark\n",
      "Author: Filippo_Valle\n",
      "\n",
      "pandas    : 1.3.3\n",
      "numpy     : 1.20.3\n",
      "matplotlib: 3.4.3\n",
      "seaborn   : 0.11.2\n",
      "\n",
      "Compiler    : GCC 7.3.0\n",
      "OS          : Linux\n",
      "Release     : 5.11.0-36-generic\n",
      "Machine     : x86_64\n",
      "Processor   : x86_64\n",
      "CPU cores   : 12\n",
      "Architecture: 64bit\n",
      "\n",
      "Git hash: 08bdb1223c3304a6222c0e5826a5958072b1e2be\n",
      "\n",
      "Git repo: git@github.com:fvalle1/keywordTCGA.git\n",
      "\n"
     ]
    }
   ],
   "source": [
    "%load_ext watermark\n",
    "%watermark -a Filippo_Valle -p pandas,numpy,matplotlib,seaborn -m -r -g"
   ]
  },
  {
   "cell_type": "code",
   "execution_count": null,
   "id": "15c7e80e-b483-46a6-ae6f-9896b058d840",
   "metadata": {},
   "outputs": [],
   "source": [
    "import pandas as pd\n",
    "import numpy as np\n",
    "import matplotlib.pyplot as plt\n",
    "import seaborn as sns"
   ]
  },
  {
   "cell_type": "code",
   "execution_count": null,
   "id": "d8c9e16d-2277-437b-84d0-c6dd14208c41",
   "metadata": {},
   "outputs": [],
   "source": [
    "df_clusters = pd.read_excel(\"https://github.com/BioPhys-Turin/Supplementary_miRNA_cluster/blob/master/conversion_file.xlsx?raw=true\").set_index(\"MiRNA cluster ID\").drop(\"# miRNAs\", axis=1)"
   ]
  },
  {
   "cell_type": "code",
   "execution_count": null,
   "id": "5c2bdcd3-3993-4881-a375-43520a2ed684",
   "metadata": {},
   "outputs": [],
   "source": [
    "df_topics = pd.read_csv(\"brca/trisbm/trisbm_level_0_metadata.csv\")"
   ]
  },
  {
   "cell_type": "code",
   "execution_count": null,
   "id": "d3b2ecb8-d8dc-40e0-9b91-5fe3d23baab2",
   "metadata": {},
   "outputs": [],
   "source": [
    "df_clusters"
   ]
  },
  {
   "cell_type": "code",
   "execution_count": null,
   "id": "fc0c3009-f12f-48b9-85dc-8ab4af1140db",
   "metadata": {},
   "outputs": [],
   "source": [
    "df_mirnas = pd.DataFrame(data=df_topics.values.ravel()).dropna().set_index(0)\n",
    "df_mirnas[\"cluster\"]=\"\"\n",
    "df_mirnas[\"topic\"]=\"\"\n",
    "df_mirnas[\"count\"]=1"
   ]
  },
  {
   "cell_type": "code",
   "execution_count": null,
   "id": "6e4cc9ea-06a9-439b-a6d7-77cc8f3a0150",
   "metadata": {},
   "outputs": [],
   "source": [
    "df_cluster_assignment = pd.DataFrame()\n",
    "for cluster in df_clusters.index:\n",
    "    data = list(map(lambda mir: mir.replace(\"miR\",\"mir\"),df_clusters.loc[cluster,:].dropna().values))\n",
    "    for mirna in data:\n",
    "        if mirna in df_mirnas.index:\n",
    "            df_mirnas.at[mirna,\"cluster\"]=cluster"
   ]
  },
  {
   "cell_type": "code",
   "execution_count": null,
   "id": "e848ff65-8950-471f-87eb-8a7a221be83d",
   "metadata": {},
   "outputs": [],
   "source": [
    "for topic in df_topics.columns:\n",
    "    data = df_topics[topic].dropna().values\n",
    "    for mirna in data:\n",
    "        if mirna in df_mirnas.index:\n",
    "            df_mirnas.at[mirna,\"topic\"]=topic"
   ]
  },
  {
   "cell_type": "code",
   "execution_count": null,
   "id": "bd98e1d2-ab48-4cda-89b0-cbebb590fded",
   "metadata": {},
   "outputs": [],
   "source": [
    "df_mirnas = df_mirnas[df_mirnas[\"cluster\"]!=\"\"]"
   ]
  },
  {
   "cell_type": "code",
   "execution_count": null,
   "id": "56828d51-00ad-47ef-abea-eea5d83f6b67",
   "metadata": {},
   "outputs": [],
   "source": [
    "df_mirnas.to_csv(\"cantini2019/files.dat\")"
   ]
  },
  {
   "cell_type": "code",
   "execution_count": null,
   "id": "de19ddd2-df03-420e-92e9-362c5fa9622c",
   "metadata": {},
   "outputs": [],
   "source": [
    "df_over = df_mirnas.groupby([\"topic\",\"cluster\"]).count()\n",
    "df_over[df_over[\"count\"]>1]"
   ]
  },
  {
   "cell_type": "code",
   "execution_count": null,
   "id": "45fc1184-8249-40c5-8eb6-ee64ea7b7244",
   "metadata": {},
   "outputs": [],
   "source": [
    "df_mirnas[(df_mirnas[\"topic\"]==\"Metadatum 7\") & (df_mirnas[\"cluster\"]==\"cl349_chr14\")].index"
   ]
  },
  {
   "cell_type": "code",
   "execution_count": null,
   "id": "4935bf02-934b-4d43-aab6-de91b156c140",
   "metadata": {},
   "outputs": [],
   "source": [
    "from topicpy.hypergeom import parameters_for_hypergeometric, build_map, plot_map"
   ]
  },
  {
   "cell_type": "code",
   "execution_count": null,
   "id": "4c2ebff6-665f-4e04-8644-60a336a04565",
   "metadata": {},
   "outputs": [],
   "source": [
    "df_pvals = build_map(*parameters_for_hypergeometric(df_mirnas[\"topic\"], df_mirnas[\"cluster\"]), True)\n",
    "#.applymap(lambda log: np.log2(10)*log)\n",
    "df_pvals.index = df_mirnas[\"topic\"].unique()\n",
    "df_pvals.columns = df_mirnas[\"cluster\"].unique()"
   ]
  },
  {
   "cell_type": "code",
   "execution_count": null,
   "id": "ed11ac3a-a9ff-4350-b2ba-db7d347a2f6c",
   "metadata": {},
   "outputs": [],
   "source": [
    "df_pvals.loc[\"Metadatum 7\", \"cl349_chr14\"], df_pvals.loc[\"Metadatum 11\", \"cl590_chr19\"]"
   ]
  },
  {
   "cell_type": "code",
   "execution_count": null,
   "id": "3cd77e5d-f1ad-456e-8994-800a9c87242a",
   "metadata": {},
   "outputs": [],
   "source": [
    "from sklearn.metrics import adjusted_mutual_info_score"
   ]
  },
  {
   "cell_type": "code",
   "execution_count": null,
   "id": "ff6ea26c-6197-4de7-94f8-6ffb43b85933",
   "metadata": {},
   "outputs": [],
   "source": [
    "adjusted_mutual_info_score(df_mirnas[\"topic\"].values, df_mirnas[\"cluster\"].values)"
   ]
  },
  {
   "cell_type": "code",
   "execution_count": null,
   "id": "3615aab9-8f6d-449f-9e1f-01af9f54ef63",
   "metadata": {},
   "outputs": [],
   "source": [
    "network_pal = sns.color_palette('husl', n_colors=len(df_pvals.columns))\n",
    "\n",
    "# Create a dictionary where the key is the category and the values are the\n",
    "# colors from the palette we just created\n",
    "network_lut = dict(zip(df_pvals.columns, network_pal))\n",
    "network_col = df_pvals.columns.map(network_lut)\n",
    "# Create a dictionary where the key is the category and the values are the\n",
    "# colors from the palette we just created\n",
    "network_lut = dict(zip(df_pvals.columns, network_pal))\n",
    "network_col = df_pvals.columns.map(network_lut)\n",
    "\n",
    "cm = sns.clustermap(df_pvals,\n",
    "                    row_cluster=False,\n",
    "                    col_cluster=False,\n",
    "                    metric='euclidean',\n",
    "                    vmin=0,\n",
    "                    vmax=30,\n",
    "                    cmap='Blues_r',\n",
    "                    col_colors=network_col,\n",
    "                    mask=False,\n",
    "                    cbar_pos=(1.05, 0.05, 0.05, 0.7))\n",
    "\n",
    "ax = cm.ax_heatmap\n",
    "ax.tick_params(labelsize=15)\n",
    "\n",
    "ax.set_ylabel(\"miRNA-topic\", fontsize=35)\n",
    "ax.set_xlabel(\"cluster\", fontsize=35)\n",
    "ax.set_xticklabels(df_pvals.columns, rotation=75)\n",
    "ax.yaxis.tick_left()\n",
    "ax.yaxis.set_label_position(\"left\")\n",
    "ax.set_yticklabels(df_pvals.index, rotation=0)\n",
    "\n",
    "cax = cm.ax_cbar\n",
    "cax.tick_params(labelsize=35)\n",
    "cax.set_title(\"-Log2(P-value)\", fontsize=30)\n",
    "\n",
    "# plt.tight_layout()\n",
    "\n",
    "#cm.fig.suptitle('Algorithm comparison', fontsize=40)\n",
    "#cm.savefig(f\"topics_logp_{first_name}_{last_name}.pdf\")\n",
    "plt.show()"
   ]
  },
  {
   "cell_type": "code",
   "execution_count": null,
   "id": "4c53642c-d062-4944-98cc-c711ab747892",
   "metadata": {},
   "outputs": [],
   "source": [
    "#from topicpy.hsbmpy import clusteranalysis\n",
    "#clusteranalysis(\"cantini2019/\", [\"cluster\"], \"trisbm\")"
   ]
  }
 ],
 "metadata": {
  "kernelspec": {
   "display_name": "Python 3 (ipykernel)",
   "language": "python",
   "name": "python3"
  },
  "language_info": {
   "codemirror_mode": {
    "name": "ipython",
    "version": 3
   },
   "file_extension": ".py",
   "mimetype": "text/x-python",
   "name": "python",
   "nbconvert_exporter": "python",
   "pygments_lexer": "ipython3",
   "version": "3.8.5"
  }
 },
 "nbformat": 4,
 "nbformat_minor": 5
}
