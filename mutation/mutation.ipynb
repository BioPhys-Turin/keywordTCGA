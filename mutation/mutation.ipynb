{
 "cells": [
  {
   "cell_type": "code",
   "execution_count": null,
   "id": "d3a45f72",
   "metadata": {},
   "outputs": [],
   "source": [
    "import pandas as pd\n",
    "import numpy as np\n",
    "import os\n",
    "import matplotlib.pyplot as plt\n",
    "import requests\n",
    "import json\n",
    "import logging\n",
    "log = logging.getLogger(\"mutations\")\n",
    "log.addHandler(logging.StreamHandler())\n",
    "log.setLevel(logging.DEBUG)"
   ]
  },
  {
   "cell_type": "code",
   "execution_count": null,
   "id": "21e76914-e21d-4d20-9cdb-c7acdbe29b5c",
   "metadata": {},
   "outputs": [],
   "source": [
    "case_set = pd.read_csv(\"../keywordTCGA/brca/tetrasbm/trisbm/trisbm_level_0_topic-dist.csv\")[\"doc\"].values"
   ]
  },
  {
   "cell_type": "markdown",
   "id": "5dd0cd43",
   "metadata": {},
   "source": [
    "## Search"
   ]
  },
  {
   "cell_type": "code",
   "execution_count": null,
   "id": "79f248d1",
   "metadata": {},
   "outputs": [],
   "source": [
    "filters = {\n",
    "    \"op\": \"and\",\n",
    "    \"content\":[\n",
    "        {\n",
    "        \"op\": \"in\",\n",
    "        \"content\":{\n",
    "            \"field\": \"files.data_format\",\n",
    "            \"value\": [\"TXT\"]\n",
    "            }\n",
    "        },\n",
    "        {\n",
    "        \"op\": \"in\",\n",
    "        \"content\":{\n",
    "            \"field\": \"cases.project.project_id\",\n",
    "            \"value\": ['TCGA-BRCA']\n",
    "            }\n",
    "        },\n",
    "        {\n",
    "        \"op\": \"in\",\n",
    "        \"content\":{\n",
    "            \"field\": \"cases.project.program.name\",\n",
    "            \"value\": [\"TCGA\"]\n",
    "            }\n",
    "        },\n",
    "        #{\n",
    "        #\"op\":\"in\",\n",
    "        #\"content\":{  \n",
    "        #    \"field\":\"case.submitter_id\",\n",
    "        #    \"value\": list(case_set[:100])\n",
    "        #   } \n",
    "        #}\n",
    "    ]\n",
    "}"
   ]
  },
  {
   "cell_type": "code",
   "execution_count": null,
   "id": "183f4842",
   "metadata": {},
   "outputs": [],
   "source": [
    "def get_gene_from_ssm_id(ssm):\n",
    "    response = requests.get(f'https://api.gdc.cancer.gov/ssms/{ssm}?pretty=true&expand=consequence.gene')\n",
    "    ret = response.json()\n",
    "    if len(ret[\"data\"][\"gene_aa_change\"]) < 1:\n",
    "        return None\n",
    "    return ret[\"data\"][\"gene_aa_change\"][0].split(\" \")[0]"
   ]
  },
  {
   "cell_type": "code",
   "execution_count": null,
   "id": "93255e56-eed6-44d7-9096-bb91d5b4baec",
   "metadata": {},
   "outputs": [],
   "source": [
    "def get_filters(cases):\n",
    "    return { \"op\": \"and\",\n",
    "                \"content\":\n",
    "                [\n",
    "                    {\n",
    "                    \"op\":\"in\",\n",
    "                    \"content\":{  \n",
    "                        \"field\":\"case.submitter_id\",\n",
    "                        \"value\": list(cases)\n",
    "                       }\n",
    "                    }\n",
    "                ]\n",
    "            }"
   ]
  },
  {
   "cell_type": "code",
   "execution_count": null,
   "id": "8d9a04b5-320f-4568-a45b-05ae4018d6ef",
   "metadata": {},
   "outputs": [],
   "source": [
    "def append_case(case_series):\n",
    "    global df_ssm\n",
    "    if (case_series is not None):\n",
    "        log.debug(case_series.name)\n",
    "        df_ssm = df_ssm.join(case_series, how=\"outer\")\n",
    "        \n",
    "def get_case_series(case):\n",
    "    try:\n",
    "        params = {\n",
    "            \"filters\": json.dumps(get_filters([case])),\n",
    "            \"format\": \"TSV\",\n",
    "            \"size\": \"50000\"\n",
    "            }\n",
    "        response = requests.get(\"https://api.gdc.cancer.gov/ssm_occurrences?expand=ssm\", headers = {\"Content-Type\": \"application/json\"}, params = params)\n",
    "        data = [row.replace(\"\\r\",\"\").split(\"\\t\") for row in response.content.decode(\"utf-8\").split(\"\\n\")]\n",
    "        df_case_ssm_occurrences = pd.DataFrame(columns = data[0], data=data[1:-1]).dropna(how=\"all\", axis=0)\n",
    "        #return  pd.Series(name=case, index = list(map(get_gene_from_ssm_id,df_case_ssm_occurrences[\"ssm.ssm_id\"])), data=1)\n",
    "        return  pd.Series(name=case, index = df_case_ssm_occurrences[\"ssm.ssm_id\"], data=1)\n",
    "    except:\n",
    "        return None"
   ]
  },
  {
   "cell_type": "code",
   "execution_count": null,
   "id": "4b4e85a7-ed75-4da6-b894-5cdcd8c311ad",
   "metadata": {},
   "outputs": [],
   "source": [
    "get_case_series(case_set[0])"
   ]
  },
  {
   "cell_type": "code",
   "execution_count": null,
   "id": "bfdf890c-284d-469d-b37c-ddd53e901eb8",
   "metadata": {},
   "outputs": [],
   "source": [
    "df_ssm = pd.DataFrame()\n",
    "append_case(get_case_series(case_set[0]))\n",
    "df_ssm"
   ]
  },
  {
   "cell_type": "code",
   "execution_count": null,
   "id": "96324334",
   "metadata": {
    "tags": []
   },
   "outputs": [],
   "source": [
    "import multiprocessing as mp\n",
    "from time import time\n",
    "\n",
    "df_ssm = pd.DataFrame()\n",
    "\n",
    "start = time()\n",
    "\n",
    "poolssm = mp.Pool(12)\n",
    "wssm = [\n",
    "    poolssm.apply_async(get_case_series, args=([case]), callback=append_case, error_callback=log.error)\n",
    "    for case in case_set]\n",
    "poolssm.close()\n",
    "\n",
    "poolssm.join()\n",
    "\n",
    "df_ssm = df_ssm[~df_ssm.index.isna()]\n",
    "df_ssm = df_ssm[df_ssm.apply(np.nansum, 1)>1].fillna(0).astype(int)\n",
    "\n",
    "time()-start"
   ]
  },
  {
   "cell_type": "code",
   "execution_count": null,
   "id": "2fff34bc",
   "metadata": {},
   "outputs": [],
   "source": [
    "df_ssm.to_csv(\"../keywordTCGA/mainTable_ssm.csv\")"
   ]
  },
  {
   "cell_type": "code",
   "execution_count": null,
   "id": "9a66dc2a-e0cd-424a-b7cd-f292d757fbba",
   "metadata": {},
   "outputs": [],
   "source": [
    "import matplotlib.pyplot as plt\n",
    "fig, ax = plt.subplots()\n",
    "df_ssm.mean(1).sort_values(ascending=False).plot(ax=ax)\n",
    "ax.plot([1,1000], [0.06,6e-2*(1000**-0.55)])\n",
    "ax.set_xscale(\"log\")\n",
    "ax.set_yscale(\"log\")"
   ]
  },
  {
   "cell_type": "code",
   "execution_count": null,
   "id": "3538eb43-9329-4b7a-ac69-859fc725d016",
   "metadata": {},
   "outputs": [],
   "source": []
  }
 ],
 "metadata": {
  "kernelspec": {
   "display_name": "Python 3",
   "language": "python",
   "name": "python3"
  },
  "language_info": {
   "codemirror_mode": {
    "name": "ipython",
    "version": 3
   },
   "file_extension": ".py",
   "mimetype": "text/x-python",
   "name": "python",
   "nbconvert_exporter": "python",
   "pygments_lexer": "ipython3",
   "version": "3.8.8"
  }
 },
 "nbformat": 4,
 "nbformat_minor": 5
}
