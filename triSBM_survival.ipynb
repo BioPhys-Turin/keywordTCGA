{
 "cells": [
  {
   "cell_type": "code",
   "execution_count": null,
   "id": "02d24303",
   "metadata": {},
   "outputs": [],
   "source": [
    "import pandas as pd\n",
    "import numpy as np\n",
    "import os\n",
    "import seaborn as sns\n",
    "import matplotlib.pyplot as plt"
   ]
  },
  {
   "cell_type": "code",
   "execution_count": null,
   "id": "eaf4208b",
   "metadata": {},
   "outputs": [],
   "source": [
    "data_dir = \"brca\""
   ]
  },
  {
   "cell_type": "markdown",
   "id": "b065d52d",
   "metadata": {},
   "source": [
    "## Survival"
   ]
  },
  {
   "cell_type": "code",
   "execution_count": null,
   "id": "87047a2b",
   "metadata": {},
   "outputs": [],
   "source": [
    "df_files = pd.read_csv(\"files.dat\", sep=\",\", index_col=0).replace(\"unknown\", np.nan)\n",
    "df_files.info()"
   ]
  },
  {
   "cell_type": "code",
   "execution_count": null,
   "id": "df5fa566",
   "metadata": {},
   "outputs": [],
   "source": [
    "bins = np.linspace(0,100,20)\n",
    "avg = df_files[\"cases.0.diagnoses.0.age_at_diagnosis\"].astype(float).mean(skipna=True)\n",
    "df_files[\"age_at_diagnosis\"]=pd.cut(df_files[\"cases.0.diagnoses.0.age_at_diagnosis\"].astype(float).fillna(avg)/365., bins=bins, labels = (bins[1:]+bins[:-1])/2).__array__()"
   ]
  },
  {
   "cell_type": "code",
   "execution_count": null,
   "id": "71a26645",
   "metadata": {},
   "outputs": [],
   "source": [
    "df_files[\"gender\"] = (df_files[\"cases.0.demographic.gender\"]==\"male\").astype(int)"
   ]
  },
  {
   "cell_type": "code",
   "execution_count": null,
   "id": "736702dc",
   "metadata": {},
   "outputs": [],
   "source": [
    "for letter in [\"a\", \"b\", \"c\"]:\n",
    "    for (old, new) in zip([\"stage %s%s\"%(i,letter) for i in [\"i\", \"ii\", \"iii\", \"iv\"]],[\"stage %s\"%i for i in [\"i\", \"ii\", \"iii\", \"iv\"]]):\n",
    "        df_files.replace(old, new, inplace=True)\n",
    "df_files[\"cases.0.diagnoses.0.tumor_stage\"].unique()"
   ]
  },
  {
   "cell_type": "code",
   "execution_count": null,
   "id": "ec876e46",
   "metadata": {},
   "outputs": [],
   "source": [
    "df_files[\"tumor_stage\"]=df_files[\"cases.0.diagnoses.0.tumor_stage\"]\n",
    "for i,stage in enumerate([\"stage i\", \"stage ii\", \"stage iii\", \"stage iv\", \"stage v\", \"stage x\"]):\n",
    "    df_files[\"tumor_stage\"].replace(stage, i+1, inplace=True)"
   ]
  },
  {
   "cell_type": "code",
   "execution_count": null,
   "id": "98a32425",
   "metadata": {},
   "outputs": [],
   "source": [
    "#0 = Alive\n",
    "df_files[\"vital_status\"]=(df_files[\"cases.0.demographic.vital_status\"]==\"Dead\").astype(int)"
   ]
  },
  {
   "cell_type": "code",
   "execution_count": null,
   "id": "3a15c8ad",
   "metadata": {},
   "outputs": [],
   "source": [
    "def get_survival(case):\n",
    "    if case[\"cases.0.demographic.vital_status\"] == 1:\n",
    "        return case[\"cases.0.demographic.days_to_death\"]\n",
    "    else:\n",
    "        return case[\"cases.0.diagnoses.0.days_to_last_follow_up\"]\n",
    "\n",
    "df_files[\"days_survival\"] = df_files.apply(get_survival,1)"
   ]
  },
  {
   "cell_type": "markdown",
   "id": "c30f21db",
   "metadata": {},
   "source": [
    "## Unitopic variate"
   ]
  },
  {
   "cell_type": "code",
   "execution_count": null,
   "id": "b35f0e82",
   "metadata": {},
   "outputs": [],
   "source": [
    "%load_ext autoreload\n",
    "%autoreload 2\n",
    "import lifelines\n",
    "import sys\n",
    "from survival import fit_cox, add_group_to_subset, save_plot\n",
    "from topicpy.hsbmpy import get_file\n",
    "from scipy.stats import pearsonr"
   ]
  },
  {
   "cell_type": "code",
   "execution_count": null,
   "id": "0c3a0991",
   "metadata": {},
   "outputs": [],
   "source": [
    "l=1\n",
    "\n",
    "algorithm = \"trisbm\"\n",
    "kind = \"keyword\", \"metadatum\"\n",
    "#kind = \"word\", \"topic\""
   ]
  },
  {
   "cell_type": "code",
   "execution_count": null,
   "id": "069ab855",
   "metadata": {},
   "outputs": [],
   "source": [
    "df_clusters = pd.read_csv(\"%s/trisbm/trisbm_level_1_%s-dist.csv\"%(data_dir,kind[1]),index_col=1).drop(\"i_doc\",1)"
   ]
  },
  {
   "cell_type": "code",
   "execution_count": null,
   "id": "9442a1ff",
   "metadata": {},
   "outputs": [],
   "source": [
    "df_topics = pd.read_csv(\"%s/%s/%s_level_%d_%s-dist.csv\"%(data_dir,algorithm,algorithm,l,kind[1]))\n",
    "\n",
    "df_topics.set_index('doc', inplace=True)\n",
    "df_topics.insert(0,'stage','')\n",
    "df_topics.drop('i_doc', axis=1, inplace=True)\n",
    "\n",
    "labels=[\"cases.0.diagnoses.0.tumor_stage\"]\n",
    "label = labels[0]\n",
    "\n",
    "if label not in df_files.columns:\n",
    "    raise AttributeError(f\"{label} not valid. Available: {df_files.columns}\")\n",
    "for letter in [\"a\", \"b\"]:\n",
    "    for (old, new) in zip([\"stage %s%s\"%(i,letter) for i in [\"i\", \"ii\", \"iii\", \"iv\"]],[\"stage %s\"%i for i in [\"i\", \"ii\", \"iii\", \"iv\"]]):\n",
    "        df_files.replace(old, new, inplace=True)\n",
    "for sample in df_topics.index.values:\n",
    "    file_data = get_file(sample,df_files)\n",
    "    if file_data is None:\n",
    "        continue\n",
    "    df_topics.at[sample,'stage']=(\"%s\"%(file_data[labels[0]]))\n",
    "\n",
    "mask = df_topics[\"stage\"]!=\"not reported\"\n",
    "mask = (mask) & (df_topics[\"stage\"]!=\"\")\n",
    "mask = (mask) & (df_topics[\"stage\"]!=\"stage x\")\n",
    "mask = (mask) & (df_topics[\"stage\"]!=\"nan\")\n",
    "df_topic_stage_gb = df_topics[mask].groupby([\"stage\"]).mean()\n",
    "\n",
    "color_generator=(c for c in sns.palettes.color_palette(n_colors=20, palette=None))"
   ]
  },
  {
   "cell_type": "code",
   "execution_count": null,
   "id": "a9ca400f",
   "metadata": {},
   "outputs": [],
   "source": [
    "def get_cohort(subtype):\n",
    "    if str(subtype)==\"nan\":\n",
    "        return None\n",
    "    else:\n",
    "        if \"Basal\" in subtype:\n",
    "            return \"A\"\n",
    "        else:\n",
    "            return \"B\"\n",
    "df_files[\"cohort\"]=list(map(get_cohort,df_files[\"Subtype_Selected\"]))"
   ]
  },
  {
   "cell_type": "code",
   "execution_count": null,
   "id": "39d372b1",
   "metadata": {
    "tags": []
   },
   "outputs": [],
   "source": [
    "summaries = pd.DataFrame()\n",
    "mask = (~df_files[\"days_survival\"].isna()) & (df_files[\"cases.0.diagnoses.0.tumor_stage\"]!=\"not reported\")\n",
    "subset = df_files[mask]\n",
    "df_files = df_files.reset_index()\n",
    "subset = subset[[\"days_survival\",\"vital_status\", \"tumor_stage\", \"gender\", \"age_at_diagnosis\"]]\n",
    "for topic in df_clusters.columns:\n",
    "    top_set = add_group_to_subset(topic, subset, df_clusters.divide(df_clusters.sum(0),1), 0.35)\n",
    "    #print(top_set[topic].sum())\n",
    "    summary, cph, ax = fit_cox(top_set, topic)\n",
    "    if summary is not None:\n",
    "        if summary.at[summary.index[-1],\"-log2(p)\"]/(np.log2(10)) > 2:\n",
    "            print(topic,\"\\n\",summary.loc[summary.index[-1],[\"coef\", \"p\"]],\"\\n\")\n",
    "            summaries = summaries.append(summary)\n",
    "            #ax=None\n",
    "            if ax is not None:\n",
    "                ax.set_title(ax.title.get_text(), fontsize=35)\n",
    "                save_plot(ax, \"\", topic)\n",
    "        \n",
    "            figcph, axcph = plt.subplots(figsize=(18,15))\n",
    "            cph.plot(ax=axcph,elinewidth=15)\n",
    "\n",
    "            axcph.tick_params(labelsize=35)\n",
    "            axcph.set_xlabel(axcph.get_xlabel(), fontsize=35)\n",
    "            plt.tight_layout()\n",
    "            figcph.savefig(f\"survival_{topic}_HR.pdf\")"
   ]
  },
  {
   "cell_type": "code",
   "execution_count": null,
   "id": "e43d0fd2",
   "metadata": {},
   "outputs": [],
   "source": [
    "summaries"
   ]
  },
  {
   "cell_type": "markdown",
   "id": "09338335",
   "metadata": {},
   "source": [
    "## Multivariate"
   ]
  },
  {
   "cell_type": "code",
   "execution_count": null,
   "id": "14c3dd1b",
   "metadata": {},
   "outputs": [],
   "source": [
    "%load_ext watermark\n",
    "%watermark -a Filippo_Valle -p pandas,scanpy,requests -m -v -g"
   ]
  },
  {
   "cell_type": "code",
   "execution_count": null,
   "id": "f5dcac98",
   "metadata": {},
   "outputs": [],
   "source": [
    "from lifelines import CoxPHFitter"
   ]
  },
  {
   "cell_type": "code",
   "execution_count": null,
   "id": "03d50c9c",
   "metadata": {},
   "outputs": [],
   "source": [
    "algorithm = \"trisbm\"\n",
    "l = 1"
   ]
  },
  {
   "cell_type": "code",
   "execution_count": null,
   "id": "ec1b852d",
   "metadata": {},
   "outputs": [],
   "source": [
    "df_covariates = pd.DataFrame(index=df_files[\"case_id\"])\n",
    "\n",
    "df_topics = pd.read_csv(\"%s/%s/%s_level_%d_metadatum-dist.csv\"%(data_dir,algorithm,algorithm,l), index_col=1).drop(\"i_doc\",1)\n",
    "df_topics_std = df_topics.divide(df_topics.sum(0),1)\n",
    "\n",
    "q = np.linspace(0, 1, 25)\n",
    "#q = [0, 0.35, 1]\n",
    "\n",
    "for topic in df_topics:\n",
    "    quantiles = np.argmin([np.abs(df_topics_std[topic]-q) for q in df_topics_std[topic].quantile(q).values], 0)\n",
    "    df_covariates = df_covariates.join(pd.Series(name=topic, index = df_topics_std.index, data = quantiles), how=\"outer\")\n",
    "    \n",
    "\n",
    "df_covariates[\"vital_status\"] = df_files[\"vital_status\"].values.astype(int)\n",
    "df_covariates[\"time\"] = df_files[\"days_survival\"].values\n",
    "#df_covariates[\"gender\"] = df_files[\"gender\"].values\n",
    "#df_covariates[\"age\"] = df_files[\"age_at_diagnosis\"].values\n",
    "#df_covariates[\"stage\"] = df_files[\"tumor_stage\"].values\n",
    "\n",
    "#mask = (~df_covariates[\"time\"].isna()) & (df_covariates[\"stage\"]!=\"not reported\")\n",
    "df_covariates = df_covariates[mask]"
   ]
  },
  {
   "cell_type": "code",
   "execution_count": null,
   "id": "d9ea8dee",
   "metadata": {},
   "outputs": [],
   "source": [
    "df_covariates[mask].head(5)"
   ]
  },
  {
   "cell_type": "code",
   "execution_count": null,
   "id": "74c289ae",
   "metadata": {},
   "outputs": [],
   "source": [
    "cph = CoxPHFitter()\n",
    "res = cph.fit(df_covariates.dropna(how=\"any\", axis=0), duration_col='time', event_col='vital_status')\n",
    "\n",
    "cph.print_summary()"
   ]
  },
  {
   "cell_type": "code",
   "execution_count": null,
   "id": "338eab7a",
   "metadata": {},
   "outputs": [],
   "source": [
    "figcph, axcph = plt.subplots(figsize=(18,20))\n",
    "#cph.plot(ax=axcph, elinewidth=15, capsize=1)\n",
    "\n",
    "data = cph.summary\n",
    "coefs = data[\"coef\"]\n",
    "\n",
    "axcph.errorbar(x = coefs, \n",
    "               y = [t.replace(\"Metadatum\", \"Topic\") for t in data.index], \n",
    "               xerr=np.array([coefs-data[\"coef lower 95%\"],data[\"coef upper 95%\"]-coefs]).reshape((2,-1)),\n",
    "               lw=0,\n",
    "               marker=\"x\",\n",
    "               ms=25,\n",
    "               c=\"gray\",\n",
    "               elinewidth=30,\n",
    "               alpha=0.8\n",
    "      )\n",
    "\n",
    "axcph.vlines(x=0, ymin=0, ymax=data.shape[0], color=\"black\", ls=\"--\", lw=15, alpha=0.9)\n",
    "\n",
    "\n",
    "#data = cph.summary[cph.summary.index.isin([\"Metadatum 3\", \"Metadatum 7\"])]\n",
    "data = cph.summary[cph.summary[\"-log2(p)\"]/np.log2(10)>-np.log10(0.05)]\n",
    "coefs = data[\"coef\"]\n",
    "\n",
    "axcph.errorbar(x = coefs, \n",
    "               y = [t.replace(\"Metadatum\", \"Topic\") for t in data.index], \n",
    "               xerr=np.array([coefs-data[\"coef lower 95%\"],data[\"coef upper 95%\"]-coefs]).reshape((2,-1)),\n",
    "               lw=0,\n",
    "               c=\"red\",\n",
    "               elinewidth=15\n",
    "      )\n",
    "\n",
    "\n",
    "axcph.tick_params(labelsize=35)\n",
    "axcph.set_xlabel(\"Log(HR) (95% CI)\", fontsize=35)\n",
    "plt.tight_layout()\n",
    "figcph.savefig(f\"survival_HR.pdf\")"
   ]
  },
  {
   "cell_type": "code",
   "execution_count": null,
   "id": "5658420e",
   "metadata": {},
   "outputs": [],
   "source": [
    "plt.hist(cph.summary[\"coef\"])"
   ]
  },
  {
   "cell_type": "code",
   "execution_count": null,
   "id": "641de25a",
   "metadata": {},
   "outputs": [],
   "source": []
  }
 ],
 "metadata": {
  "kernelspec": {
   "display_name": "Python 3",
   "language": "python",
   "name": "python3"
  },
  "language_info": {
   "codemirror_mode": {
    "name": "ipython",
    "version": 3
   },
   "file_extension": ".py",
   "mimetype": "text/x-python",
   "name": "python",
   "nbconvert_exporter": "python",
   "pygments_lexer": "ipython3",
   "version": "3.8.5"
  }
 },
 "nbformat": 4,
 "nbformat_minor": 5
}
