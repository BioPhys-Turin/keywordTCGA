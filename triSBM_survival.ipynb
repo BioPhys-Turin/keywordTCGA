{
 "cells": [
  {
   "cell_type": "code",
   "execution_count": 1,
   "id": "2f343eb0",
   "metadata": {},
   "outputs": [
    {
     "name": "stdout",
     "output_type": "stream",
     "text": [
      "Author: Filippo_Valle\n",
      "\n",
      "pandas    : 1.3.3\n",
      "numpy     : 1.19.5\n",
      "seaborn   : 0.11.2\n",
      "matplotlib: 3.5.1\n",
      "lifelines : 0.26.4\n",
      "\n",
      "Compiler    : GCC 7.3.0\n",
      "OS          : Linux\n",
      "Release     : 5.13.0-28-generic\n",
      "Machine     : x86_64\n",
      "Processor   : x86_64\n",
      "CPU cores   : 12\n",
      "Architecture: 64bit\n",
      "\n",
      "Git hash: 576214878cace9abdbc3f729d37bf445b11e12ff\n",
      "\n",
      "Git repo: git@github.com:fvalle1/keywordTCGA.git\n",
      "\n"
     ]
    }
   ],
   "source": [
    "%load_ext watermark\n",
    "%watermark -a Filippo_Valle -ppandas,numpy,seaborn,matplotlib,lifelines -g -m -r"
   ]
  },
  {
   "cell_type": "code",
   "execution_count": 2,
   "id": "0d73c33a",
   "metadata": {},
   "outputs": [],
   "source": [
    "import pandas as pd\n",
    "import numpy as np\n",
    "import os\n",
    "import seaborn as sns\n",
    "import matplotlib.pyplot as plt"
   ]
  },
  {
   "cell_type": "code",
   "execution_count": 3,
   "id": "7a44336e",
   "metadata": {},
   "outputs": [],
   "source": [
    "data_dir = \"brca\""
   ]
  },
  {
   "cell_type": "markdown",
   "id": "6ef6ae6b",
   "metadata": {},
   "source": [
    "## Survival"
   ]
  },
  {
   "cell_type": "code",
   "execution_count": 4,
   "id": "d4f31804",
   "metadata": {},
   "outputs": [
    {
     "name": "stdout",
     "output_type": "stream",
     "text": [
      "<class 'pandas.core.frame.DataFrame'>\n",
      "Index: 1092 entries, TCGA-3C-AAAU to TCGA-A2-A25C\n",
      "Data columns (total 27 columns):\n",
      " #   Column                                           Non-Null Count  Dtype \n",
      "---  ------                                           --------------  ----- \n",
      " 0   file_miRNA                                       1074 non-null   object\n",
      " 1   cases.0.demographic.days_to_birth                1058 non-null   object\n",
      " 2   cases.0.demographic.days_to_death                148 non-null    object\n",
      " 3   cases.0.demographic.gender                       1073 non-null   object\n",
      " 4   cases.0.demographic.vital_status                 1073 non-null   object\n",
      " 5   cases.0.diagnoses.0.age_at_diagnosis             1058 non-null   object\n",
      " 6   cases.0.diagnoses.0.days_to_last_follow_up       970 non-null    object\n",
      " 7   cases.0.diagnoses.0.last_known_disease_status    1073 non-null   object\n",
      " 8   cases.0.diagnoses.0.tumor_stage                  1073 non-null   object\n",
      " 9   cases.0.project.project_id                       1074 non-null   object\n",
      " 10  sample_submitter_id_mirna                        1074 non-null   object\n",
      " 11  file_fpkm                                        1092 non-null   object\n",
      " 12  cases.0.demographic.days_to_birth.1              1076 non-null   object\n",
      " 13  cases.0.demographic.days_to_death.1              151 non-null    object\n",
      " 14  cases.0.demographic.gender.1                     1091 non-null   object\n",
      " 15  cases.0.demographic.vital_status.1               1091 non-null   object\n",
      " 16  cases.0.diagnoses.0.age_at_diagnosis.1           1076 non-null   object\n",
      " 17  cases.0.diagnoses.0.days_to_last_follow_up.1     987 non-null    object\n",
      " 18  cases.0.diagnoses.0.last_known_disease_status.1  1091 non-null   object\n",
      " 19  cases.0.diagnoses.0.tumor_stage.1                1091 non-null   object\n",
      " 20  cases.0.project.project_id.1                     1092 non-null   object\n",
      " 21  sample_submitter_id                              1092 non-null   object\n",
      " 22  sample_submitter_id_type                         1092 non-null   object\n",
      " 23  sample_submitter_id_mirna_type                   1074 non-null   object\n",
      " 24  cancer.type                                      1092 non-null   object\n",
      " 25  Subtype_mRNA                                     1092 non-null   object\n",
      " 26  Subtype_Selected                                 1092 non-null   object\n",
      "dtypes: object(27)\n",
      "memory usage: 238.9+ KB\n"
     ]
    }
   ],
   "source": [
    "df_files = pd.read_csv(\"files.dat\", sep=\",\", index_col=0).replace(\"unknown\", np.nan)\n",
    "df_files.info()"
   ]
  },
  {
   "cell_type": "code",
   "execution_count": 5,
   "id": "2fe8576c",
   "metadata": {},
   "outputs": [],
   "source": [
    "bins = np.linspace(0,100,20)\n",
    "avg = df_files[\"cases.0.diagnoses.0.age_at_diagnosis\"].astype(float).mean(skipna=True)\n",
    "df_files[\"age_at_diagnosis\"]=pd.cut(df_files[\"cases.0.diagnoses.0.age_at_diagnosis\"].astype(float).fillna(avg)/365., bins=bins, labels = (bins[1:]+bins[:-1])/2).__array__()"
   ]
  },
  {
   "cell_type": "code",
   "execution_count": 6,
   "id": "d5ad1143",
   "metadata": {},
   "outputs": [],
   "source": [
    "df_files[\"gender\"] = (df_files[\"cases.0.demographic.gender\"]==\"male\").astype(int)"
   ]
  },
  {
   "cell_type": "code",
   "execution_count": 7,
   "id": "3e2494b7",
   "metadata": {},
   "outputs": [
    {
     "data": {
      "text/plain": [
       "array(['stage x', 'stage iii', 'stage i', 'stage ii', nan, 'stage iv',\n",
       "       'not reported'], dtype=object)"
      ]
     },
     "execution_count": 7,
     "metadata": {},
     "output_type": "execute_result"
    }
   ],
   "source": [
    "for letter in [\"a\", \"b\", \"c\"]:\n",
    "    for (old, new) in zip([\"stage %s%s\"%(i,letter) for i in [\"i\", \"ii\", \"iii\", \"iv\"]],[\"stage %s\"%i for i in [\"i\", \"ii\", \"iii\", \"iv\"]]):\n",
    "        df_files.replace(old, new, inplace=True)\n",
    "df_files[\"cases.0.diagnoses.0.tumor_stage\"].unique()"
   ]
  },
  {
   "cell_type": "code",
   "execution_count": 8,
   "id": "365f2ecb",
   "metadata": {},
   "outputs": [],
   "source": [
    "df_files[\"tumor_stage\"]=df_files[\"cases.0.diagnoses.0.tumor_stage\"]\n",
    "for i,stage in enumerate([\"stage i\", \"stage ii\", \"stage iii\", \"stage iv\", \"stage v\", \"stage x\"]):\n",
    "    df_files[\"tumor_stage\"].replace(stage, i+1, inplace=True)"
   ]
  },
  {
   "cell_type": "code",
   "execution_count": 9,
   "id": "8a5a8f9e",
   "metadata": {},
   "outputs": [],
   "source": [
    "#0 = Alive\n",
    "df_files[\"vital_status\"]=(df_files[\"cases.0.demographic.vital_status\"]==\"Dead\").astype(int)"
   ]
  },
  {
   "cell_type": "code",
   "execution_count": 10,
   "id": "dc0e41d2",
   "metadata": {},
   "outputs": [],
   "source": [
    "def get_survival(case):\n",
    "    if case[\"cases.0.demographic.vital_status\"] == 1:\n",
    "        return case[\"cases.0.demographic.days_to_death\"]\n",
    "    else:\n",
    "        return case[\"cases.0.diagnoses.0.days_to_last_follow_up\"]\n",
    "\n",
    "df_files[\"days_survival\"] = df_files.apply(get_survival,1)"
   ]
  },
  {
   "cell_type": "markdown",
   "id": "0a1530ba-11c9-447f-bbc1-37df1943a43b",
   "metadata": {},
   "source": [
    "## Clusters"
   ]
  },
  {
   "cell_type": "code",
   "execution_count": 27,
   "id": "7614dc79-b2c6-447a-84bb-926faa199c89",
   "metadata": {},
   "outputs": [
    {
     "name": "stderr",
     "output_type": "stream",
     "text": [
      "/opt/conda/lib/python3.8/site-packages/lifelines/plotting.py:710: UserWarning: For less visual clutter, you may want to subsample to less than 25 individuals.\n",
      "  warnings.warn(\"For less visual clutter, you may want to subsample to less than 25 individuals.\")\n"
     ]
    },
    {
     "name": "stdout",
     "output_type": "stream",
     "text": [
      "*******Cluster 6 Z:2.854441119394784*******\n",
      "0.18181818181818177 0.37679591836734694 0.06830679926251397\n"
     ]
    },
    {
     "data": {
      "image/png": "[encoded data removed]",
      "text/plain": [
       "<Figure size 864x720 with 1 Axes>"
      ]
     },
     "metadata": {
      "needs_background": "light"
     },
     "output_type": "display_data"
    },
    {
     "name": "stderr",
     "output_type": "stream",
     "text": [
      "/opt/conda/lib/python3.8/site-packages/lifelines/plotting.py:710: UserWarning: For less visual clutter, you may want to subsample to less than 25 individuals.\n",
      "  warnings.warn(\"For less visual clutter, you may want to subsample to less than 25 individuals.\")\n"
     ]
    },
    {
     "name": "stdout",
     "output_type": "stream",
     "text": [
      "*******Cluster 14 Z:3.6533003349425597*******\n",
      "0.6 0.37818965517241376 0.0607150588485832\n"
     ]
    },
    {
     "data": {
      "image/png": "[encoded data removed]",
      "text/plain": [
       "<Figure size 864x720 with 1 Axes>"
      ]
     },
     "metadata": {
      "needs_background": "light"
     },
     "output_type": "display_data"
    }
   ],
   "source": [
    "from lifelines.plotting import plot_lifetimes\n",
    "\n",
    "l=0\n",
    "\n",
    "for cluster in [\"Cluster %d\"%(c+1) for c in [5,13]]:\n",
    "#for subtype in df_files[\"Subtype_Selected\"].unique():\n",
    "    subset = df_files[(~df_files[\"days_survival\"].isna()) & (df_files[\"days_survival\"]!=\"unknown\") & df_files.index.isin(pd.read_csv(f\"brca/trisbm/trisbm_level_{l}_clusters.csv\")[cluster].dropna())]\n",
    "    #subset = df_files[(~df_files[\"days_survival\"].isna()) & (df_files[\"days_survival\"]!=\"unknown\") & (df_files[\"Subtype_Selected\"]==subtype)]\n",
    "    \n",
    "    CURRENT_TIME = 3\n",
    "\n",
    "    actual_lifetimes = subset[\"days_survival\"].astype(float).to_numpy()/365\n",
    "    observed_lifetimes = np.minimum(actual_lifetimes, CURRENT_TIME)\n",
    "    death_observed = actual_lifetimes < CURRENT_TIME\n",
    "    \n",
    "    survival = 1 - death_observed.sum()/float(len(actual_lifetimes))\n",
    "\n",
    "    ax = plot_lifetimes(observed_lifetimes, event_observed=death_observed, figsize=(18,15))\n",
    "\n",
    "    survivals = []\n",
    "    for stat in range(1000):\n",
    "        subset = df_files[(~df_files[\"days_survival\"].isna()) & (df_files[\"days_survival\"]!=\"unknown\")]\n",
    "        sample_size=min((subset.shape[0],len(pd.read_csv(f\"brca/trisbm/trisbm_level_{l}_clusters.csv\")[cluster].dropna())))\n",
    "        subset=subset.sample(sample_size)\n",
    "        #subset = df_files[(~df_files[\"days_survival\"].isna()) & (df_files[\"days_survival\"]!=\"unknown\")].sample((df_files[\"Subtype_Selected\"]==subtype).sum())\n",
    "        actual_lifetimes = subset[\"days_survival\"].astype(float).to_numpy()/365\n",
    "        observed_lifetimes = np.minimum(actual_lifetimes, CURRENT_TIME)\n",
    "        death_observed = actual_lifetimes < CURRENT_TIME\n",
    "        survivals.append(1 - death_observed.sum()/len(actual_lifetimes))\n",
    "    Z = np.abs(survival-np.average(survivals))/np.std(survivals)\n",
    "    if Z > 2:\n",
    "        print(f\"*******{cluster} Z:{Z}*******\")\n",
    "    print(survival, np.average(survivals), np.std(survivals))\n",
    "    \n",
    "    ax.get_figure().set_size_inches(12,10)\n",
    "    ax.set_xlim(0, CURRENT_TIME*1.1)\n",
    "    ax.set_ylabel(\"patients\", fontsize=35)\n",
    "    ax.vlines(CURRENT_TIME, 0, len(subset), lw=10, linestyles='--')\n",
    "    ax.set_xlabel(\"time (years)\", fontsize=35)\n",
    "    ax.tick_params(labelsize=25)\n",
    "    ax.set_title(f\"{cluster} population at $t={CURRENT_TIME}$,\\n survival {survival.round(2)} (Z={round(Z,2)})\", fontsize=15)\n",
    "    #ax.set_title(f\"{subtype} population at $t={CURRENT_TIME}$,\\n survival {survival.round(2)} (Z={round(Z,2)})\", fontsize=15)\n",
    "    plt.tight_layout()\n",
    "    ax.get_figure().savefig(f\"survival_trisbm_{cluster}_t{CURRENT_TIME}.pdf\")\n",
    "    #ax.get_figure().savefig(f\"survival_topsbm_{subtype}_t{CURRENT_TIME}.pdf\")\n",
    "    plt.show()\n",
    "#print(\"Observed lifetimes at time %d:\\n\" % (CURRENT_TIME), observed_lifetimes)"
   ]
  },
  {
   "cell_type": "markdown",
   "id": "e962b765",
   "metadata": {},
   "source": [
    "## Unitopic variate"
   ]
  },
  {
   "cell_type": "code",
   "execution_count": null,
   "id": "47bb448d",
   "metadata": {},
   "outputs": [],
   "source": [
    "%load_ext autoreload\n",
    "%autoreload 2\n",
    "import lifelines\n",
    "import sys\n",
    "from survival import fit_cox, add_group_to_subset, save_plot\n",
    "from topicpy.hsbmpy import get_file\n",
    "from scipy.stats import pearsonr"
   ]
  },
  {
   "cell_type": "code",
   "execution_count": null,
   "id": "1228e10d",
   "metadata": {},
   "outputs": [],
   "source": [
    "l=1\n",
    "\n",
    "algorithm = \"trisbm\"\n",
    "kind = \"keyword\", \"metadatum\"\n",
    "#kind = \"word\", \"topic\""
   ]
  },
  {
   "cell_type": "code",
   "execution_count": null,
   "id": "0b46c110",
   "metadata": {},
   "outputs": [],
   "source": [
    "df_clusters = pd.read_csv(\"%s/trisbm/trisbm_level_1_%s-dist.csv\"%(data_dir,kind[1]),index_col=1).drop(\"i_doc\",1)"
   ]
  },
  {
   "cell_type": "code",
   "execution_count": null,
   "id": "d020839d",
   "metadata": {
    "tags": []
   },
   "outputs": [],
   "source": [
    "summaries = pd.DataFrame()\n",
    "mask = (~df_files[\"days_survival\"].isna()) & (df_files[\"cases.0.diagnoses.0.tumor_stage\"]!=\"not reported\")\n",
    "subset = df_files[mask]\n",
    "df_files = df_files.reset_index()\n",
    "subset = subset[[\"days_survival\",\"vital_status\", \"tumor_stage\", \"gender\", \"age_at_diagnosis\"]]\n",
    "for topic in df_clusters.columns:\n",
    "    top_set = add_group_to_subset(topic, subset, df_clusters.divide(df_clusters.sum(0),1), 0.35)\n",
    "    #print(top_set[topic].sum())\n",
    "    summary, cph, ax = fit_cox(top_set, topic)\n",
    "    if summary is not None:\n",
    "        if summary.at[summary.index[-1],\"-log2(p)\"]/(np.log2(10)) > 2:\n",
    "            print(topic,\"\\n\",summary.loc[summary.index[-1],[\"coef\", \"p\"]],\"\\n\")\n",
    "            summaries = summaries.append(summary)\n",
    "            #ax=None\n",
    "            if ax is not None:\n",
    "                ax.set_title(ax.title.get_text(), fontsize=35)\n",
    "                save_plot(ax, \"\", topic)\n",
    "        \n",
    "            figcph, axcph = plt.subplots(figsize=(18,15))\n",
    "            cph.plot(ax=axcph,elinewidth=15)\n",
    "\n",
    "            axcph.tick_params(labelsize=35)\n",
    "            axcph.set_xlabel(axcph.get_xlabel(), fontsize=35)\n",
    "            plt.tight_layout()\n",
    "            figcph.savefig(f\"survival_{topic}_HR.pdf\")"
   ]
  },
  {
   "cell_type": "code",
   "execution_count": null,
   "id": "4d0960a7",
   "metadata": {},
   "outputs": [],
   "source": [
    "summaries"
   ]
  },
  {
   "cell_type": "markdown",
   "id": "beebc604",
   "metadata": {},
   "source": [
    "## Multivariate"
   ]
  },
  {
   "cell_type": "code",
   "execution_count": null,
   "id": "fd44934d",
   "metadata": {},
   "outputs": [],
   "source": [
    "%load_ext watermark\n",
    "%watermark -a Filippo_Valle -p pandas,scanpy,requests -m -v -g"
   ]
  },
  {
   "cell_type": "code",
   "execution_count": null,
   "id": "4787c99c",
   "metadata": {},
   "outputs": [],
   "source": [
    "from lifelines import CoxPHFitter"
   ]
  },
  {
   "cell_type": "code",
   "execution_count": null,
   "id": "becab8b8",
   "metadata": {},
   "outputs": [],
   "source": [
    "algorithm = \"trisbm\"\n",
    "l = 1"
   ]
  },
  {
   "cell_type": "code",
   "execution_count": null,
   "id": "954f753e",
   "metadata": {},
   "outputs": [],
   "source": [
    "df_covariates = pd.DataFrame(index=df_files[\"case_id\"])\n",
    "\n",
    "df_topics = pd.read_csv(\"%s/%s/%s_level_%d_metadatum-dist.csv\"%(data_dir,algorithm,algorithm,l), index_col=1).drop(\"i_doc\",1)\n",
    "df_topics_std = df_topics.divide(df_topics.sum(0),1)\n",
    "\n",
    "q = np.linspace(0, 1, 25)\n",
    "#q = [0, 0.35, 1]\n",
    "\n",
    "for topic in df_topics:\n",
    "    quantiles = np.argmin([np.abs(df_topics_std[topic]-q) for q in df_topics_std[topic].quantile(q).values], 0)\n",
    "    df_covariates = df_covariates.join(pd.Series(name=topic, index = df_topics_std.index, data = quantiles), how=\"outer\")\n",
    "    \n",
    "\n",
    "df_covariates[\"vital_status\"] = df_files[\"vital_status\"].values.astype(int)\n",
    "df_covariates[\"time\"] = df_files[\"days_survival\"].values\n",
    "#df_covariates[\"gender\"] = df_files[\"gender\"].values\n",
    "#df_covariates[\"age\"] = df_files[\"age_at_diagnosis\"].values\n",
    "#df_covariates[\"stage\"] = df_files[\"tumor_stage\"].values\n",
    "\n",
    "#mask = (~df_covariates[\"time\"].isna()) & (df_covariates[\"stage\"]!=\"not reported\")\n",
    "df_covariates = df_covariates[mask]"
   ]
  },
  {
   "cell_type": "code",
   "execution_count": null,
   "id": "06548231",
   "metadata": {},
   "outputs": [],
   "source": [
    "df_covariates[mask].head(5)"
   ]
  },
  {
   "cell_type": "code",
   "execution_count": null,
   "id": "5e538dc7",
   "metadata": {},
   "outputs": [],
   "source": [
    "cph = CoxPHFitter()\n",
    "res = cph.fit(df_covariates.dropna(how=\"any\", axis=0), duration_col='time', event_col='vital_status')\n",
    "\n",
    "cph.print_summary()"
   ]
  },
  {
   "cell_type": "code",
   "execution_count": null,
   "id": "64ad0aa7",
   "metadata": {},
   "outputs": [],
   "source": [
    "figcph, axcph = plt.subplots(figsize=(18,20))\n",
    "#cph.plot(ax=axcph, elinewidth=15, capsize=1)\n",
    "\n",
    "data = cph.summary\n",
    "coefs = data[\"coef\"]\n",
    "\n",
    "axcph.errorbar(x = coefs, \n",
    "               y = [t.replace(\"Metadatum\", \"Topic\") for t in data.index], \n",
    "               xerr=np.array([coefs-data[\"coef lower 95%\"],data[\"coef upper 95%\"]-coefs]).reshape((2,-1)),\n",
    "               lw=0,\n",
    "               marker=\"x\",\n",
    "               ms=25,\n",
    "               c=\"gray\",\n",
    "               elinewidth=30,\n",
    "               alpha=0.8\n",
    "      )\n",
    "\n",
    "axcph.vlines(x=0, ymin=0, ymax=data.shape[0], color=\"black\", ls=\"--\", lw=15, alpha=0.9)\n",
    "\n",
    "\n",
    "#data = cph.summary[cph.summary.index.isin([\"Metadatum 3\", \"Metadatum 7\"])]\n",
    "data = cph.summary[cph.summary[\"-log2(p)\"]/np.log2(10)>-np.log10(0.05)]\n",
    "coefs = data[\"coef\"]\n",
    "\n",
    "axcph.errorbar(x = coefs, \n",
    "               y = [t.replace(\"Metadatum\", \"Topic\") for t in data.index], \n",
    "               xerr=np.array([coefs-data[\"coef lower 95%\"],data[\"coef upper 95%\"]-coefs]).reshape((2,-1)),\n",
    "               lw=0,\n",
    "               c=\"red\",\n",
    "               elinewidth=15\n",
    "      )\n",
    "\n",
    "\n",
    "axcph.tick_params(labelsize=35)\n",
    "axcph.set_xlabel(\"Log(HR) (95% CI)\", fontsize=35)\n",
    "plt.tight_layout()\n",
    "figcph.savefig(f\"survival_HR.pdf\")"
   ]
  },
  {
   "cell_type": "code",
   "execution_count": null,
   "id": "9950a16f",
   "metadata": {},
   "outputs": [],
   "source": [
    "plt.hist(cph.summary[\"coef\"])"
   ]
  },
  {
   "cell_type": "code",
   "execution_count": null,
   "id": "e676a4e2",
   "metadata": {},
   "outputs": [],
   "source": []
  }
 ],
 "metadata": {
  "kernelspec": {
   "display_name": "Python 3 (ipykernel)",
   "language": "python",
   "name": "python3"
  },
  "language_info": {
   "codemirror_mode": {
    "name": "ipython",
    "version": 3
   },
   "file_extension": ".py",
   "mimetype": "text/x-python",
   "name": "python",
   "nbconvert_exporter": "python",
   "pygments_lexer": "ipython3",
   "version": "3.8.5"
  }
 },
 "nbformat": 4,
 "nbformat_minor": 5
}
