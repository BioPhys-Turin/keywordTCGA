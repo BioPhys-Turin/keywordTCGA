{
 "cells": [
  {
   "cell_type": "code",
   "execution_count": null,
   "id": "a2e3e1ce-0cd4-44a4-bb1c-9f87e85f5755",
   "metadata": {},
   "outputs": [],
   "source": [
    "%load_ext watermark\n",
    "%watermark -a Filippo_Valle -p numpy,pandas,seaborn,matplotlib,topicpy,sklearn,cloudpickle,plotly,nsbm -m -g -r -v"
   ]
  },
  {
   "cell_type": "code",
   "execution_count": null,
   "id": "6836379e-3250-43bb-8957-3c43803d3642",
   "metadata": {},
   "outputs": [],
   "source": [
    "import os\n",
    "import numpy as np\n",
    "import pandas as pd\n",
    "import seaborn as  sns\n",
    "import matplotlib.pyplot as plt\n",
    "from topicpy.hsbmpy import get_scores, get_scores_shuffled, normalise_score, add_score_lines, get_max_available_L\n",
    "from topicpy.hsbmpy import get_cluster_given_l, get_fraction_sites, get_clustersinfo, plot_cluster_composition"
   ]
  },
  {
   "cell_type": "markdown",
   "id": "14e52f5c-0008-4708-b670-2024a41805ce",
   "metadata": {},
   "source": [
    "# Clustering and scores"
   ]
  },
  {
   "cell_type": "code",
   "execution_count": null,
   "id": "be199dae-74f9-4176-b0d2-75a79cae7f99",
   "metadata": {},
   "outputs": [],
   "source": [
    "level = 1\n",
    "algorithm = 'trisbm'\n",
    "directory = \"brca/\"\n",
    "L=get_max_available_L(directory, algorithm)\n",
    "df_clusters = pd.read_csv(\"%s/%s/%s_level_%d_clusters.csv\"%(directory,algorithm,algorithm,L), header=[0])\n",
    "df_clusters.head()"
   ]
  },
  {
   "cell_type": "code",
   "execution_count": null,
   "id": "61db1bbf-7f77-4d16-a2b0-e3d9bf81cc36",
   "metadata": {},
   "outputs": [],
   "source": [
    "df_files = pd.read_csv(\"%s/files.dat\"%directory, index_col=[0], header=[0]).dropna(axis=1, how='all').dropna(axis=0, how='all')\n",
    "samples = pd.read_csv(\"%s/%s/%s_level_0_clusters.csv\"%(directory,algorithm,algorithm), header=[0]).astype(str).values.ravel()\n",
    "samples=samples[samples!=\"nan\"]\n",
    "df_files = df_files.reindex(index=samples).dropna(how=\"any\",axis=0).fillna(\"unknown\")\n",
    "labels = df_files.columns\n",
    "print(labels)"
   ]
  },
  {
   "cell_type": "code",
   "execution_count": null,
   "id": "d2e05629-6480-4958-9ba0-89012c4f716d",
   "metadata": {},
   "outputs": [],
   "source": [
    "analyses = {\n",
    "    \"normaltumor\": [\"hsbm\", \"trisbm\", \"shuffle\"],\n",
    "    \"subtypes\": [\"hsbm\", \"trisbm\", \"shuffle\"],\n",
    "    \"htetra\": [\"hsbm\", \"trisbm\", \"tetrasbm\", \"shuffle\"],\n",
    "    \"regulatory\": [\"hsbm\", \"trisbm\", \"mirdip\", \"tarbase\", \"shuffle\"]\n",
    "}"
   ]
  },
  {
   "cell_type": "code",
   "execution_count": null,
   "id": "15c03286-f449-4e96-810a-4a6119fade3d",
   "metadata": {},
   "outputs": [],
   "source": [
    "labels = [\"Subtype_Selected\", 'sample_submitter_id_type', 'sample_submitter_id_mirna_type']"
   ]
  },
  {
   "cell_type": "code",
   "execution_count": null,
   "id": "8cbce314-d056-4c45-a39f-adb995581401",
   "metadata": {
    "tags": []
   },
   "outputs": [],
   "source": [
    "directory = \"brca/\"\n",
    "\n",
    "scores = {}\n",
    "scores['hsbm'] = get_scores(directory, labels, algorithm='topsbm', df_files=df_files, verbose=False)[labels[1]]\n",
    "scores['trisbm'] = get_scores(directory, labels, algorithm='trisbm', df_files=df_files, verbose=False)[labels[1]]\n",
    "#scores['tetrasbm'] = get_scores(directory+\"/tetrasbm/\", labels, algorithm='trisbm', df_files=df_files, verbose=False)[labels[1]]\n",
    "#scores['pentasbm'] = get_scores(directory+\"/pentasbm/\", labels, algorithm='trisbm', df_files=df_files, verbose=False)[labels[1]]\n",
    "scores['shuffle'] = get_scores_shuffled(directory, df_files, label=labels[0], algorithm='topsbm')\n",
    "shuffle = []\n",
    "for _ in range(50):\n",
    "    shuffle.append(get_scores_shuffled(directory, df_files, label=labels[0], algorithm='topsbm')[\"V\"])\n",
    "scores[\"shuffle\"][\"V\"] = np.average(shuffle,0)\n",
    "normalise_score(scores, base_algorithm=\"shuffle\")"
   ]
  },
  {
   "cell_type": "code",
   "execution_count": null,
   "id": "464ef7e6-963c-4b5c-9b9c-99adbb99a572",
   "metadata": {},
   "outputs": [],
   "source": [
    "analysis = \"normaltumor\"\n",
    "\n",
    "fig=plt.figure(figsize=(20,15))\n",
    "ax = fig.subplots(1)\n",
    "add_score_lines(ax,scores, V=\"norm_V\", labels=analyses[analysis])\n",
    "#ax.set_xscale('linear')\n",
    "#ax.set_title(\"Tumor/Normal\", fontsize=40)\n",
    "ax.set_ylabel(\"NMI/NMI* score\", fontsize=35)\n",
    "\n",
    "plt.xlim(1,max(map(max,[score[\"xl\"] for score in scores.values()]))*1.1)\n",
    "plt.ylim(0,max(map(max,[score[\"norm_V\"] for score in scores.values()]))*1.1)\n",
    "plt.show()\n",
    "fig.savefig(\"%s/metric_scores_%s.pdf\"%(directory,analysis))"
   ]
  },
  {
   "cell_type": "code",
   "execution_count": null,
   "id": "5535b511-0239-474c-a3ed-a0c37cbb5ca9",
   "metadata": {
    "tags": []
   },
   "outputs": [],
   "source": [
    "directory = \"brca/\"\n",
    "\n",
    "scores = {}\n",
    "#scores['hsbm'] = get_scores(\"../cancers/breast/\", [\"Subtype_Selected\"], algorithm='topsbm', df_files=pd.read_csv(\"../cancers/breast/files.dat\", index_col=0), verbose=False)[\"Subtype_Selected\"]\n",
    "scores['hsbm'] = get_scores(directory, labels, algorithm='topsbm', df_files=df_files, verbose=False)[labels[0]]\n",
    "scores['trisbm'] = get_scores(directory, labels, algorithm='trisbm', df_files=df_files, verbose=False)[labels[0]]\n",
    "scores['shuffle'] = get_scores_shuffled(directory, df_files, label=labels[0], algorithm='topsbm')\n",
    "shuffle = []\n",
    "for _ in range(50):\n",
    "    shuffle.append(get_scores_shuffled(directory, df_files, label=labels[0], algorithm='topsbm')[\"V\"])\n",
    "scores[\"shuffle\"][\"V\"] = np.average(shuffle,0)\n",
    "normalise_score(scores, base_algorithm=\"shuffle\")"
   ]
  },
  {
   "cell_type": "code",
   "execution_count": null,
   "id": "2aad6072-fb75-4118-94fc-ec1b1e1b4345",
   "metadata": {},
   "outputs": [],
   "source": [
    "analysis = \"subtypes\"\n",
    "\n",
    "fig=plt.figure(figsize=(20,15))\n",
    "ax = fig.subplots(1)\n",
    "add_score_lines(ax,scores, V=\"norm_V\", labels=analyses[analysis])\n",
    "#ax.set_xscale('linear')\n",
    "#ax.set_title(\"Tumor/Normal\", fontsize=40)\n",
    "ax.set_ylabel(\"NMI/NMI* score\", fontsize=35)\n",
    "\n",
    "plt.xlim(1,max(map(max,[score[\"xl\"] for score in scores.values()]))*1.1)\n",
    "plt.ylim(0,max(map(max,[score[\"norm_V\"] for score in scores.values()]))*1.1)\n",
    "plt.show()\n",
    "fig.savefig(\"%s/metric_scores_%s.pdf\"%(directory,analysis))"
   ]
  },
  {
   "cell_type": "code",
   "execution_count": null,
   "id": "870581a4-8119-4059-ac93-6b1ecc3ecae6",
   "metadata": {},
   "outputs": [],
   "source": [
    "level = 1\n",
    "algorithm = \"topsbm\"\n",
    "cluster = get_cluster_given_l(level, directory,algorithm=algorithm)\n",
    "fraction_sites = get_fraction_sites(cluster,df_files=df_files,label=labels[0], normalise=False)\n",
    "\n",
    "clustersinfo = get_clustersinfo(cluster,fraction_sites)\n",
    "plot_cluster_composition(fraction_sites,directory,level,label=labels[0], normalise=False,algorithm=algorithm)"
   ]
  },
  {
   "cell_type": "code",
   "execution_count": null,
   "id": "cd0b043a-6499-4e46-b9e3-e69c61525dcc",
   "metadata": {},
   "outputs": [],
   "source": [
    "level = 0\n",
    "algorithm = \"trisbm\"\n",
    "cluster = get_cluster_given_l(level, directory,algorithm=algorithm)\n",
    "fraction_sites = get_fraction_sites(cluster,df_files=df_files,label=labels[0], normalise=False)\n",
    "\n",
    "clustersinfo = get_clustersinfo(cluster,fraction_sites)\n",
    "plot_cluster_composition(fraction_sites,directory,level,label=labels[0], normalise=False,algorithm=algorithm)"
   ]
  },
  {
   "cell_type": "code",
   "execution_count": null,
   "id": "92532505-3438-4802-beeb-069f38556075",
   "metadata": {
    "tags": []
   },
   "outputs": [],
   "source": [
    "directory = \"brca/\"\n",
    "\n",
    "scores = {}\n",
    "scores['hsbm'] = get_scores(directory, labels, algorithm='topsbm', df_files=df_files, verbose=False)[labels[0]]\n",
    "scores['trisbm'] = get_scores(directory, labels, algorithm='trisbm', df_files=df_files, verbose=False)[labels[0]]\n",
    "scores['tetrasbm'] = get_scores(directory+\"tetrasbm\", labels, algorithm='trisbm', df_files=df_files, verbose=False)[labels[0]]\n",
    "scores['pentasbm'] = get_scores(directory+\"pentasbm\", labels, algorithm='trisbm', df_files=df_files, verbose=False)[labels[0]]\n",
    "scores['mirdip'] = get_scores(directory+\"/mirdip\", labels, algorithm='trisbm', df_files=df_files, verbose=False)[labels[0]]\n",
    "scores['tarbase'] = get_scores(directory+\"/tarbase\", labels, algorithm='trisbm', df_files=df_files, verbose=False)[labels[0]]\n",
    "scores['shuffle'] = get_scores_shuffled(directory, df_files, label=labels[0], algorithm='topsbm')\n",
    "shuffle = []\n",
    "for _ in range(50):\n",
    "    shuffle.append(get_scores_shuffled(directory, df_files, label=labels[0], algorithm='topsbm')[\"V\"])\n",
    "scores[\"shuffle\"][\"V\"] = np.average(shuffle,0)\n",
    "normalise_score(scores, base_algorithm=\"shuffle\")"
   ]
  },
  {
   "cell_type": "code",
   "execution_count": null,
   "id": "bee28eb0-a176-4afd-8451-c8b89c2a4d30",
   "metadata": {},
   "outputs": [],
   "source": [
    "analysis = \"regulatory\"\n",
    "\n",
    "fig=plt.figure(figsize=(20,15))\n",
    "ax = fig.subplots(1)\n",
    "add_score_lines(ax,scores, V=\"norm_V\", labels=analyses[analysis])\n",
    "#ax.set_xscale('linear')\n",
    "#ax.set_title(\"Tumor/Normal\", fontsize=40)\n",
    "ax.set_ylabel(\"NMI/NMI* score\", fontsize=35)\n",
    "\n",
    "plt.xlim(1,max(map(max,[score[\"xl\"] for score in scores.values()]))*1.1)\n",
    "plt.ylim(0,max(map(max,[score[\"norm_V\"] for score in scores.values()]))*1.1)\n",
    "plt.show()\n",
    "fig.savefig(\"%s/metric_scores_%s.pdf\"%(directory,analysis))"
   ]
  },
  {
   "cell_type": "code",
   "execution_count": null,
   "id": "0210258c-436b-4b8f-b746-73d3de379ccb",
   "metadata": {},
   "outputs": [],
   "source": [
    "analysis = \"htetra\"\n",
    "\n",
    "fig=plt.figure(figsize=(20,15))\n",
    "ax = fig.subplots(1)\n",
    "add_score_lines(ax,scores, V=\"norm_V\", labels=analyses[analysis])\n",
    "#ax.set_xscale('linear')\n",
    "#ax.set_title(\"Tumor/Normal\", fontsize=40)\n",
    "ax.set_ylabel(\"NMI/NMI* score\", fontsize=35)\n",
    "\n",
    "plt.xlim(1,max(map(max,[score[\"xl\"] for score in scores.values()]))*1.1)\n",
    "plt.ylim(0,max(map(max,[score[\"norm_V\"] for score in scores.values()]))*1.1)\n",
    "plt.show()\n",
    "fig.savefig(\"%s/metric_scores_%s.pdf\"%(directory,analysis))"
   ]
  },
  {
   "cell_type": "code",
   "execution_count": null,
   "id": "03d7b0ee-0df4-4ae1-ade3-b1d6083df5a7",
   "metadata": {},
   "outputs": [],
   "source": [
    "import sys\n",
    "sys.path.append(\"../hSBM_Topicmodel/\")\n",
    "from sbmtm import sbmtm\n",
    "from nsbm import nsbm\n",
    "import cloudpickle as pickle\n",
    "import plotly.graph_objects as go"
   ]
  },
  {
   "cell_type": "code",
   "execution_count": null,
   "id": "de15b0dc-05d3-48f7-87cb-366e79873832",
   "metadata": {},
   "outputs": [],
   "source": [
    "with open(\"brca_subtypes/topsbm/topsbm.pkl\", \"rb\") as file:\n",
    "    hsbm_sub = pickle.load(file)\n",
    "    \n",
    "with open(\"brca_subtypes/trisbm/model.pkl\", \"rb\") as file:\n",
    "    trisbm_sub = pickle.load(file)\n",
    "    \n",
    "with open(\"brca/trisbm/model.pkl\", \"rb\") as file:\n",
    "    tri = pickle.load(file)\n",
    "    \n",
    "with open(\"brca/tetrasbm/trisbm/trisbm.pkl\", \"rb\") as file:\n",
    "    tetrasbm = pickle.load(file)\n",
    "    \n",
    "with open(\"brca/pentasbm/trisbm/trisbm.pkl\", \"rb\") as file:\n",
    "    pentasbm = pickle.load(file)\n",
    "\n",
    "with open(\"brca/tarbase/trisbm/trisbm.pkl\", \"rb\") as file:\n",
    "    tarbase = pickle.load(file)\n",
    "    \n",
    "#with open(\"brca/mirdip/trisbm/trisbm.pkl\", \"rb\") as file:\n",
    "#    mirdip = pickle.load(file)"
   ]
  },
  {
   "cell_type": "code",
   "execution_count": null,
   "id": "5e6f0667-1fb5-4ad1-b543-a4e11989da13",
   "metadata": {},
   "outputs": [],
   "source": [
    "fig = go.Figure()\n",
    "\n",
    "        \n",
    "fig.add_traces([\n",
    "    go.Bar(x=[0], y=[hsbm_sub.get_mdl()/hsbm_sub.g.num_edges()], name=\"hSBM\"),\n",
    "    #go.Bar(x=[1], y=[trisbm_sub.get_mdl()/trisbm_sub.g.num_edges()], name=\"triSBM\"),\n",
    "    go.Bar(x=[1], y=[tri.get_mdl()/tri.g.num_edges()], name=\"triSBM\"),\n",
    "    go.Bar(x=[2], y=[tetrasbm.get_mdl()/tetrasbm.g.num_edges()], name=\"tetraSBM\"),\n",
    "    #go.Bar(x=[3], y=[pentasbm.get_mdl()/pentasbm.g.num_edges()], name=\"pentaSBM\"),\n",
    "    go.Bar(x=[3], y=[tarbase.get_mdl()/tarbase.g.num_edges()], name=\"regulatory\"),\n",
    "    #go.Bar(x=[1], y=[mirdip.get_mdl()/mirdip.g.num_edges()], name=\"mirdip\"),\n",
    "])\n",
    "\n",
    "titlefont = {\n",
    "    \"size\": 30 \n",
    "}\n",
    "\n",
    "tickfont = {\n",
    "    \"size\":25\n",
    "}\n",
    "\n",
    "layout = {\n",
    "    \"title\":\"Entropy\",\n",
    "    \"xaxis\":{\n",
    "        \"title\": \"Dataset\",\n",
    "        \"tickmode\": \"array\",\n",
    "        \"tickvals\": list(range(4)),\n",
    "        \"ticktext\": [\"hSBM\", \"triSBM\", \"tetraSBM\", \"regulatory\"],\n",
    "        \"titlefont\": titlefont,\n",
    "        \"tickfont\": tickfont\n",
    "    },\n",
    "    \"yaxis\":{\n",
    "        \"title\": \"∑/E\",\n",
    "        #\"range\":[-3e4,1000],\n",
    "        \"type\":\"log\",\n",
    "        \"titlefont\": titlefont,\n",
    "        \"tickfont\": tickfont,\n",
    "    },\n",
    "    \"legend\":{\n",
    "        \"font_size\":35\n",
    "    },\n",
    "    \"showlegend\":False\n",
    "}\n",
    "\n",
    "fig.update_layout(layout)\n",
    "\n",
    "fig.show()\n",
    "fig.write_image(\"entropy_comparison.pdf\", engine=\"kaleido\")"
   ]
  },
  {
   "cell_type": "code",
   "execution_count": null,
   "id": "25c73668-86b7-49fd-8906-fdd8dcd01e6e",
   "metadata": {},
   "outputs": [],
   "source": [
    "import math\n",
    "print((hsbm_sub.get_mdl()/hsbm_sub.g.num_edges()-trisbm_sub.get_mdl()/trisbm_sub.g.num_edges()))\n",
    "print((hsbm_sub.get_mdl()/hsbm_sub.g.num_edges()-trisbm_sub.get_mdl()/trisbm_sub.g.num_edges())*math.log10(math.exp(1)))"
   ]
  },
  {
   "cell_type": "markdown",
   "id": "973db0c2-2c9c-4e59-8034-07ceee32f9aa",
   "metadata": {},
   "source": [
    "# Overlaps"
   ]
  },
  {
   "cell_type": "code",
   "execution_count": null,
   "id": "2fb35682-d10a-42cf-9a07-1b54e9b2bfc8",
   "metadata": {},
   "outputs": [],
   "source": [
    "directory = \"brca/\"\n",
    "os.chdir(directory)"
   ]
  },
  {
   "cell_type": "markdown",
   "id": "a00e62d5-d0a8-4867-84ad-8a564498d4e3",
   "metadata": {},
   "source": [
    "## Clusters conservation"
   ]
  },
  {
   "cell_type": "code",
   "execution_count": null,
   "id": "e04ef928-8db1-4b10-abfc-a60ea501bdd2",
   "metadata": {},
   "outputs": [],
   "source": [
    "from sklearn.metrics import adjusted_mutual_info_score"
   ]
  },
  {
   "cell_type": "code",
   "execution_count": null,
   "id": "0410155c-d634-4634-819c-d4118ae3cefd",
   "metadata": {},
   "outputs": [],
   "source": [
    "df_first = pd.read_csv(\"topsbm/topsbm_level_1_clusters.csv\")\n",
    "df_second = pd.read_csv(\"trisbm/trisbm_level_0_clusters.csv\")\n",
    "assert(np.isin(list(filter(lambda sample: str(sample)!=\"nan\",df_first.values.ravel())), \n",
    "        list(filter(lambda sample: str(sample)!=\"nan\",df_second.values.ravel())), invert=True).sum()==0)"
   ]
  },
  {
   "cell_type": "code",
   "execution_count": null,
   "id": "9d343ac9-4d2d-4e18-a878-8488d623ec61",
   "metadata": {},
   "outputs": [],
   "source": [
    "samples = df_first.values.ravel()\n",
    "samples = list(filter(lambda sample: str(sample)!=\"nan\",samples))"
   ]
  },
  {
   "cell_type": "code",
   "execution_count": null,
   "id": "e8271512-d927-4a5d-a794-2115e0adb42e",
   "metadata": {},
   "outputs": [],
   "source": [
    "partition = []\n",
    "for sample in samples:\n",
    "    try:\n",
    "        partition.append((\n",
    "                df_first.columns[(df_first==sample).any()].values[0].split(\" \")[1],\n",
    "                df_second.columns[(df_second==sample).any()].values[0].split(\" \")[1]\n",
    "                )\n",
    "            )\n",
    "    except:\n",
    "        pass\n",
    "partition = list(zip(*partition))"
   ]
  },
  {
   "cell_type": "code",
   "execution_count": null,
   "id": "5b0c1a72-5fca-4492-87de-7fddb1e63204",
   "metadata": {},
   "outputs": [],
   "source": [
    "adjusted_mutual_info_score(partition[0],partition[1])"
   ]
  },
  {
   "cell_type": "code",
   "execution_count": null,
   "id": "6a3c0839-8753-45e8-94e4-10b69398a2d0",
   "metadata": {},
   "outputs": [],
   "source": [
    "AMI_levels = [[0.127, 0],\n",
    "              [0.31, 0],\n",
    "              [0.25, 0],\n",
    "              [0.005, 0]]"
   ]
  },
  {
   "cell_type": "code",
   "execution_count": null,
   "id": "a8f74d1f-0cc2-4dc3-850c-b355e3e592e2",
   "metadata": {},
   "outputs": [],
   "source": [
    "cm = sns.clustermap(AMI_levels,\n",
    "            xticklabels=[\"l%d\"%l for l in range(2)],\n",
    "            yticklabels=[\"l%d\"%l for l in range(4)],\n",
    "            row_cluster=False,\n",
    "            col_cluster=False,\n",
    "            vmax=1)\n",
    "\n",
    "ax = cm.ax_heatmap\n",
    "fig = ax.get_figure()\n",
    "ax.set_title(\"clusters\", fontsize=35)\n",
    "ax.set_ylabel(\"hSBM\", fontsize=35, rotation=90)\n",
    "ax.set_xlabel(\"trisbm\", fontsize=35, rotation=0)\n",
    "\n",
    "ax.yaxis.tick_left()\n",
    "ax.yaxis.set_label_position(\"left\")\n",
    "ax.tick_params(labelsize=35)\n",
    "\n",
    "cax = cm.ax_cbar\n",
    "cax.tick_params(labelsize=30)\n",
    "cax.set_title(\"AMI\", fontsize=30)\n",
    "plt.tight_layout()\n",
    "fig.savefig(\"cluster_overlap_levels.pdf\")"
   ]
  },
  {
   "cell_type": "code",
   "execution_count": null,
   "id": "f966f921-12cf-4439-a03c-f527388ade26",
   "metadata": {},
   "outputs": [],
   "source": [
    "df_cluster_overlap = pd.DataFrame(index=df_first.columns, columns=df_second.columns, data=0.)"
   ]
  },
  {
   "cell_type": "code",
   "execution_count": null,
   "id": "556e0765-8b7e-4a2f-ac21-3309c3b38f9a",
   "metadata": {},
   "outputs": [],
   "source": [
    "def get_overlap(x,y):\n",
    "    return np.isin(x,y).sum().astype(float)/float(len(y))\n",
    "\n",
    "def get_pval(setA, setB):\n",
    "    x = np.isin(setA,setB).sum() # number of successes\n",
    "    M = len(samples) # pop size\n",
    "    k = len(setB) # successes in pop\n",
    "    N = len(setA) # sample size\n",
    "    pval = hypergeom.sf(x-1, M, k, N)\n",
    "    return pval"
   ]
  },
  {
   "cell_type": "code",
   "execution_count": null,
   "id": "1630cf8f-ef9a-4d77-bf5f-16330bd7dfb3",
   "metadata": {},
   "outputs": [],
   "source": [
    "for row in df_first.columns:\n",
    "    for column in df_second.columns:\n",
    "        df_cluster_overlap.at[row,column]=get_overlap(df_first[row].dropna().values, df_second[column].dropna().values)"
   ]
  },
  {
   "cell_type": "code",
   "execution_count": null,
   "id": "7b5cdecb-2d48-4b77-8ca5-939b03cc0d58",
   "metadata": {},
   "outputs": [],
   "source": [
    "cm = sns.clustermap(df_cluster_overlap,\n",
    "            xticklabels=df_second.columns,\n",
    "            yticklabels=df_first.columns,\n",
    "            row_cluster=False,\n",
    "            col_cluster=False)\n",
    "\n",
    "ax = cm.ax_heatmap\n",
    "fig = ax.get_figure()\n",
    "ax.set_ylabel(\"hSBM\", fontsize=35, rotation=90)\n",
    "ax.set_xlabel(\"trisbm\", fontsize=35, rotation=0)\n",
    "\n",
    "ax.yaxis.tick_left()\n",
    "ax.yaxis.set_label_position(\"left\")\n",
    "ax.tick_params(labelsize=35)\n",
    "\n",
    "cax = cm.ax_cbar\n",
    "cax.tick_params(labelsize=30)\n",
    "cax.set_title(\"%sample\\nin common\", fontsize=30)\n",
    "cm.savefig(f\"topic_kl.pdf\")"
   ]
  },
  {
   "cell_type": "markdown",
   "id": "251c1c80-4bd3-44ce-9744-45db90228d89",
   "metadata": {},
   "source": [
    "## Topic conservation"
   ]
  },
  {
   "cell_type": "code",
   "execution_count": null,
   "id": "197e5143-7662-4b46-a92b-c429a0f99667",
   "metadata": {},
   "outputs": [],
   "source": [
    "df_first = pd.read_csv(\"topsbm/topsbm_level_1_topics.csv\")\n",
    "df_second = pd.read_csv(\"trisbm/trisbm_level_0_topics.csv\")\n",
    "assert(np.isin(list(filter(lambda sample: str(sample)!=\"nan\",df_first.values.ravel())), \n",
    "        list(filter(lambda sample: str(sample)!=\"nan\",df_second.values.ravel())), invert=True).sum()==0)"
   ]
  },
  {
   "cell_type": "code",
   "execution_count": null,
   "id": "0004c0a7-fe0a-41a9-8ad9-b6efc979a46a",
   "metadata": {},
   "outputs": [],
   "source": [
    "genes = df_first.values.ravel()\n",
    "genes = list(filter(lambda sample: str(sample)!=\"nan\",genes))"
   ]
  },
  {
   "cell_type": "code",
   "execution_count": null,
   "id": "4349dcf9-ce4a-491a-a7d5-66815693ec9b",
   "metadata": {},
   "outputs": [],
   "source": [
    "partition = []\n",
    "for sample in genes:\n",
    "    partition.append((\n",
    "        df_first.columns[(df_first==sample).any()].values[0].split(\" \")[1],\n",
    "        df_second.columns[(df_second==sample).any()].values[0].split(\" \")[1]\n",
    "        )\n",
    "    )\n",
    "partition = list(zip(*partition))"
   ]
  },
  {
   "cell_type": "code",
   "execution_count": null,
   "id": "6225d032-ac22-4af9-8b76-bc89d3897e9f",
   "metadata": {},
   "outputs": [],
   "source": [
    "adjusted_mutual_info_score(partition[0], partition[1])"
   ]
  },
  {
   "cell_type": "code",
   "execution_count": null,
   "id": "c5decb12-03a4-4c66-9448-0aae30a3d722",
   "metadata": {},
   "outputs": [],
   "source": [
    "AMI_levels = [[0.24, 0.099],\n",
    "             [0.25,0.09],\n",
    "             [0.12, 0.09],\n",
    "             [0.08, 0.10]]"
   ]
  },
  {
   "cell_type": "code",
   "execution_count": null,
   "id": "3b642bc9-fe49-4a26-b9c4-e1d564ff9bc0",
   "metadata": {},
   "outputs": [],
   "source": [
    "cm = sns.clustermap(AMI_levels,\n",
    "            xticklabels=[\"l%d\"%l for l in range(2)],\n",
    "            yticklabels=[\"l%d\"%l for l in range(4)],\n",
    "            row_cluster=False,\n",
    "            col_cluster=False,\n",
    "            vmax=1)\n",
    "\n",
    "ax = cm.ax_heatmap\n",
    "fig = ax.get_figure()\n",
    "ax.set_title(\"topics\", fontsize=35)\n",
    "ax.set_ylabel(\"hSBM\", fontsize=35, rotation=90)\n",
    "ax.set_xlabel(\"trisbm\", fontsize=35, rotation=0)\n",
    "\n",
    "ax.yaxis.tick_left()\n",
    "ax.yaxis.set_label_position(\"left\")\n",
    "ax.tick_params(labelsize=35)\n",
    "\n",
    "cax = cm.ax_cbar\n",
    "cax.tick_params(labelsize=30)\n",
    "cax.set_title(\"AMI\", fontsize=30)\n",
    "plt.tight_layout()\n",
    "fig.savefig(\"topic_overlap_levels.pdf\")"
   ]
  },
  {
   "cell_type": "code",
   "execution_count": null,
   "id": "017c826a-c35c-4422-8e01-aa18b3396944",
   "metadata": {},
   "outputs": [],
   "source": [
    "df_cluster_overlap = pd.DataFrame(index=df_first.columns, columns=df_second.columns, data=0.)"
   ]
  },
  {
   "cell_type": "code",
   "execution_count": null,
   "id": "e1d666ac-c02a-48d8-ac3d-5bf85fda15c4",
   "metadata": {},
   "outputs": [],
   "source": [
    "for row in df_first.columns:\n",
    "    for column in df_second.columns:\n",
    "        df_cluster_overlap.at[row,column]=get_overlap(df_first[row].dropna().values, df_second[column].dropna().values)"
   ]
  },
  {
   "cell_type": "code",
   "execution_count": null,
   "id": "04d3bed3-d1f5-40de-9d88-402ad2114ca4",
   "metadata": {},
   "outputs": [],
   "source": [
    "cm = sns.clustermap(df_cluster_overlap,\n",
    "            xticklabels=df_second.columns,\n",
    "            yticklabels=df_first.columns,\n",
    "            row_cluster=False,\n",
    "            col_cluster=False,\n",
    "            vmax=1)\n",
    "\n",
    "ax = cm.ax_heatmap\n",
    "fig = ax.get_figure()\n",
    "ax.set_ylabel(\"hSBM\", fontsize=35, rotation=90)\n",
    "ax.set_xlabel(\"trisbm\", fontsize=35, rotation=0)\n",
    "\n",
    "ax.yaxis.tick_left()\n",
    "ax.yaxis.set_label_position(\"left\")\n",
    "ax.tick_params(labelsize=35)\n",
    "\n",
    "cax = cm.ax_cbar\n",
    "cax.tick_params(labelsize=30)\n",
    "#cax.set_title(\"% gene in common\", fontsize=30)\n",
    "cax.set_title(\"P_hypergeom\", fontsize=30)\n",
    "cm.savefig(f\"topic_overlap.pdf\")"
   ]
  },
  {
   "cell_type": "markdown",
   "id": "1cc46b08-55f4-44a9-b82c-7e69a6caa873",
   "metadata": {},
   "source": [
    "# Survival\n",
    "See [triSBM_survival](triSBM_survival.ipynb)"
   ]
  },
  {
   "cell_type": "markdown",
   "id": "393904f4-c199-4530-a9ff-6486c58fa899",
   "metadata": {},
   "source": [
    "# GO contribution\n",
    "See [go_contribution](go_contribution.ipynb)"
   ]
  },
  {
   "cell_type": "code",
   "execution_count": null,
   "id": "63aa5953-9dcc-4ac8-a5e2-6dfcd8874793",
   "metadata": {},
   "outputs": [],
   "source": []
  }
 ],
 "metadata": {
  "kernelspec": {
   "display_name": "Python 3",
   "language": "python",
   "name": "python3"
  },
  "language_info": {
   "codemirror_mode": {
    "name": "ipython",
    "version": 3
   },
   "file_extension": ".py",
   "mimetype": "text/x-python",
   "name": "python",
   "nbconvert_exporter": "python",
   "pygments_lexer": "ipython3",
   "version": "3.8.8"
  }
 },
 "nbformat": 4,
 "nbformat_minor": 5
}
