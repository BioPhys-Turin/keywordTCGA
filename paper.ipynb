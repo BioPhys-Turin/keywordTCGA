{
 "cells": [
  {
   "cell_type": "code",
   "execution_count": null,
   "id": "31eb3eb6",
   "metadata": {},
   "outputs": [],
   "source": [
    "%load_ext watermark\n",
    "%watermark -a Filippo_Valle -p numpy,pandas,seaborn,matplotlib,topicpy,sklearn,cloudpickle,plotly,nsbm -m -g -r -v"
   ]
  },
  {
   "cell_type": "code",
   "execution_count": null,
   "id": "60a34642",
   "metadata": {},
   "outputs": [],
   "source": [
    "import os\n",
    "import numpy as np\n",
    "import pandas as pd\n",
    "import seaborn as  sns\n",
    "import matplotlib.pyplot as plt\n",
    "from topicpy.hsbmpy import get_scores, get_scores_shuffled, normalise_score, add_score_lines, get_max_available_L\n",
    "from topicpy.hsbmpy import get_cluster_given_l, get_fraction_sites, get_clustersinfo, plot_cluster_composition"
   ]
  },
  {
   "cell_type": "markdown",
   "id": "417520fa",
   "metadata": {},
   "source": [
    "# Clustering and scores"
   ]
  },
  {
   "cell_type": "code",
   "execution_count": null,
   "id": "6ef6ef54",
   "metadata": {},
   "outputs": [],
   "source": [
    "level = 1\n",
    "algorithm = 'trisbm'\n",
    "directory = \"brca/\"\n",
    "L=get_max_available_L(directory, algorithm)\n",
    "df_clusters = pd.read_csv(\"%s/%s/%s_level_%d_clusters.csv\"%(directory,algorithm,algorithm,L), header=[0])\n",
    "df_clusters.head()"
   ]
  },
  {
   "cell_type": "code",
   "execution_count": null,
   "id": "1738f949",
   "metadata": {},
   "outputs": [],
   "source": [
    "df_files = pd.read_csv(\"%s/files.dat\"%directory, index_col=[0], header=[0]).dropna(axis=1, how='all').dropna(axis=0, how='all')\n",
    "samples = pd.read_csv(\"%s/%s/%s_level_0_clusters.csv\"%(directory,algorithm,algorithm), header=[0]).astype(str).values.ravel()\n",
    "samples=samples[samples!=\"nan\"]\n",
    "df_files = df_files.reindex(index=samples).dropna(how=\"any\",axis=0).fillna(\"unknown\")\n",
    "labels = df_files.columns\n",
    "print(labels)"
   ]
  },
  {
   "cell_type": "code",
   "execution_count": null,
   "id": "3070f10e",
   "metadata": {},
   "outputs": [],
   "source": [
    "analyses = {\n",
    "    \"normaltumor\": [\"hsbm\", \"trisbm\", \"shuffle\"],\n",
    "    \"subtypes\": [\"hsbm\", \"trisbm\", \"shuffle\"],\n",
    "    \"htetra\": [\"hsbm\", \"trisbm\", \"tetrasbm\", \"shuffle\"],\n",
    "    \"htetra_link\": [\"hsbm\", \"trisbm\", \"tetrasbm\", \"cnv_linked_1\", \"cnv_linked_5\", \"cnv_linked_10\", \"cnv_linked_50\", \"cnv_linked_100\", \"cnv_linked_1000\", \"shuffle\"],\n",
    "    \"all_bi\":[\"hsbm\", \"cnv\", \"ssm\", \"shuffle\"],\n",
    "    \"regulatory\": [\"hsbm\", \"trisbm\", \"mirdip\", \"tarbase\", \"shuffle\"]\n",
    "}"
   ]
  },
  {
   "cell_type": "code",
   "execution_count": null,
   "id": "bde6dc96",
   "metadata": {},
   "outputs": [],
   "source": [
    "labels = [\"Subtype_Selected\", 'sample_submitter_id_type', 'sample_submitter_id_mirna_type', 'Subtype_Selected_Norm']"
   ]
  },
  {
   "cell_type": "code",
   "execution_count": null,
   "id": "d954bbe4",
   "metadata": {
    "tags": []
   },
   "outputs": [],
   "source": [
    "directory = \"brca/\"\n",
    "\n",
    "scores = {}\n",
    "scores['hsbm'] = get_scores(directory, labels, algorithm='topsbm', df_files=df_files, verbose=False)[labels[1]]\n",
    "scores['trisbm'] = get_scores(directory, labels, algorithm='trisbm', df_files=df_files, verbose=False)[labels[1]]\n",
    "#scores['tetrasbm'] = get_scores(directory+\"/tetrasbm/\", labels, algorithm='trisbm', df_files=df_files, verbose=False)[labels[1]]\n",
    "#scores['pentasbm'] = get_scores(directory+\"/pentasbm/\", labels, algorithm='trisbm', df_files=df_files, verbose=False)[labels[1]]\n",
    "scores['shuffle'] = get_scores_shuffled(directory, df_files, label=labels[1], algorithm='topsbm')\n",
    "shuffle = []\n",
    "for _ in range(50):\n",
    "    shuffle.append(get_scores_shuffled(directory, df_files, label=labels[1], algorithm='topsbm')[\"V\"])\n",
    "scores[\"shuffle\"][\"V\"] = np.average(shuffle,0)\n",
    "normalise_score(scores, base_algorithm=\"shuffle\")"
   ]
  },
  {
   "cell_type": "code",
   "execution_count": null,
   "id": "dbc3ab71",
   "metadata": {},
   "outputs": [],
   "source": [
    "analysis = \"normaltumor\"\n",
    "\n",
    "fig=plt.figure(figsize=(20,15))\n",
    "ax = fig.subplots(1)\n",
    "add_score_lines(ax,scores, V=\"norm_V\", labels=analyses[analysis])\n",
    "#ax.set_xscale('linear')\n",
    "#ax.set_title(\"Tumor/Normal\", fontsize=40)\n",
    "ax.set_ylabel(\"NMI/NMI* score\", fontsize=35)\n",
    "\n",
    "plt.xlim(1,max(map(max,[score[\"xl\"] for score in scores.values()]))*1.1)\n",
    "plt.ylim(0,max(map(max,[score[\"norm_V\"] for score in scores.values()]))*1.1)\n",
    "plt.show()\n",
    "fig.savefig(\"%s/metric_scores_%s.pdf\"%(directory,analysis))"
   ]
  },
  {
   "cell_type": "code",
   "execution_count": null,
   "id": "db6a6073",
   "metadata": {},
   "outputs": [],
   "source": [
    "level = 2\n",
    "algorithm = \"topsbm\"\n",
    "cluster = get_cluster_given_l(level, \"brca\", algorithm=algorithm)\n",
    "fraction_sites = get_fraction_sites(cluster, df_files=pd.read_csv(\"brca/files.dat\", index_col=0), label=labels[1], normalise=True)\n",
    "\n",
    "clustersinfo = get_clustersinfo(cluster,fraction_sites)\n",
    "plot_cluster_composition(fraction_sites,\"brca\",level,label=labels[1], normalise=True,algorithm=algorithm)"
   ]
  },
  {
   "cell_type": "code",
   "execution_count": null,
   "id": "54621528",
   "metadata": {},
   "outputs": [],
   "source": [
    "level = 2\n",
    "algorithm = \"topsbm\"\n",
    "cluster = get_cluster_given_l(level, \"brca\", algorithm=algorithm)\n",
    "fraction_sites = get_fraction_sites(cluster, df_files=df_files, label=labels[3], normalise=False)\n",
    "\n",
    "clustersinfo = get_clustersinfo(cluster,fraction_sites)\n",
    "plot_cluster_composition(fraction_sites,\"brca\",level,label=labels[3], normalise=False,algorithm=algorithm)"
   ]
  },
  {
   "cell_type": "code",
   "execution_count": null,
   "id": "9bd78dd4",
   "metadata": {},
   "outputs": [],
   "source": [
    "level = 0\n",
    "algorithm = \"trisbm\"\n",
    "cluster = get_cluster_given_l(level, \"brca\",algorithm=algorithm)\n",
    "fraction_sites = get_fraction_sites(cluster,df_files=df_files,label=labels[1], normalise=True)\n",
    "\n",
    "clustersinfo = get_clustersinfo(cluster,fraction_sites)\n",
    "plot_cluster_composition(fraction_sites,\"brca\",level,label=labels[1], normalise=True,algorithm=algorithm)"
   ]
  },
  {
   "cell_type": "code",
   "execution_count": null,
   "id": "c9ec742f",
   "metadata": {},
   "outputs": [],
   "source": [
    "level = 0\n",
    "algorithm = \"trisbm\"\n",
    "cluster = get_cluster_given_l(level, \"brca\",algorithm=algorithm)\n",
    "fraction_sites = get_fraction_sites(cluster,df_files=df_files,label=labels[0], normalise=False)\n",
    "\n",
    "clustersinfo = get_clustersinfo(cluster,fraction_sites)\n",
    "plot_cluster_composition(fraction_sites,\"brca\",level,label=labels[0], normalise=False,algorithm=algorithm)"
   ]
  },
  {
   "cell_type": "code",
   "execution_count": null,
   "id": "7e278e16",
   "metadata": {},
   "outputs": [],
   "source": [
    "level = 0\n",
    "algorithm = \"trisbm\"\n",
    "cluster = get_cluster_given_l(level, \"brca\",algorithm=algorithm)\n",
    "fraction_sites = get_fraction_sites(cluster,df_files=df_files,label=labels[3], normalise=False)\n",
    "\n",
    "clustersinfo = get_clustersinfo(cluster,fraction_sites)\n",
    "plot_cluster_composition(fraction_sites,\"brca\",level,label=labels[3], normalise=False,algorithm=algorithm)"
   ]
  },
  {
   "cell_type": "code",
   "execution_count": null,
   "id": "d1eaa1b8",
   "metadata": {},
   "outputs": [],
   "source": [
    "directory = \"brca/\"\n",
    "\n",
    "scores = {}\n",
    "scores['hsbm'] = get_scores(directory, labels, algorithm='topsbm', df_files=df_files, verbose=False)[labels[3]]\n",
    "scores['trisbm'] = get_scores(directory, labels, algorithm='trisbm', df_files=df_files, verbose=False)[labels[3]]\n",
    "\n",
    "scores['shuffle'] = get_scores_shuffled(directory, df_files, label=labels[3], algorithm='topsbm')\n",
    "shuffle = []\n",
    "for _ in range(50):\n",
    "    shuffle.append(get_scores_shuffled(directory, df_files, label=labels[3], algorithm='topsbm')[\"V\"])\n",
    "scores[\"shuffle\"][\"V\"] = np.average(shuffle,0)\n",
    "normalise_score(scores, base_algorithm=\"shuffle\")"
   ]
  },
  {
   "cell_type": "code",
   "execution_count": null,
   "id": "198d2d09",
   "metadata": {},
   "outputs": [],
   "source": [
    "analysis = \"subtypes\"\n",
    "\n",
    "fig=plt.figure(figsize=(20,15))\n",
    "ax = fig.subplots(1)\n",
    "add_score_lines(ax,scores, V=\"norm_V\", labels=analyses[analysis])\n",
    "#ax.set_xscale('linear')\n",
    "#ax.set_title(\"Tumor/Normal\", fontsize=40)\n",
    "ax.set_ylabel(\"NMI/NMI* score\", fontsize=35)\n",
    "\n",
    "plt.xlim(1,max(map(max,[score[\"xl\"] for score in scores.values()]))*1.1)\n",
    "plt.ylim(0,max(map(max,[score[\"norm_V\"] for score in scores.values()]))*1.1)\n",
    "plt.show()\n",
    "fig.savefig(\"%s/metric_scores_%s.pdf\"%(directory,analysis))"
   ]
  },
  {
   "cell_type": "code",
   "execution_count": null,
   "id": "541e2378",
   "metadata": {
    "tags": []
   },
   "outputs": [],
   "source": [
    "directory = \"brca/\"\n",
    "\n",
    "scores = {}\n",
    "scores['hsbm'] = get_scores(directory, labels, algorithm='topsbm', df_files=df_files, verbose=False)[labels[0]]\n",
    "scores['trisbm'] = get_scores(directory, labels, algorithm='trisbm', df_files=df_files, verbose=False)[labels[0]]\n",
    "scores['tetrasbm'] = get_scores(directory+\"tetrasbm\", labels, algorithm='trisbm', df_files=df_files, verbose=False)[labels[0]]\n",
    "\n",
    "scores['cnv_linked_1'] = get_scores(directory+\"cnv_linked_1\", labels, algorithm='trisbm', df_files=df_files, verbose=False)[labels[0]]\n",
    "scores['cnv_linked_5'] = get_scores(directory+\"cnv_linked_1\", labels, algorithm='trisbm', df_files=df_files, verbose=False)[labels[0]]\n",
    "scores['cnv_linked_10'] = get_scores(directory+\"cnv_linked_10\", labels, algorithm='trisbm', df_files=df_files, verbose=False)[labels[0]]\n",
    "scores['cnv_linked_50'] = get_scores(directory+\"cnv_linked_50\", labels, algorithm='trisbm', df_files=df_files, verbose=False)[labels[0]]\n",
    "scores['cnv_linked_100'] = get_scores(directory+\"cnv_linked_100\", labels, algorithm='trisbm', df_files=df_files, verbose=False)[labels[0]]\n",
    "scores['cnv_linked_1000'] = get_scores(directory+\"cnv_linked_100\", labels, algorithm='trisbm', df_files=df_files, verbose=False)[labels[0]]\n",
    "\n",
    "\n",
    "scores['pentasbm'] = get_scores(directory+\"pentasbm\", labels, algorithm='trisbm', df_files=df_files, verbose=False)[labels[0]]\n",
    "scores['mirdip'] = get_scores(directory+\"/mirdip\", labels, algorithm='trisbm', df_files=df_files, verbose=False)[labels[0]]\n",
    "scores['tarbase'] = get_scores(directory+\"/tarbase\", labels, algorithm='trisbm', df_files=df_files, verbose=False)[labels[0]]\n",
    "scores['shuffle'] = get_scores_shuffled(directory, df_files, label=labels[0], algorithm='topsbm')\n",
    "shuffle = []\n",
    "for _ in range(50):\n",
    "    shuffle.append(get_scores_shuffled(directory, df_files, label=labels[0], algorithm='topsbm')[\"V\"])\n",
    "scores[\"shuffle\"][\"V\"] = np.average(shuffle,0)\n",
    "normalise_score(scores, base_algorithm=\"shuffle\")"
   ]
  },
  {
   "cell_type": "code",
   "execution_count": null,
   "id": "e3621822",
   "metadata": {},
   "outputs": [],
   "source": [
    "analysis = \"regulatory\"\n",
    "\n",
    "fig=plt.figure(figsize=(20,15))\n",
    "ax = fig.subplots(1)\n",
    "add_score_lines(ax,scores, V=\"norm_V\", labels=analyses[analysis])\n",
    "#ax.set_xscale('linear')\n",
    "#ax.set_title(\"Tumor/Normal\", fontsize=40)\n",
    "ax.set_ylabel(\"NMI/NMI* score\", fontsize=35)\n",
    "\n",
    "plt.xlim(1,max(map(max,[score[\"xl\"] for score in scores.values()]))*1.1)\n",
    "plt.ylim(0,max(map(max,[score[\"norm_V\"] for score in scores.values()]))*1.1)\n",
    "plt.show()\n",
    "fig.savefig(\"%s/metric_scores_%s.pdf\"%(directory,analysis))"
   ]
  },
  {
   "cell_type": "code",
   "execution_count": null,
   "id": "48c82faa",
   "metadata": {},
   "outputs": [],
   "source": [
    "analysis = \"htetra\"\n",
    "\n",
    "fig=plt.figure(figsize=(20,15))\n",
    "ax = fig.subplots(1)\n",
    "add_score_lines(ax,scores, V=\"norm_V\", labels=analyses[analysis])\n",
    "#ax.set_xscale('linear')\n",
    "#ax.set_title(\"Tumor/Normal\", fontsize=40)\n",
    "ax.set_ylabel(\"NMI/NMI* score\", fontsize=35)\n",
    "\n",
    "plt.xlim(1,max(map(max,[score[\"xl\"] for score in scores.values()]))*1.1)\n",
    "plt.ylim(0,max(map(max,[score[\"norm_V\"] for score in scores.values()]))*1.1)\n",
    "plt.show()\n",
    "fig.savefig(\"%s/metric_scores_%s.pdf\"%(directory,analysis))"
   ]
  },
  {
   "cell_type": "code",
   "execution_count": null,
   "id": "99d9c6a8",
   "metadata": {},
   "outputs": [],
   "source": [
    "analysis = \"htetra_link\"\n",
    "\n",
    "fig=plt.figure(figsize=(20,15))\n",
    "ax = fig.subplots(1)\n",
    "add_score_lines(ax,scores, V=\"norm_V\", labels=analyses[analysis])\n",
    "#ax.set_xscale('linear')\n",
    "#ax.set_title(\"Tumor/Normal\", fontsize=40)\n",
    "ax.set_ylabel(\"NMI/NMI* score\", fontsize=35)\n",
    "\n",
    "plt.xlim(1,max(map(max,[score[\"xl\"] for score in scores.values()]))*1.1)\n",
    "plt.ylim(0,max(map(max,[score[\"norm_V\"] for score in scores.values()]))*1.1)\n",
    "\n",
    "plt.show()\n",
    "#fig.savefig(\"%s/metric_scores_%s.pdf\"%(directory,analysis))"
   ]
  },
  {
   "cell_type": "code",
   "execution_count": null,
   "id": "df4e390f",
   "metadata": {},
   "outputs": [],
   "source": [
    "directory = \"brca/\"\n",
    "\n",
    "scores = {}\n",
    "scores['hsbm'] = get_scores(directory, labels, algorithm='topsbm', df_files=df_files, verbose=False)[labels[0]]\n",
    "scores['cnv'] = get_scores(directory+\"cnv\", labels, algorithm='topsbm', df_files=df_files, verbose=False)[labels[0]]\n",
    "scores['ssm'] = get_scores(directory+\"ssm\", labels, algorithm='topsbm', df_files=df_files, verbose=False)[labels[0]]\n",
    "\n",
    "scores['shuffle'] = get_scores_shuffled(directory, df_files, label=labels[0], algorithm='topsbm')\n",
    "shuffle = []\n",
    "for _ in range(50):\n",
    "    shuffle.append(get_scores_shuffled(directory, df_files, label=labels[0], algorithm='topsbm')[\"V\"])\n",
    "scores[\"shuffle\"][\"V\"] = np.average(shuffle,0)\n",
    "normalise_score(scores, base_algorithm=\"shuffle\")"
   ]
  },
  {
   "cell_type": "code",
   "execution_count": null,
   "id": "1e25926e",
   "metadata": {},
   "outputs": [],
   "source": [
    "analysis = \"all_bi\"\n",
    "\n",
    "fig=plt.figure(figsize=(20,15))\n",
    "ax = fig.subplots(1)\n",
    "add_score_lines(ax,scores, V=\"norm_V\", labels=analyses[analysis])\n",
    "#ax.set_xscale('linear')\n",
    "#ax.set_title(\"Tumor/Normal\", fontsize=40)\n",
    "ax.set_ylabel(\"NMI/NMI* score\", fontsize=35)\n",
    "\n",
    "plt.xlim(1,max(map(max,[score[\"xl\"] for score in scores.values()]))*1.1)\n",
    "plt.ylim(0,max(map(max,[score[\"norm_V\"] for score in scores.values()]))*1.1)\n",
    "\n",
    "plt.show()\n",
    "fig.savefig(\"%s/metric_scores_%s.pdf\"%(directory,analysis))"
   ]
  },
  {
   "cell_type": "code",
   "execution_count": null,
   "id": "822e6cab",
   "metadata": {},
   "outputs": [],
   "source": [
    "import sys\n",
    "sys.path.append(\"../hSBM_Topicmodel/\")\n",
    "from sbmtm import sbmtm\n",
    "from nsbm import nsbm\n",
    "import cloudpickle as pickle\n",
    "import plotly.graph_objects as go"
   ]
  },
  {
   "cell_type": "code",
   "execution_count": null,
   "id": "cbc0715f",
   "metadata": {},
   "outputs": [],
   "source": [
    "with open(\"brca_subtypes/topsbm/topsbm.pkl\", \"rb\") as file:\n",
    "    hsbm_sub = pickle.load(file)\n",
    "    \n",
    "with open(\"brca_subtypes/trisbm/model.pkl\", \"rb\") as file:\n",
    "    trisbm_sub = pickle.load(file)\n",
    "    \n",
    "with open(\"brca/trisbm/model.pkl\", \"rb\") as file:\n",
    "    tri = pickle.load(file)\n",
    "    \n",
    "with open(\"brca/tetrasbm/trisbm/trisbm.pkl\", \"rb\") as file:\n",
    "    tetrasbm = pickle.load(file)\n",
    "    \n",
    "with open(\"brca/pentasbm/trisbm/trisbm.pkl\", \"rb\") as file:\n",
    "    pentasbm = pickle.load(file)\n",
    "\n",
    "with open(\"brca/tarbase/trisbm/trisbm.pkl\", \"rb\") as file:\n",
    "    tarbase = pickle.load(file)\n",
    "    \n",
    "#with open(\"brca/mirdip/trisbm/trisbm.pkl\", \"rb\") as file:\n",
    "#    mirdip = pickle.load(file)"
   ]
  },
  {
   "cell_type": "code",
   "execution_count": null,
   "id": "9dd81b76",
   "metadata": {},
   "outputs": [],
   "source": [
    "fig = go.Figure()\n",
    "\n",
    "        \n",
    "fig.add_traces([\n",
    "    go.Bar(x=[0], y=[hsbm_sub.get_mdl()/hsbm_sub.g.num_edges()], name=\"hSBM\"),\n",
    "    #go.Bar(x=[1], y=[trisbm_sub.get_mdl()/trisbm_sub.g.num_edges()], name=\"triSBM\"),\n",
    "    go.Bar(x=[1], y=[tri.get_mdl()/tri.g.num_edges()], name=\"triSBM\"),\n",
    "    go.Bar(x=[2], y=[tetrasbm.get_mdl()/tetrasbm.g.num_edges()], name=\"tetraSBM\"),\n",
    "    #go.Bar(x=[3], y=[pentasbm.get_mdl()/pentasbm.g.num_edges()], name=\"pentaSBM\"),\n",
    "    go.Bar(x=[3], y=[tarbase.get_mdl()/tarbase.g.num_edges()], name=\"regulatory\"),\n",
    "    #go.Bar(x=[1], y=[mirdip.get_mdl()/mirdip.g.num_edges()], name=\"mirdip\"),\n",
    "])\n",
    "\n",
    "titlefont = {\n",
    "    \"size\": 30 \n",
    "}\n",
    "\n",
    "tickfont = {\n",
    "    \"size\":25\n",
    "}\n",
    "\n",
    "layout = {\n",
    "    \"title\":\"Entropy\",\n",
    "    \"xaxis\":{\n",
    "        \"title\": \"Dataset\",\n",
    "        \"tickmode\": \"array\",\n",
    "        \"tickvals\": list(range(4)),\n",
    "        \"ticktext\": [\"hSBM\", \"triSBM\", \"tetraSBM\", \"regulatory\"],\n",
    "        \"titlefont\": titlefont,\n",
    "        \"tickfont\": tickfont\n",
    "    },\n",
    "    \"yaxis\":{\n",
    "        \"title\": \"∑/E\",\n",
    "        #\"range\":[-3e4,1000],\n",
    "        \"type\":\"log\",\n",
    "        \"titlefont\": titlefont,\n",
    "        \"tickfont\": tickfont,\n",
    "    },\n",
    "    \"legend\":{\n",
    "        \"font_size\":35\n",
    "    },\n",
    "    \"showlegend\":False\n",
    "}\n",
    "\n",
    "fig.update_layout(layout)\n",
    "\n",
    "fig.show()\n",
    "fig.write_image(\"entropy_comparison.pdf\", engine=\"kaleido\")"
   ]
  },
  {
   "cell_type": "code",
   "execution_count": null,
   "id": "492cbed6",
   "metadata": {},
   "outputs": [],
   "source": [
    "import math\n",
    "print((hsbm_sub.get_mdl()/hsbm_sub.g.num_edges()-trisbm_sub.get_mdl()/trisbm_sub.g.num_edges()))\n",
    "print((hsbm_sub.get_mdl()/hsbm_sub.g.num_edges()-trisbm_sub.get_mdl()/trisbm_sub.g.num_edges())*math.log10(math.exp(1)))"
   ]
  },
  {
   "cell_type": "markdown",
   "id": "f17e5cb0",
   "metadata": {},
   "source": [
    "# Overlaps"
   ]
  },
  {
   "cell_type": "code",
   "execution_count": null,
   "id": "92576d7e",
   "metadata": {},
   "outputs": [],
   "source": [
    "directory = \"brca/\"\n",
    "os.chdir(directory)"
   ]
  },
  {
   "cell_type": "markdown",
   "id": "8c94efcc",
   "metadata": {},
   "source": [
    "## Clusters conservation"
   ]
  },
  {
   "cell_type": "code",
   "execution_count": null,
   "id": "22923695",
   "metadata": {},
   "outputs": [],
   "source": [
    "from sklearn.metrics import adjusted_mutual_info_score"
   ]
  },
  {
   "cell_type": "code",
   "execution_count": null,
   "id": "d27885e1",
   "metadata": {},
   "outputs": [],
   "source": [
    "df_first = pd.read_csv(\"topsbm/topsbm_level_1_clusters.csv\")\n",
    "df_second = pd.read_csv(\"trisbm/trisbm_level_0_clusters.csv\")\n",
    "assert(np.isin(list(filter(lambda sample: str(sample)!=\"nan\",df_first.values.ravel())), \n",
    "        list(filter(lambda sample: str(sample)!=\"nan\",df_second.values.ravel())), invert=True).sum()==0)"
   ]
  },
  {
   "cell_type": "code",
   "execution_count": null,
   "id": "79f6b9b7",
   "metadata": {},
   "outputs": [],
   "source": [
    "samples = df_first.values.ravel()\n",
    "samples = list(filter(lambda sample: str(sample)!=\"nan\",samples))"
   ]
  },
  {
   "cell_type": "code",
   "execution_count": null,
   "id": "8b94fff7",
   "metadata": {},
   "outputs": [],
   "source": [
    "partition = []\n",
    "for sample in samples:\n",
    "    try:\n",
    "        partition.append((\n",
    "                df_first.columns[(df_first==sample).any()].values[0].split(\" \")[1],\n",
    "                df_second.columns[(df_second==sample).any()].values[0].split(\" \")[1]\n",
    "                )\n",
    "            )\n",
    "    except:\n",
    "        pass\n",
    "partition = list(zip(*partition))"
   ]
  },
  {
   "cell_type": "code",
   "execution_count": null,
   "id": "fd4994b2",
   "metadata": {},
   "outputs": [],
   "source": [
    "adjusted_mutual_info_score(partition[0],partition[1])"
   ]
  },
  {
   "cell_type": "code",
   "execution_count": null,
   "id": "e7c5f8de",
   "metadata": {},
   "outputs": [],
   "source": [
    "AMI_levels = [[0.127, 0],\n",
    "              [0.31, 0],\n",
    "              [0.25, 0],\n",
    "              [0.005, 0]]"
   ]
  },
  {
   "cell_type": "code",
   "execution_count": null,
   "id": "3202e13a",
   "metadata": {},
   "outputs": [],
   "source": [
    "cm = sns.clustermap(AMI_levels,\n",
    "            xticklabels=[\"l%d\"%l for l in range(2)],\n",
    "            yticklabels=[\"l%d\"%l for l in range(4)],\n",
    "            row_cluster=False,\n",
    "            col_cluster=False,\n",
    "            vmax=1)\n",
    "\n",
    "ax = cm.ax_heatmap\n",
    "fig = ax.get_figure()\n",
    "ax.set_title(\"clusters\", fontsize=35)\n",
    "ax.set_ylabel(\"hSBM\", fontsize=35, rotation=90)\n",
    "ax.set_xlabel(\"trisbm\", fontsize=35, rotation=0)\n",
    "\n",
    "ax.yaxis.tick_left()\n",
    "ax.yaxis.set_label_position(\"left\")\n",
    "ax.tick_params(labelsize=35)\n",
    "\n",
    "cax = cm.ax_cbar\n",
    "cax.tick_params(labelsize=30)\n",
    "cax.set_title(\"AMI\", fontsize=30)\n",
    "plt.tight_layout()\n",
    "fig.savefig(\"cluster_overlap_levels.pdf\")"
   ]
  },
  {
   "cell_type": "code",
   "execution_count": null,
   "id": "e501bc1d",
   "metadata": {},
   "outputs": [],
   "source": [
    "df_cluster_overlap = pd.DataFrame(index=df_first.columns, columns=df_second.columns, data=0.)"
   ]
  },
  {
   "cell_type": "code",
   "execution_count": null,
   "id": "90700fe1",
   "metadata": {},
   "outputs": [],
   "source": [
    "def get_overlap(x,y):\n",
    "    return np.isin(x,y).sum().astype(float)/float(len(y))\n",
    "\n",
    "def get_pval(setA, setB):\n",
    "    x = np.isin(setA,setB).sum() # number of successes\n",
    "    M = len(samples) # pop size\n",
    "    k = len(setB) # successes in pop\n",
    "    N = len(setA) # sample size\n",
    "    pval = hypergeom.sf(x-1, M, k, N)\n",
    "    return pval"
   ]
  },
  {
   "cell_type": "code",
   "execution_count": null,
   "id": "4356c5f0",
   "metadata": {},
   "outputs": [],
   "source": [
    "for row in df_first.columns:\n",
    "    for column in df_second.columns:\n",
    "        df_cluster_overlap.at[row,column]=get_overlap(df_first[row].dropna().values, df_second[column].dropna().values)"
   ]
  },
  {
   "cell_type": "code",
   "execution_count": null,
   "id": "0aff34a0",
   "metadata": {},
   "outputs": [],
   "source": [
    "cm = sns.clustermap(df_cluster_overlap,\n",
    "            xticklabels=df_second.columns,\n",
    "            yticklabels=df_first.columns,\n",
    "            row_cluster=False,\n",
    "            col_cluster=False)\n",
    "\n",
    "ax = cm.ax_heatmap\n",
    "fig = ax.get_figure()\n",
    "ax.set_ylabel(\"hSBM\", fontsize=35, rotation=90)\n",
    "ax.set_xlabel(\"trisbm\", fontsize=35, rotation=0)\n",
    "\n",
    "ax.yaxis.tick_left()\n",
    "ax.yaxis.set_label_position(\"left\")\n",
    "ax.tick_params(labelsize=35)\n",
    "\n",
    "cax = cm.ax_cbar\n",
    "cax.tick_params(labelsize=30)\n",
    "cax.set_title(\"%sample\\nin common\", fontsize=30)\n",
    "cm.savefig(f\"topic_kl.pdf\")"
   ]
  },
  {
   "cell_type": "markdown",
   "id": "f6f08ddc",
   "metadata": {},
   "source": [
    "## Topic conservation"
   ]
  },
  {
   "cell_type": "code",
   "execution_count": null,
   "id": "0cc268b8",
   "metadata": {},
   "outputs": [],
   "source": [
    "df_first = pd.read_csv(\"topsbm/topsbm_level_1_topics.csv\")\n",
    "df_second = pd.read_csv(\"trisbm/trisbm_level_0_topics.csv\")\n",
    "assert(np.isin(list(filter(lambda sample: str(sample)!=\"nan\",df_first.values.ravel())), \n",
    "        list(filter(lambda sample: str(sample)!=\"nan\",df_second.values.ravel())), invert=True).sum()==0)"
   ]
  },
  {
   "cell_type": "code",
   "execution_count": null,
   "id": "f1564b81",
   "metadata": {},
   "outputs": [],
   "source": [
    "genes = df_first.values.ravel()\n",
    "genes = list(filter(lambda sample: str(sample)!=\"nan\",genes))"
   ]
  },
  {
   "cell_type": "code",
   "execution_count": null,
   "id": "d244b0b8",
   "metadata": {},
   "outputs": [],
   "source": [
    "partition = []\n",
    "for sample in genes:\n",
    "    partition.append((\n",
    "        df_first.columns[(df_first==sample).any()].values[0].split(\" \")[1],\n",
    "        df_second.columns[(df_second==sample).any()].values[0].split(\" \")[1]\n",
    "        )\n",
    "    )\n",
    "partition = list(zip(*partition))"
   ]
  },
  {
   "cell_type": "code",
   "execution_count": null,
   "id": "8b3a4099",
   "metadata": {},
   "outputs": [],
   "source": [
    "adjusted_mutual_info_score(partition[0], partition[1])"
   ]
  },
  {
   "cell_type": "code",
   "execution_count": null,
   "id": "c0b508f7",
   "metadata": {},
   "outputs": [],
   "source": [
    "AMI_levels = [[0.24, 0.099],\n",
    "             [0.25,0.09],\n",
    "             [0.12, 0.09],\n",
    "             [0.08, 0.10]]"
   ]
  },
  {
   "cell_type": "code",
   "execution_count": null,
   "id": "2a51aeb7",
   "metadata": {},
   "outputs": [],
   "source": [
    "cm = sns.clustermap(AMI_levels,\n",
    "            xticklabels=[\"l%d\"%l for l in range(2)],\n",
    "            yticklabels=[\"l%d\"%l for l in range(4)],\n",
    "            row_cluster=False,\n",
    "            col_cluster=False,\n",
    "            vmax=1)\n",
    "\n",
    "ax = cm.ax_heatmap\n",
    "fig = ax.get_figure()\n",
    "ax.set_title(\"topics\", fontsize=35)\n",
    "ax.set_ylabel(\"hSBM\", fontsize=35, rotation=90)\n",
    "ax.set_xlabel(\"trisbm\", fontsize=35, rotation=0)\n",
    "\n",
    "ax.yaxis.tick_left()\n",
    "ax.yaxis.set_label_position(\"left\")\n",
    "ax.tick_params(labelsize=35)\n",
    "\n",
    "cax = cm.ax_cbar\n",
    "cax.tick_params(labelsize=30)\n",
    "cax.set_title(\"AMI\", fontsize=30)\n",
    "plt.tight_layout()\n",
    "fig.savefig(\"topic_overlap_levels.pdf\")"
   ]
  },
  {
   "cell_type": "code",
   "execution_count": null,
   "id": "1b75ca38",
   "metadata": {},
   "outputs": [],
   "source": [
    "df_cluster_overlap = pd.DataFrame(index=df_first.columns, columns=df_second.columns, data=0.)"
   ]
  },
  {
   "cell_type": "code",
   "execution_count": null,
   "id": "c5f26066",
   "metadata": {},
   "outputs": [],
   "source": [
    "for row in df_first.columns:\n",
    "    for column in df_second.columns:\n",
    "        df_cluster_overlap.at[row,column]=get_overlap(df_first[row].dropna().values, df_second[column].dropna().values)"
   ]
  },
  {
   "cell_type": "code",
   "execution_count": null,
   "id": "6e009c48",
   "metadata": {},
   "outputs": [],
   "source": [
    "cm = sns.clustermap(df_cluster_overlap,\n",
    "            xticklabels=df_second.columns,\n",
    "            yticklabels=df_first.columns,\n",
    "            row_cluster=False,\n",
    "            col_cluster=False,\n",
    "            vmax=1)\n",
    "\n",
    "ax = cm.ax_heatmap\n",
    "fig = ax.get_figure()\n",
    "ax.set_ylabel(\"hSBM\", fontsize=35, rotation=90)\n",
    "ax.set_xlabel(\"trisbm\", fontsize=35, rotation=0)\n",
    "\n",
    "ax.yaxis.tick_left()\n",
    "ax.yaxis.set_label_position(\"left\")\n",
    "ax.tick_params(labelsize=35)\n",
    "\n",
    "cax = cm.ax_cbar\n",
    "cax.tick_params(labelsize=30)\n",
    "#cax.set_title(\"% gene in common\", fontsize=30)\n",
    "cax.set_title(\"P_hypergeom\", fontsize=30)\n",
    "cm.savefig(f\"topic_overlap.pdf\")"
   ]
  },
  {
   "cell_type": "markdown",
   "id": "d5436779",
   "metadata": {},
   "source": [
    "# Survival\n",
    "See [triSBM_survival](triSBM_survival.ipynb)"
   ]
  },
  {
   "cell_type": "markdown",
   "id": "8b331b83",
   "metadata": {},
   "source": [
    "# GO contribution\n",
    "See [go_contribution](go_contribution.ipynb)"
   ]
  },
  {
   "cell_type": "markdown",
   "id": "edcf3f90",
   "metadata": {},
   "source": [
    "# Topic overlaps \n",
    "See [topic_overlaps](topic_overlaps.ipynb)"
   ]
  },
  {
   "cell_type": "markdown",
   "id": "5f2e5bdd",
   "metadata": {},
   "source": [
    "# Box plots\n",
    "See [box_plots](box_plots.ipynb)"
   ]
  },
  {
   "cell_type": "code",
   "execution_count": null,
   "id": "f9edd98e",
   "metadata": {},
   "outputs": [],
   "source": []
  }
 ],
 "metadata": {
  "kernelspec": {
   "display_name": "Python 3 (ipykernel)",
   "language": "python",
   "name": "python3"
  },
  "language_info": {
   "codemirror_mode": {
    "name": "ipython",
    "version": 3
   },
   "file_extension": ".py",
   "mimetype": "text/x-python",
   "name": "python",
   "nbconvert_exporter": "python",
   "pygments_lexer": "ipython3",
   "version": "3.8.5"
  }
 },
 "nbformat": 4,
 "nbformat_minor": 5
}
