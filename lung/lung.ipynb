{
 "cells": [
  {
   "cell_type": "code",
   "execution_count": 1,
   "id": "e6a0a79c",
   "metadata": {},
   "outputs": [
    {
     "name": "stdout",
     "output_type": "stream",
     "text": [
      "Author: Filippo_Valle\n",
      "\n",
      "Python implementation: CPython\n",
      "Python version       : 3.8.5\n",
      "IPython version      : 7.27.0\n",
      "\n",
      "pandas  : 1.3.3\n",
      "scanpy  : 1.8.1\n",
      "requests: 2.26.0\n",
      "numpy   : 1.19.5\n",
      "\n",
      "Compiler    : GCC 7.3.0\n",
      "OS          : Linux\n",
      "Release     : 5.13.0-27-generic\n",
      "Machine     : x86_64\n",
      "Processor   : x86_64\n",
      "CPU cores   : 12\n",
      "Architecture: 64bit\n",
      "\n",
      "Git hash: 57b3ec4bb84ec84e45151a3b9099bf4d3f9b047c\n",
      "\n"
     ]
    }
   ],
   "source": [
    "%load_ext watermark\n",
    "%watermark -a Filippo_Valle -p pandas,scanpy,requests,numpy -m -v -g"
   ]
  },
  {
   "cell_type": "code",
   "execution_count": 2,
   "id": "e313c5af",
   "metadata": {},
   "outputs": [],
   "source": [
    "import pandas as pd\n",
    "import scanpy as sc\n",
    "import numpy as np\n",
    "import json\n",
    "import requests"
   ]
  },
  {
   "cell_type": "markdown",
   "id": "4f998ed3",
   "metadata": {},
   "source": [
    "# Preprocessing"
   ]
  },
  {
   "cell_type": "markdown",
   "id": "33350f46",
   "metadata": {},
   "source": [
    "## Gene Names"
   ]
  },
  {
   "cell_type": "code",
   "execution_count": 3,
   "id": "7d1f2306",
   "metadata": {},
   "outputs": [
    {
     "data": {
      "text/html": [
       "<div>\n",
       "<style scoped>\n",
       "    .dataframe tbody tr th:only-of-type {\n",
       "        vertical-align: middle;\n",
       "    }\n",
       "\n",
       "    .dataframe tbody tr th {\n",
       "        vertical-align: top;\n",
       "    }\n",
       "\n",
       "    .dataframe thead th {\n",
       "        text-align: right;\n",
       "    }\n",
       "</style>\n",
       "<table border=\"1\" class=\"dataframe\">\n",
       "  <thead>\n",
       "    <tr style=\"text-align: right;\">\n",
       "      <th></th>\n",
       "      <th>ensg</th>\n",
       "    </tr>\n",
       "    <tr>\n",
       "      <th>Approved symbol</th>\n",
       "      <th></th>\n",
       "    </tr>\n",
       "  </thead>\n",
       "  <tbody>\n",
       "    <tr>\n",
       "      <th>A1BG</th>\n",
       "      <td>ENSG00000121410</td>\n",
       "    </tr>\n",
       "    <tr>\n",
       "      <th>A1BG-AS1</th>\n",
       "      <td>ENSG00000268895</td>\n",
       "    </tr>\n",
       "  </tbody>\n",
       "</table>\n",
       "</div>"
      ],
      "text/plain": [
       "                            ensg\n",
       "Approved symbol                 \n",
       "A1BG             ENSG00000121410\n",
       "A1BG-AS1         ENSG00000268895"
      ]
     },
     "execution_count": 3,
     "metadata": {},
     "output_type": "execute_result"
    }
   ],
   "source": [
    "df_conversion = pd.read_csv(\"https://www.genenames.org/cgi-bin/download/custom?col=gd_app_sym&col=md_ensembl_id&status=Approved&status=Entry%20Withdrawn&hgnc_dbtag=on&order_by=gd_app_sym_sort&format=text&submit=submit\", sep=\"\\t\").set_index(\"Approved symbol\")\n",
    "df_conversion.rename(columns={\"Ensembl ID(supplied by Ensembl)\":\"ensg\"}, inplace=True)\n",
    "df_conversion.head(2)"
   ]
  },
  {
   "cell_type": "markdown",
   "id": "8a3282fe",
   "metadata": {},
   "source": [
    "## bioMART\n",
    "https://www.ensembl.org/biomart/martview/cf9b27b6e78e9d6a1be079a4ea60f7fe"
   ]
  },
  {
   "cell_type": "code",
   "execution_count": 4,
   "id": "7bd88eb0",
   "metadata": {},
   "outputs": [
    {
     "data": {
      "text/html": [
       "<div>\n",
       "<style scoped>\n",
       "    .dataframe tbody tr th:only-of-type {\n",
       "        vertical-align: middle;\n",
       "    }\n",
       "\n",
       "    .dataframe tbody tr th {\n",
       "        vertical-align: top;\n",
       "    }\n",
       "\n",
       "    .dataframe thead th {\n",
       "        text-align: right;\n",
       "    }\n",
       "</style>\n",
       "<table border=\"1\" class=\"dataframe\">\n",
       "  <thead>\n",
       "    <tr style=\"text-align: right;\">\n",
       "      <th></th>\n",
       "      <th>miRBase ID</th>\n",
       "      <th>Gene type</th>\n",
       "    </tr>\n",
       "    <tr>\n",
       "      <th>Gene stable ID</th>\n",
       "      <th></th>\n",
       "      <th></th>\n",
       "    </tr>\n",
       "  </thead>\n",
       "  <tbody>\n",
       "    <tr>\n",
       "      <th>ENSG00000210049</th>\n",
       "      <td>NaN</td>\n",
       "      <td>Mt_tRNA</td>\n",
       "    </tr>\n",
       "    <tr>\n",
       "      <th>ENSG00000211459</th>\n",
       "      <td>NaN</td>\n",
       "      <td>Mt_rRNA</td>\n",
       "    </tr>\n",
       "  </tbody>\n",
       "</table>\n",
       "</div>"
      ],
      "text/plain": [
       "                miRBase ID Gene type\n",
       "Gene stable ID                      \n",
       "ENSG00000210049        NaN   Mt_tRNA\n",
       "ENSG00000211459        NaN   Mt_rRNA"
      ]
     },
     "execution_count": 4,
     "metadata": {},
     "output_type": "execute_result"
    }
   ],
   "source": [
    "df_mart = pd.read_csv(\"mart_export.txt\").set_index(\"Gene stable ID\")\n",
    "df_mart.head(2)"
   ]
  },
  {
   "cell_type": "markdown",
   "id": "d54763ea",
   "metadata": {},
   "source": [
    "# Tables"
   ]
  },
  {
   "cell_type": "markdown",
   "id": "1914f7f5",
   "metadata": {},
   "source": [
    "## TCGA FPKM"
   ]
  },
  {
   "cell_type": "code",
   "execution_count": null,
   "id": "3570c416",
   "metadata": {},
   "outputs": [],
   "source": [
    "df_tcga = pd.read_csv(\"mainTable_fpkm.csv\", sep=\",\", index_col=0)\n",
    "df_tcga = df_tcga.transpose().drop_duplicates().transpose()\n",
    "df_tcga.head(2)"
   ]
  },
  {
   "cell_type": "code",
   "execution_count": null,
   "id": "94eda3d8",
   "metadata": {},
   "outputs": [],
   "source": [
    "# isolate pc\n",
    "df_tcga = df_tcga.join(df_mart, how=\"inner\")\n",
    "df_tcga = df_tcga[df_tcga[\"Gene type\"]==\"protein_coding\"]\n",
    "df_tcga = df_tcga.drop([\"miRBase ID\", \"Gene type\"],1)\n",
    "cases = [\"-\".join(case.split(\"-\")[:5]) for case in df_tcga.columns]\n",
    "analytes = [\"-\".join(case.split(\"-\")[:6]) for case in df_tcga.columns]\n",
    "df_tcga.head(2)"
   ]
  },
  {
   "cell_type": "code",
   "execution_count": null,
   "id": "ca3bacbd",
   "metadata": {},
   "outputs": [],
   "source": [
    "df_files = pd.read_csv(\"files_tcga.dat\")\n",
    "df_files = df_files[df_files[\"sample_submitter_id\"].isin(df_tcga.columns)]\n",
    "df_files = df_files.loc[df_files.index[~df_files[\"sample_submitter_id\"].duplicated(keep=\"first\")],:]\n",
    "df_files = df_files.set_index(df_files.columns[0])\n",
    "df_files.head()"
   ]
  },
  {
   "cell_type": "markdown",
   "id": "978ab46f",
   "metadata": {},
   "source": [
    "### HVG"
   ]
  },
  {
   "cell_type": "code",
   "execution_count": null,
   "id": "2389f613",
   "metadata": {},
   "outputs": [],
   "source": [
    "adata = sc.AnnData(\n",
    "    X=df_tcga.transpose().reindex(index=df_files[\"sample_submitter_id\"]), \n",
    "    obs=df_files.set_index(\"sample_submitter_id\"))"
   ]
  },
  {
   "cell_type": "code",
   "execution_count": null,
   "id": "b0285654",
   "metadata": {},
   "outputs": [],
   "source": [
    "sc.pp.log1p(adata)\n",
    "sc.pp.highly_variable_genes(adata, n_top_genes=3000)\n",
    "sc.pl.highly_variable_genes(adata)"
   ]
  },
  {
   "cell_type": "code",
   "execution_count": null,
   "id": "7c90bed6",
   "metadata": {},
   "outputs": [],
   "source": [
    "hvg = adata.var[adata.var[\"highly_variable\"]==True].index"
   ]
  },
  {
   "cell_type": "markdown",
   "id": "5e377cb7",
   "metadata": {},
   "source": [
    "## miRNA"
   ]
  },
  {
   "cell_type": "code",
   "execution_count": null,
   "id": "8acd8252",
   "metadata": {},
   "outputs": [],
   "source": [
    "df_tcga_mirna = pd.read_csv(\"mainTable_mirna.csv\", index_col=0)\n",
    "df_tcga_mirna = df_tcga_mirna.transpose().drop_duplicates().transpose()\n",
    "mirna_submitter_ids = [\"-\".join(case.split(\"-\")[:4]) for case in df_tcga_mirna.columns]\n",
    "df_tcga_mirna.head(2)"
   ]
  },
  {
   "cell_type": "markdown",
   "id": "c566f2a4",
   "metadata": {},
   "source": [
    "### Highly variable miRNA"
   ]
  },
  {
   "cell_type": "code",
   "execution_count": null,
   "id": "a95ad756",
   "metadata": {},
   "outputs": [],
   "source": [
    "adata = sc.AnnData(\n",
    "    X=df_tcga_mirna.transpose().reindex(index=df_files[df_files[\"sample_submitter_id_mirna\"].isin(df_tcga_mirna.columns)][\"sample_submitter_id_mirna\"]), \n",
    "    obs=df_files[df_files[\"sample_submitter_id_mirna\"].isin(df_tcga_mirna.columns)].set_index(\"sample_submitter_id_mirna\"))"
   ]
  },
  {
   "cell_type": "code",
   "execution_count": null,
   "id": "c0a50e04",
   "metadata": {},
   "outputs": [],
   "source": [
    "sc.pp.log1p(adata)\n",
    "sc.pp.highly_variable_genes(adata, n_top_genes=1000)\n",
    "sc.pl.highly_variable_genes(adata)"
   ]
  },
  {
   "cell_type": "code",
   "execution_count": null,
   "id": "27d59716",
   "metadata": {},
   "outputs": [],
   "source": [
    "hvmiRNA = adata.var[adata.var[\"highly_variable\"]==True].index.unique()"
   ]
  },
  {
   "cell_type": "code",
   "execution_count": null,
   "id": "4452e410",
   "metadata": {},
   "outputs": [],
   "source": [
    "df_files[[\"sample_submitter_id\", \"sample_submitter_id_mirna\"]]"
   ]
  },
  {
   "cell_type": "code",
   "execution_count": null,
   "id": "7a93ffa2",
   "metadata": {},
   "outputs": [],
   "source": [
    "df_tcga_mirna = df_tcga_mirna.reindex(columns=df_files[\"sample_submitter_id_mirna\"])\n",
    "df_tcga_mirna.columns = df_files.index\n",
    "df_tcga = df_tcga.reindex(columns=df_files[\"sample_submitter_id\"])\n",
    "df_tcga.columns = df_files.index"
   ]
  },
  {
   "cell_type": "code",
   "execution_count": null,
   "id": "537873c5",
   "metadata": {},
   "outputs": [],
   "source": [
    "df_all = df_tcga.reindex(index=hvg, columns=df_files.index).append(df_tcga_mirna.reindex(index=hvmiRNA))\n",
    "df_all"
   ]
  },
  {
   "cell_type": "code",
   "execution_count": null,
   "id": "1baec4ce",
   "metadata": {},
   "outputs": [],
   "source": [
    "df_files = df_files.reset_index().rename(columns={\"Unnamed: 0\":\"case_id\"}).set_index(\"case_id\")\n",
    "df_files.to_csv(\"files.dat\")"
   ]
  },
  {
   "cell_type": "code",
   "execution_count": null,
   "id": "a568554b",
   "metadata": {},
   "outputs": [],
   "source": [
    "df_files = pd.read_csv(\"brca/files.dat\")"
   ]
  },
  {
   "cell_type": "code",
   "execution_count": null,
   "id": "ad8e727a",
   "metadata": {},
   "outputs": [],
   "source": [
    "df_files.groupby([\"Subtype_Selected\", \"sample_submitter_id_type\"]).count()"
   ]
  },
  {
   "cell_type": "code",
   "execution_count": null,
   "id": "6d2f40d6",
   "metadata": {},
   "outputs": [],
   "source": [
    "df_files[(df_files[\"Subtype_Selected\"]==\"BRCA.Normal\") & (df_files[\"sample_submitter_id_type\"]==\"tumor\")][[\"file_fpkm\", \"sample_submitter_id\", \"Subtype_Selected\"]]\n",
    "\n",
    "new_val = []\n",
    "\n",
    "for file in df_files.index:\n",
    "    sub = df_files.loc[file,\"Subtype_Selected\"]\n",
    "    typ = df_files.loc[file,\"sample_submitter_id_type\"]\n",
    "    if (sub==\"BRCA.Normal\"):\n",
    "        if typ == \"normal\":\n",
    "            new_val.append(\"Normal\")\n",
    "        else:\n",
    "            new_val.append(\"Normal-like\")\n",
    "    else:\n",
    "        new_val.append(sub)\n",
    "df_files[\"Subtype_Selected_Norm\"]=new_val"
   ]
  },
  {
   "cell_type": "code",
   "execution_count": null,
   "id": "04b83f10",
   "metadata": {},
   "outputs": [],
   "source": [
    "df_files.to_csv(\"brca/files_norm.dat\", index=False)"
   ]
  },
  {
   "cell_type": "markdown",
   "id": "36c0b877",
   "metadata": {},
   "source": [
    "## CNV"
   ]
  },
  {
   "cell_type": "code",
   "execution_count": null,
   "id": "e4475da3",
   "metadata": {},
   "outputs": [],
   "source": [
    "df_tcga_cnv = pd.read_csv(\"mainTable_cnv.csv\", index_col=0)\n",
    "df_tcga_cnv = df_tcga_cnv.transpose().drop_duplicates().transpose()\n",
    "df_tcga_cnv = df_tcga_cnv.reindex(columns=df_all.columns)\n",
    "cnv_submitter_ids = [\"-\".join(case.split(\"-\")[:4]) for case in df_tcga_cnv.columns]\n",
    "df_tcga_cnv.head(2)"
   ]
  },
  {
   "cell_type": "markdown",
   "id": "65f690d4",
   "metadata": {},
   "source": [
    "### Highly variable CNVs"
   ]
  },
  {
   "cell_type": "code",
   "execution_count": null,
   "id": "117cbbaa",
   "metadata": {},
   "outputs": [],
   "source": [
    "df_tcga_cnv.mean(1).hist()"
   ]
  },
  {
   "cell_type": "markdown",
   "id": "ec84a822",
   "metadata": {},
   "source": [
    "2 cnv is a duplication on two chromosomes"
   ]
  },
  {
   "cell_type": "code",
   "execution_count": null,
   "id": "7cede13f",
   "metadata": {},
   "outputs": [],
   "source": [
    "hvcn = df_tcga_cnv[df_tcga_cnv.mean(1)>3.5].index"
   ]
  },
  {
   "cell_type": "code",
   "execution_count": null,
   "id": "2ba8ee32",
   "metadata": {},
   "outputs": [],
   "source": [
    "np.isin(hvg,hvcn).sum()"
   ]
  },
  {
   "cell_type": "markdown",
   "id": "fd64a650",
   "metadata": {},
   "source": [
    "## Simple Somatic Mutation"
   ]
  },
  {
   "cell_type": "code",
   "execution_count": null,
   "id": "9bca5836",
   "metadata": {},
   "outputs": [],
   "source": [
    "df_tcga_ssm = pd.read_csv(\"mainTable_ssm.csv\", index_col=0)\n",
    "df_tcga_ssm = df_tcga_ssm.transpose().drop_duplicates().transpose()\n",
    "df_tcga_ssm = df_tcga_ssm.reindex(columns=df_all.columns).fillna(0)\n",
    "ssm_submitter_ids = [\"-\".join(case.split(\"-\")[:4]) for case in df_tcga_cnv.columns]\n",
    "df_tcga_ssm.head(2)"
   ]
  },
  {
   "cell_type": "code",
   "execution_count": null,
   "id": "f5b91c7b",
   "metadata": {},
   "outputs": [],
   "source": [
    "df_tcga_ssm.sum(1).hist()"
   ]
  },
  {
   "cell_type": "markdown",
   "id": "e8ff03c4",
   "metadata": {},
   "source": [
    "# Fit"
   ]
  },
  {
   "cell_type": "markdown",
   "id": "b13d987f",
   "metadata": {},
   "source": [
    "## hSBM"
   ]
  },
  {
   "cell_type": "code",
   "execution_count": null,
   "id": "bf33cca2",
   "metadata": {},
   "outputs": [],
   "source": [
    "import sys\n",
    "sys.path.append(\"../hSBM_Topicmodel/\")\n",
    "from sbmtm import sbmtm"
   ]
  },
  {
   "cell_type": "code",
   "execution_count": null,
   "id": "da957170",
   "metadata": {},
   "outputs": [],
   "source": [
    "hsbm = sbmtm()\n",
    "hsbm.make_graph_from_BoW_df(df_tcga.reindex(index=hvg).applymap(lambda fpkm: np.log2(fpkm+1)))"
   ]
  },
  {
   "cell_type": "code",
   "execution_count": null,
   "id": "2d28ada8",
   "metadata": {},
   "outputs": [],
   "source": [
    "hsbm.g"
   ]
  },
  {
   "cell_type": "code",
   "execution_count": null,
   "id": "e26fb0c8",
   "metadata": {},
   "outputs": [],
   "source": [
    "hsbm.save_graph(\"graph_breast_hsbm.xml.gz\")"
   ]
  },
  {
   "cell_type": "markdown",
   "id": "b35c1a5b",
   "metadata": {},
   "source": [
    "### CNV"
   ]
  },
  {
   "cell_type": "code",
   "execution_count": null,
   "id": "b7f9143f",
   "metadata": {},
   "outputs": [],
   "source": [
    "hsbm = sbmtm()\n",
    "hsbm.make_graph_from_BoW_df(df_tcga_cnv.reindex(columns = df_tcga.columns).fillna(0))\n",
    "hsbm.save_graph(\"graph_breast_cnv.xml.gz\")"
   ]
  },
  {
   "cell_type": "markdown",
   "id": "94e71bd8",
   "metadata": {},
   "source": [
    "### ssmSBM"
   ]
  },
  {
   "cell_type": "code",
   "execution_count": null,
   "id": "7682fbd6",
   "metadata": {},
   "outputs": [],
   "source": [
    "sys.path.append(\"../trisbm/\")\n",
    "from nsbm import nsbm"
   ]
  },
  {
   "cell_type": "code",
   "execution_count": null,
   "id": "46cc9f64",
   "metadata": {},
   "outputs": [],
   "source": [
    "nsbm_model = nsbm()\n",
    "nsbm_model.make_graph_from_BoW_df(df_tcga_ssm.fillna(0))"
   ]
  },
  {
   "cell_type": "code",
   "execution_count": null,
   "id": "ba3c038c",
   "metadata": {},
   "outputs": [],
   "source": [
    "nsbm_model.save_graph(\"graph_breast_ssm.xml.gz\")"
   ]
  },
  {
   "cell_type": "markdown",
   "id": "fc72c249",
   "metadata": {},
   "source": [
    "## triSBMdf_tcga_ssm"
   ]
  },
  {
   "cell_type": "code",
   "execution_count": null,
   "id": "ef008296",
   "metadata": {},
   "outputs": [],
   "source": [
    "sys.path.append(\"../trisbm/\")\n",
    "from trisbm import trisbm"
   ]
  },
  {
   "cell_type": "code",
   "execution_count": null,
   "id": "eb8dfcca",
   "metadata": {},
   "outputs": [],
   "source": [
    "trisbm_model = trisbm()\n",
    "trisbm_model.make_graph(df_all.applymap(lambda fpkm: np.log2(fpkm+1)), lambda gene: 1 if \"ENSG\" in gene else 2)"
   ]
  },
  {
   "cell_type": "code",
   "execution_count": null,
   "id": "b0cf5426",
   "metadata": {},
   "outputs": [],
   "source": [
    "trisbm_model.save_graph(\"graph_breast_trisbm.xml.gz\")"
   ]
  },
  {
   "cell_type": "code",
   "execution_count": null,
   "id": "4fe31bc8",
   "metadata": {},
   "outputs": [],
   "source": [
    "np.isin(hsbm.words, trisbm_model.words).sum()"
   ]
  },
  {
   "cell_type": "markdown",
   "id": "f5ecfdd3",
   "metadata": {},
   "source": [
    "## tetraSBM"
   ]
  },
  {
   "cell_type": "code",
   "execution_count": null,
   "id": "71efce67",
   "metadata": {},
   "outputs": [],
   "source": [
    "sys.path.append(\"../trisbm/\")\n",
    "from nsbm import nsbm"
   ]
  },
  {
   "cell_type": "code",
   "execution_count": null,
   "id": "074e8f2a",
   "metadata": {},
   "outputs": [],
   "source": [
    "nsbm_model = nsbm()\n",
    "nsbm_model.make_graph_multiple_df(df_tcga.reindex(index=hvg).applymap(lambda fpkm: np.log2(fpkm+1)),\n",
    "                                  [\n",
    "                                      df_tcga_mirna.reindex(index=hvmiRNA, columns = df_tcga.columns).applymap(lambda fpkm: np.log2(fpkm+1)),\n",
    "                                      df_tcga_cnv.reindex(index=hvcn, columns = df_tcga.columns)\n",
    "                                  ])"
   ]
  },
  {
   "cell_type": "code",
   "execution_count": null,
   "id": "fa980dd9",
   "metadata": {},
   "outputs": [],
   "source": [
    "nsbm_model.save_graph(\"graph_breast_tetrasbm.xml.gz\")"
   ]
  },
  {
   "cell_type": "markdown",
   "id": "0fc94a16",
   "metadata": {},
   "source": [
    "## pentaSBM"
   ]
  },
  {
   "cell_type": "code",
   "execution_count": null,
   "id": "4287033c",
   "metadata": {},
   "outputs": [],
   "source": [
    "sys.path.append(\"../trisbm/\")\n",
    "from nsbm import nsbm"
   ]
  },
  {
   "cell_type": "code",
   "execution_count": null,
   "id": "9fb52977",
   "metadata": {},
   "outputs": [],
   "source": [
    "nsbm_model = nsbm()\n",
    "nsbm_model.make_graph_multiple_df(df_tcga.reindex(index=hvg).applymap(lambda fpkm: np.log2(fpkm+1)),\n",
    "                                  [\n",
    "                                      df_tcga_mirna.reindex(index=hvmiRNA, columns = df_tcga.columns).applymap(lambda fpkm: np.log2(fpkm+1)),\n",
    "                                      df_tcga_cnv.reindex(index=hvcn, columns = df_tcga.columns),\n",
    "                                      df_tcga_ssm.reindex(columns = df_tcga.columns)\n",
    "                                  ])"
   ]
  },
  {
   "cell_type": "code",
   "execution_count": null,
   "id": "c1f4bc20",
   "metadata": {},
   "outputs": [],
   "source": [
    "nsbm_model.save_graph(\"graph_breast_pentasbm.xml.gz\")"
   ]
  },
  {
   "cell_type": "markdown",
   "id": "a8186f4f",
   "metadata": {},
   "source": [
    "# Consistency check"
   ]
  },
  {
   "cell_type": "code",
   "execution_count": null,
   "id": "1d1171fc",
   "metadata": {},
   "outputs": [],
   "source": [
    "import os"
   ]
  },
  {
   "cell_type": "code",
   "execution_count": null,
   "id": "eea81c86",
   "metadata": {},
   "outputs": [],
   "source": [
    "trisbm_model = trisbm()\n",
    "hsbm = sbmtm()\n",
    "\n",
    "trisbm_model.load_graph(\"brca/trisbm/graph.xml.gz\")\n",
    "hsbm.load_graph(\"brca/topsbm/graph.xml.gz\")"
   ]
  },
  {
   "cell_type": "code",
   "execution_count": null,
   "id": "a1da611c",
   "metadata": {},
   "outputs": [],
   "source": [
    "import graph_tool.all as gt"
   ]
  },
  {
   "cell_type": "code",
   "execution_count": null,
   "id": "3d75288e",
   "metadata": {},
   "outputs": [],
   "source": [
    "gt.adjacency(hsbm.g, weight=hsbm.g.ep[\"count\"]).max()"
   ]
  },
  {
   "cell_type": "code",
   "execution_count": null,
   "id": "e3e628ba",
   "metadata": {},
   "outputs": [],
   "source": [
    "gt.adjacency(trisbm_model.g, weight=trisbm_model.g.ep[\"count\"]).max()"
   ]
  },
  {
   "cell_type": "code",
   "execution_count": null,
   "id": "ee9de0b3",
   "metadata": {},
   "outputs": [],
   "source": [
    "import numpy as np\n",
    "np.isin(hsbm.words, trisbm_model.words, invert=False).sum()"
   ]
  },
  {
   "cell_type": "code",
   "execution_count": null,
   "id": "36733e53",
   "metadata": {},
   "outputs": [],
   "source": [
    "print(len(trisbm_model.words))\n",
    "print(len(hsbm.words))"
   ]
  },
  {
   "cell_type": "code",
   "execution_count": null,
   "id": "20918bda",
   "metadata": {},
   "outputs": [],
   "source": [
    "print(trisbm_model.g.num_vertices(), trisbm_model.g.num_edges())\n",
    "print(hsbm.g.num_vertices(), hsbm.g.num_edges())"
   ]
  },
  {
   "cell_type": "code",
   "execution_count": null,
   "id": "2c02ec73",
   "metadata": {},
   "outputs": [],
   "source": [
    "print(len(trisbm_model.documents), len(trisbm_model.words), len(trisbm_model.keywords[0]))\n",
    "print(len(hsbm.documents), len(hsbm.words))"
   ]
  },
  {
   "cell_type": "code",
   "execution_count": null,
   "id": "0e8e3137",
   "metadata": {},
   "outputs": [],
   "source": [
    "3632009 / (3000*(1092+1286))\n",
    "#2607726 / (3000*1092)"
   ]
  },
  {
   "cell_type": "code",
   "execution_count": null,
   "id": "41bd3a84",
   "metadata": {},
   "outputs": [],
   "source": [
    "import pandas as pd\n",
    "import numpy as np\n",
    "cnv_genes = pd.read_csv(\"brca/tetrasbm/trisbm/trisbm_level_0_kind_3_keyword-dist.csv\", index_col=0).index\n",
    "cnv_genes = [pc[2:] for pc in cnv_genes]\n",
    "pc_genes = pd.read_csv(\"brca/tetrasbm/trisbm/trisbm_level_0_word-dist.csv\", index_col=0).index\n",
    "np.isin(cnv_genes, pc_genes).sum(), len(cnv_genes), len(pc_genes)"
   ]
  },
  {
   "cell_type": "code",
   "execution_count": null,
   "id": "9d4927ca",
   "metadata": {},
   "outputs": [],
   "source": [
    "import sys\n",
    "sys.path.append(\"../hSBM_Topicmodel/\")\n",
    "from sbmtm import sbmtm\n",
    "sys.path.append(\"../trisbm/\")\n",
    "from trisbm import trisbm"
   ]
  },
  {
   "cell_type": "code",
   "execution_count": null,
   "id": "d2399c8d",
   "metadata": {},
   "outputs": [],
   "source": [
    "trisbm_model = trisbm()\n",
    "hsbm = sbmtm()\n",
    "\n",
    "trisbm_model.load_graph(\"/home/jovyan/work/phd/keywordTCGA/brca_subtypes/trisbm/graph.xml.gz\")\n",
    "hsbm.load_graph(\"/home/jovyan/work/phd/cancers/breast/topsbm/graph_hde.xml.gz\")"
   ]
  },
  {
   "cell_type": "code",
   "execution_count": null,
   "id": "34620ac1",
   "metadata": {},
   "outputs": [],
   "source": [
    "print(len(trisbm_model.words))\n",
    "print(len(hsbm.words))"
   ]
  },
  {
   "cell_type": "code",
   "execution_count": null,
   "id": "040ec03a",
   "metadata": {},
   "outputs": [],
   "source": [
    "print(trisbm_model.g.num_vertices(), trisbm_model.g.num_edges())\n",
    "print(hsbm.g.num_vertices(), hsbm.g.num_edges())"
   ]
  },
  {
   "cell_type": "code",
   "execution_count": null,
   "id": "5327a755",
   "metadata": {},
   "outputs": [],
   "source": [
    "np.isin(trisbm_model.words,hsbm.words).sum()"
   ]
  },
  {
   "cell_type": "code",
   "execution_count": null,
   "id": "24326e5c",
   "metadata": {},
   "outputs": [],
   "source": []
  }
 ],
 "metadata": {
  "kernelspec": {
   "display_name": "Python 3 (ipykernel)",
   "language": "python",
   "name": "python3"
  },
  "language_info": {
   "codemirror_mode": {
    "name": "ipython",
    "version": 3
   },
   "file_extension": ".py",
   "mimetype": "text/x-python",
   "name": "python",
   "nbconvert_exporter": "python",
   "pygments_lexer": "ipython3",
   "version": "3.8.5"
  }
 },
 "nbformat": 4,
 "nbformat_minor": 5
}
