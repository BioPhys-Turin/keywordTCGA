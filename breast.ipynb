{
 "cells": [
  {
   "cell_type": "code",
   "execution_count": null,
   "id": "2aafb394",
   "metadata": {},
   "outputs": [],
   "source": [
    "import pandas as pd\n",
    "import scanpy as sc\n",
    "import json\n",
    "import requests"
   ]
  },
  {
   "cell_type": "markdown",
   "id": "04ec4108",
   "metadata": {},
   "source": [
    "# Preprocessing"
   ]
  },
  {
   "cell_type": "markdown",
   "id": "01ec888c",
   "metadata": {},
   "source": [
    "## Gene Names"
   ]
  },
  {
   "cell_type": "code",
   "execution_count": null,
   "id": "796d8ecc",
   "metadata": {},
   "outputs": [],
   "source": [
    "df_conversion = pd.read_csv(\"https://www.genenames.org/cgi-bin/download/custom?col=gd_app_sym&col=md_ensembl_id&status=Approved&status=Entry%20Withdrawn&hgnc_dbtag=on&order_by=gd_app_sym_sort&format=text&submit=submit\", sep=\"\\t\").set_index(\"Approved symbol\")\n",
    "df_conversion.rename(columns={\"Ensembl ID(supplied by Ensembl)\":\"ensg\"}, inplace=True)\n",
    "df_conversion.head(2)"
   ]
  },
  {
   "cell_type": "markdown",
   "id": "1f14a3d7",
   "metadata": {},
   "source": [
    "## bioMART\n",
    "https://www.ensembl.org/biomart/martview/cf9b27b6e78e9d6a1be079a4ea60f7fe"
   ]
  },
  {
   "cell_type": "code",
   "execution_count": null,
   "id": "0a4f4ccb",
   "metadata": {},
   "outputs": [],
   "source": [
    "df_mart = pd.read_csv(\"mart_export.txt\").set_index(\"Gene stable ID\")\n",
    "df_mart.head(2)"
   ]
  },
  {
   "cell_type": "markdown",
   "id": "a65ff113",
   "metadata": {},
   "source": [
    "# TCGA FPKM"
   ]
  },
  {
   "cell_type": "code",
   "execution_count": null,
   "id": "55058ad3",
   "metadata": {},
   "outputs": [],
   "source": [
    "df_tcga = pd.read_csv(\"mainTable_fpkm.csv\", sep=\",\", index_col=0)\n",
    "df_tcga = df_tcga.transpose().drop_duplicates().transpose()\n",
    "df_tcga.head(2)"
   ]
  },
  {
   "cell_type": "code",
   "execution_count": null,
   "id": "9fb388df",
   "metadata": {},
   "outputs": [],
   "source": [
    "# isolate pc\n",
    "df_tcga = df_tcga.join(df_mart, how=\"inner\")\n",
    "df_tcga = df_tcga[df_tcga[\"Gene type\"]==\"protein_coding\"]\n",
    "df_tcga = df_tcga.drop([\"miRBase ID\", \"Gene type\"],1)\n",
    "cases = [\"-\".join(case.split(\"-\")[:5]) for case in df_tcga.columns]\n",
    "analytes = [\"-\".join(case.split(\"-\")[:6]) for case in df_tcga.columns]\n",
    "df_tcga.head(2)"
   ]
  },
  {
   "cell_type": "code",
   "execution_count": null,
   "id": "ac6052e8",
   "metadata": {},
   "outputs": [],
   "source": [
    "df_files = pd.read_csv(\"files.dat\")\n",
    "df_files = df_files[df_files[\"sample_submitter_id\"].isin(df_tcga.columns)]\n",
    "df_files = df_files.loc[df_files.index[~df_files[\"sample_submitter_id\"].duplicated(keep=\"first\")],:]\n",
    "df_files = df_files.set_index(df_files.columns[0])\n",
    "df_files.head()"
   ]
  },
  {
   "cell_type": "markdown",
   "id": "1debb93f",
   "metadata": {},
   "source": [
    "## HVG"
   ]
  },
  {
   "cell_type": "code",
   "execution_count": null,
   "id": "db137aa4",
   "metadata": {},
   "outputs": [],
   "source": [
    "adata = sc.AnnData(\n",
    "    X=df_tcga.transpose().reindex(index=df_files[\"sample_submitter_id\"]), \n",
    "    obs=df_files.set_index(\"sample_submitter_id\"))"
   ]
  },
  {
   "cell_type": "code",
   "execution_count": null,
   "id": "9a616557",
   "metadata": {},
   "outputs": [],
   "source": [
    "sc.pp.log1p(adata)\n",
    "sc.pp.highly_variable_genes(adata, n_top_genes=3000)\n",
    "sc.pl.highly_variable_genes(adata)"
   ]
  },
  {
   "cell_type": "code",
   "execution_count": null,
   "id": "67464917",
   "metadata": {},
   "outputs": [],
   "source": [
    "hvg = adata.var[adata.var[\"highly_variable\"]==True].index"
   ]
  },
  {
   "cell_type": "markdown",
   "id": "73ef252b",
   "metadata": {},
   "source": [
    "## miRNA"
   ]
  },
  {
   "cell_type": "code",
   "execution_count": null,
   "id": "8119947e",
   "metadata": {},
   "outputs": [],
   "source": [
    "df_tcga_mirna = pd.read_csv(\"mainTable_mirna.csv\", index_col=0)\n",
    "df_tcga_mirna = df_tcga_mirna.transpose().drop_duplicates().transpose()\n",
    "mirna_submitter_ids = [\"-\".join(case.split(\"-\")[:4]) for case in df_tcga_mirna.columns]\n",
    "df_tcga_mirna.head(2)"
   ]
  },
  {
   "cell_type": "markdown",
   "id": "5b500f48",
   "metadata": {},
   "source": [
    "## Highly variable miRNA"
   ]
  },
  {
   "cell_type": "code",
   "execution_count": null,
   "id": "fc7ad130",
   "metadata": {},
   "outputs": [],
   "source": [
    "adata = sc.AnnData(\n",
    "    X=df_tcga_mirna.transpose().reindex(index=df_files[df_files[\"sample_submitter_id_mirna\"].isin(df_tcga_mirna.columns)][\"sample_submitter_id_mirna\"]), \n",
    "    obs=df_files[df_files[\"sample_submitter_id_mirna\"].isin(df_tcga_mirna.columns)].set_index(\"sample_submitter_id_mirna\"))"
   ]
  },
  {
   "cell_type": "code",
   "execution_count": null,
   "id": "48dfddb5",
   "metadata": {},
   "outputs": [],
   "source": [
    "sc.pp.log1p(adata)\n",
    "sc.pp.highly_variable_genes(adata, n_top_genes=1000)\n",
    "sc.pl.highly_variable_genes(adata)"
   ]
  },
  {
   "cell_type": "code",
   "execution_count": null,
   "id": "9da3574d",
   "metadata": {},
   "outputs": [],
   "source": [
    "hvmiRNA = adata.var[adata.var[\"highly_variable\"]==True].index.unique()"
   ]
  },
  {
   "cell_type": "code",
   "execution_count": null,
   "id": "c46d998d",
   "metadata": {},
   "outputs": [],
   "source": [
    "df_files[[\"sample_submitter_id\", \"sample_submitter_id_mirna\"]]"
   ]
  },
  {
   "cell_type": "code",
   "execution_count": null,
   "id": "df56c07d",
   "metadata": {},
   "outputs": [],
   "source": [
    "df_tcga_mirna = df_tcga_mirna.reindex(columns=df_files[\"sample_submitter_id_mirna\"])\n",
    "df_tcga_mirna.columns = df_files.index\n",
    "df_tcga = df_tcga.reindex(columns=df_files[\"sample_submitter_id\"])\n",
    "df_tcga.columns = df_files.index"
   ]
  },
  {
   "cell_type": "code",
   "execution_count": null,
   "id": "30514e29",
   "metadata": {},
   "outputs": [],
   "source": [
    "df_all = df_tcga.reindex(index=hvg, columns=df_files.index).append(df_tcga_mirna.reindex(index=hvmiRNA))\n",
    "df_all"
   ]
  },
  {
   "cell_type": "code",
   "execution_count": null,
   "id": "e935ae09",
   "metadata": {},
   "outputs": [],
   "source": [
    "df_files.to_csv(\"files.dat\")"
   ]
  },
  {
   "cell_type": "markdown",
   "id": "a729f6d6",
   "metadata": {},
   "source": [
    "# hSBM"
   ]
  },
  {
   "cell_type": "code",
   "execution_count": null,
   "id": "179249ad",
   "metadata": {},
   "outputs": [],
   "source": [
    "import sys\n",
    "sys.path.append(\"../hSBM_Topicmodel/\")\n",
    "from sbmtm import sbmtm"
   ]
  },
  {
   "cell_type": "code",
   "execution_count": null,
   "id": "cca8971d",
   "metadata": {},
   "outputs": [],
   "source": [
    "hsbm = sbmtm()\n",
    "hsbm.make_graph_from_BoW_df(df_tcga.reindex(index=hvg).applymap(lambda fpkm: np.log2(fpkm+1)))"
   ]
  },
  {
   "cell_type": "code",
   "execution_count": null,
   "id": "d36091d8",
   "metadata": {},
   "outputs": [],
   "source": [
    "hsbm.g"
   ]
  },
  {
   "cell_type": "code",
   "execution_count": null,
   "id": "cc28ffed",
   "metadata": {},
   "outputs": [],
   "source": [
    "hsbm.save_graph(\"graph_breast_hsbm.xml.gz\")"
   ]
  },
  {
   "cell_type": "markdown",
   "id": "be350272",
   "metadata": {},
   "source": [
    "## triSBM"
   ]
  },
  {
   "cell_type": "code",
   "execution_count": null,
   "id": "62512e6b",
   "metadata": {},
   "outputs": [],
   "source": [
    "sys.path.append(\"../trisbm/\")\n",
    "from trisbm import trisbm"
   ]
  },
  {
   "cell_type": "code",
   "execution_count": null,
   "id": "64c47420",
   "metadata": {},
   "outputs": [],
   "source": [
    "trisbm_model = trisbm()\n",
    "trisbm_model.make_graph(df_all.applymap(lambda fpkm: np.log2(fpkm+1)), lambda gene: 1 if \"ENSG\" in gene else 2)"
   ]
  },
  {
   "cell_type": "code",
   "execution_count": null,
   "id": "f3b1e110",
   "metadata": {},
   "outputs": [],
   "source": [
    "trisbm_model.save_graph(\"graph_breast_trisbm.xml.gz\")"
   ]
  },
  {
   "cell_type": "code",
   "execution_count": null,
   "id": "e5664bd6",
   "metadata": {},
   "outputs": [],
   "source": [
    "np.isin(hsbm.words, trisbm_model.words).sum()"
   ]
  },
  {
   "cell_type": "markdown",
   "id": "92f0e859",
   "metadata": {},
   "source": [
    "# Consistency check"
   ]
  },
  {
   "cell_type": "code",
   "execution_count": null,
   "id": "80238b61",
   "metadata": {},
   "outputs": [],
   "source": [
    "import os"
   ]
  },
  {
   "cell_type": "code",
   "execution_count": null,
   "id": "bc08629d",
   "metadata": {},
   "outputs": [],
   "source": [
    "trisbm_model = trisbm()\n",
    "hsbm = sbmtm()\n",
    "\n",
    "trisbm_model.load_graph(\"/home/jovyan/work/phd/keywordTCGA/brca/trisbm/graph.xml.gz\")\n",
    "hsbm.load_graph(\"/home/jovyan/work/phd/keywordTCGA/brca/topsbm/graph.xml.gz\")"
   ]
  },
  {
   "cell_type": "code",
   "execution_count": null,
   "id": "e25ed4b5",
   "metadata": {},
   "outputs": [],
   "source": [
    "import graph_tool.all as gt"
   ]
  },
  {
   "cell_type": "code",
   "execution_count": null,
   "id": "5e98562f",
   "metadata": {},
   "outputs": [],
   "source": [
    "gt.adjacency(hsbm.g, weight=hsbm.g.ep[\"count\"]).max()"
   ]
  },
  {
   "cell_type": "code",
   "execution_count": null,
   "id": "f6f3c21c",
   "metadata": {},
   "outputs": [],
   "source": [
    "gt.adjacency(trisbm_model.g, weight=trisbm_model.g.ep[\"count\"]).max()"
   ]
  },
  {
   "cell_type": "code",
   "execution_count": null,
   "id": "a7386f98",
   "metadata": {},
   "outputs": [],
   "source": [
    "import numpy as np\n",
    "np.isin(hsbm.words, trisbm_model.words, invert=True).sum()"
   ]
  },
  {
   "cell_type": "code",
   "execution_count": null,
   "id": "667257ab",
   "metadata": {},
   "outputs": [],
   "source": [
    "len(trisbm_model.words)"
   ]
  },
  {
   "cell_type": "code",
   "execution_count": null,
   "id": "755dcb33",
   "metadata": {},
   "outputs": [],
   "source": []
  }
 ],
 "metadata": {
  "kernelspec": {
   "display_name": "Python 3",
   "language": "python",
   "name": "python3"
  },
  "language_info": {
   "codemirror_mode": {
    "name": "ipython",
    "version": 3
   },
   "file_extension": ".py",
   "mimetype": "text/x-python",
   "name": "python",
   "nbconvert_exporter": "python",
   "pygments_lexer": "ipython3",
   "version": "3.8.8"
  }
 },
 "nbformat": 4,
 "nbformat_minor": 5
}
