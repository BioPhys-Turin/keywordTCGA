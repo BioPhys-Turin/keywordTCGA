{
 "cells": [
  {
   "cell_type": "code",
   "execution_count": null,
   "id": "97e33ae3",
   "metadata": {},
   "outputs": [],
   "source": [
    "%load_ext watermark\n",
    "%watermark -a Filippo_Valle -p pandas,scanpy,requests,numpy -m -v -g"
   ]
  },
  {
   "cell_type": "code",
   "execution_count": null,
   "id": "bc2e52e3",
   "metadata": {},
   "outputs": [],
   "source": [
    "import pandas as pd\n",
    "import scanpy as sc\n",
    "import numpy as np\n",
    "import json\n",
    "import requests"
   ]
  },
  {
   "cell_type": "markdown",
   "id": "e6246a6f",
   "metadata": {},
   "source": [
    "# Preprocessing"
   ]
  },
  {
   "cell_type": "markdown",
   "id": "a0e34c19",
   "metadata": {},
   "source": [
    "## Gene Names"
   ]
  },
  {
   "cell_type": "code",
   "execution_count": null,
   "id": "b16a35c4",
   "metadata": {},
   "outputs": [],
   "source": [
    "df_conversion = pd.read_csv(\"https://www.genenames.org/cgi-bin/download/custom?col=gd_app_sym&col=md_ensembl_id&status=Approved&status=Entry%20Withdrawn&hgnc_dbtag=on&order_by=gd_app_sym_sort&format=text&submit=submit\", sep=\"\\t\").set_index(\"Approved symbol\")\n",
    "df_conversion.rename(columns={\"Ensembl ID(supplied by Ensembl)\":\"ensg\"}, inplace=True)\n",
    "df_conversion.head(2)"
   ]
  },
  {
   "cell_type": "markdown",
   "id": "af117475",
   "metadata": {},
   "source": [
    "## bioMART\n",
    "https://www.ensembl.org/biomart/martview/cf9b27b6e78e9d6a1be079a4ea60f7fe"
   ]
  },
  {
   "cell_type": "code",
   "execution_count": null,
   "id": "ce73132f",
   "metadata": {},
   "outputs": [],
   "source": [
    "df_mart = pd.read_csv(\"mart_export.txt\").set_index(\"Gene stable ID\")\n",
    "df_mart.head(2)"
   ]
  },
  {
   "cell_type": "markdown",
   "id": "06875a87-ca60-4331-91bc-6acce0544e31",
   "metadata": {},
   "source": [
    "# Tables"
   ]
  },
  {
   "cell_type": "markdown",
   "id": "a702b02a",
   "metadata": {},
   "source": [
    "## TCGA FPKM"
   ]
  },
  {
   "cell_type": "code",
   "execution_count": null,
   "id": "766e7b76",
   "metadata": {},
   "outputs": [],
   "source": [
    "df_tcga = pd.read_csv(\"mainTable_fpkm.csv\", sep=\",\", index_col=0)\n",
    "df_tcga = df_tcga.transpose().drop_duplicates().transpose()\n",
    "df_tcga.head(2)"
   ]
  },
  {
   "cell_type": "code",
   "execution_count": null,
   "id": "4013c6d4",
   "metadata": {},
   "outputs": [],
   "source": [
    "# isolate pc\n",
    "df_tcga = df_tcga.join(df_mart, how=\"inner\")\n",
    "df_tcga = df_tcga[df_tcga[\"Gene type\"]==\"protein_coding\"]\n",
    "df_tcga = df_tcga.drop([\"miRBase ID\", \"Gene type\"],1)\n",
    "cases = [\"-\".join(case.split(\"-\")[:5]) for case in df_tcga.columns]\n",
    "analytes = [\"-\".join(case.split(\"-\")[:6]) for case in df_tcga.columns]\n",
    "df_tcga.head(2)"
   ]
  },
  {
   "cell_type": "code",
   "execution_count": null,
   "id": "a92177a5",
   "metadata": {},
   "outputs": [],
   "source": [
    "df_files = pd.read_csv(\"files_tcga.dat\")\n",
    "df_files = df_files[df_files[\"sample_submitter_id\"].isin(df_tcga.columns)]\n",
    "df_files = df_files.loc[df_files.index[~df_files[\"sample_submitter_id\"].duplicated(keep=\"first\")],:]\n",
    "df_files = df_files.set_index(df_files.columns[0])\n",
    "df_files.head()"
   ]
  },
  {
   "cell_type": "markdown",
   "id": "7e7af384",
   "metadata": {},
   "source": [
    "### HVG"
   ]
  },
  {
   "cell_type": "code",
   "execution_count": null,
   "id": "741dd738",
   "metadata": {},
   "outputs": [],
   "source": [
    "adata = sc.AnnData(\n",
    "    X=df_tcga.transpose().reindex(index=df_files[\"sample_submitter_id\"]), \n",
    "    obs=df_files.set_index(\"sample_submitter_id\"))"
   ]
  },
  {
   "cell_type": "code",
   "execution_count": null,
   "id": "599402b1",
   "metadata": {},
   "outputs": [],
   "source": [
    "sc.pp.log1p(adata)\n",
    "sc.pp.highly_variable_genes(adata, n_top_genes=3000)\n",
    "sc.pl.highly_variable_genes(adata)"
   ]
  },
  {
   "cell_type": "code",
   "execution_count": null,
   "id": "9287516f",
   "metadata": {},
   "outputs": [],
   "source": [
    "hvg = adata.var[adata.var[\"highly_variable\"]==True].index"
   ]
  },
  {
   "cell_type": "markdown",
   "id": "8866308d",
   "metadata": {},
   "source": [
    "## miRNA"
   ]
  },
  {
   "cell_type": "code",
   "execution_count": null,
   "id": "ea00f1e4",
   "metadata": {},
   "outputs": [],
   "source": [
    "df_tcga_mirna = pd.read_csv(\"mainTable_mirna.csv\", index_col=0)\n",
    "df_tcga_mirna = df_tcga_mirna.transpose().drop_duplicates().transpose()\n",
    "mirna_submitter_ids = [\"-\".join(case.split(\"-\")[:4]) for case in df_tcga_mirna.columns]\n",
    "df_tcga_mirna.head(2)"
   ]
  },
  {
   "cell_type": "markdown",
   "id": "51f16bb0",
   "metadata": {},
   "source": [
    "### Highly variable miRNA"
   ]
  },
  {
   "cell_type": "code",
   "execution_count": null,
   "id": "7f547b66",
   "metadata": {},
   "outputs": [],
   "source": [
    "adata = sc.AnnData(\n",
    "    X=df_tcga_mirna.transpose().reindex(index=df_files[df_files[\"sample_submitter_id_mirna\"].isin(df_tcga_mirna.columns)][\"sample_submitter_id_mirna\"]), \n",
    "    obs=df_files[df_files[\"sample_submitter_id_mirna\"].isin(df_tcga_mirna.columns)].set_index(\"sample_submitter_id_mirna\"))"
   ]
  },
  {
   "cell_type": "code",
   "execution_count": null,
   "id": "04723368",
   "metadata": {},
   "outputs": [],
   "source": [
    "sc.pp.log1p(adata)\n",
    "sc.pp.highly_variable_genes(adata, n_top_genes=1000)\n",
    "sc.pl.highly_variable_genes(adata)"
   ]
  },
  {
   "cell_type": "code",
   "execution_count": null,
   "id": "7494ff97",
   "metadata": {},
   "outputs": [],
   "source": [
    "hvmiRNA = adata.var[adata.var[\"highly_variable\"]==True].index.unique()"
   ]
  },
  {
   "cell_type": "code",
   "execution_count": null,
   "id": "03aaf548",
   "metadata": {},
   "outputs": [],
   "source": [
    "df_files[[\"sample_submitter_id\", \"sample_submitter_id_mirna\"]]"
   ]
  },
  {
   "cell_type": "code",
   "execution_count": null,
   "id": "a741e86e",
   "metadata": {},
   "outputs": [],
   "source": [
    "df_tcga_mirna = df_tcga_mirna.reindex(columns=df_files[\"sample_submitter_id_mirna\"])\n",
    "df_tcga_mirna.columns = df_files.index\n",
    "df_tcga = df_tcga.reindex(columns=df_files[\"sample_submitter_id\"])\n",
    "df_tcga.columns = df_files.index"
   ]
  },
  {
   "cell_type": "code",
   "execution_count": null,
   "id": "69b21c6e",
   "metadata": {},
   "outputs": [],
   "source": [
    "df_all = df_tcga.reindex(index=hvg, columns=df_files.index).append(df_tcga_mirna.reindex(index=hvmiRNA))\n",
    "df_all"
   ]
  },
  {
   "cell_type": "code",
   "execution_count": null,
   "id": "b92b664c",
   "metadata": {},
   "outputs": [],
   "source": [
    "df_files = df_files.reset_index().rename(columns={\"Unnamed: 0\":\"case_id\"}).set_index(\"case_id\")\n",
    "df_files.to_csv(\"files.dat\")"
   ]
  },
  {
   "cell_type": "markdown",
   "id": "f83d991a-a0e1-4ebe-81e2-fe9e2cbc1ade",
   "metadata": {},
   "source": [
    "## CNV"
   ]
  },
  {
   "cell_type": "code",
   "execution_count": null,
   "id": "73ead2af-f59c-4fb1-81a9-1f37e5970203",
   "metadata": {},
   "outputs": [],
   "source": [
    "df_tcga_cnv = pd.read_csv(\"mainTable_cnv.csv\", index_col=0)\n",
    "df_tcga_cnv = df_tcga_cnv.transpose().drop_duplicates().transpose()\n",
    "df_tcga_cnv = df_tcga_cnv.reindex(columns=df_all.columns)\n",
    "cnv_submitter_ids = [\"-\".join(case.split(\"-\")[:4]) for case in df_tcga_cnv.columns]\n",
    "df_tcga_cnv.head(2)"
   ]
  },
  {
   "cell_type": "markdown",
   "id": "f93ecd03-c56e-41b8-a8c5-e5f37239bd2b",
   "metadata": {},
   "source": [
    "### Highly variable CNVs"
   ]
  },
  {
   "cell_type": "code",
   "execution_count": null,
   "id": "3d811a4e-b11f-4c42-8a01-9d55533cad97",
   "metadata": {},
   "outputs": [],
   "source": [
    "df_tcga_cnv.mean(1).hist()"
   ]
  },
  {
   "cell_type": "markdown",
   "id": "7c307e03-cdf1-4e26-a654-18128969ff5d",
   "metadata": {},
   "source": [
    "2 cnv is a duplication on two chromosomes"
   ]
  },
  {
   "cell_type": "code",
   "execution_count": null,
   "id": "b6eb2a96-ca7a-4db5-a2bd-5f49526ccdd3",
   "metadata": {},
   "outputs": [],
   "source": [
    "hvcn = df_tcga_cnv[df_tcga_cnv.mean(1)>3.5].index"
   ]
  },
  {
   "cell_type": "code",
   "execution_count": null,
   "id": "90b0eb54-c63c-4477-ae73-b142c6e9ec27",
   "metadata": {},
   "outputs": [],
   "source": [
    "np.isin(hvg,hvcn).sum()"
   ]
  },
  {
   "cell_type": "markdown",
   "id": "bf9539f3-d1aa-490f-9eae-12689f2e1235",
   "metadata": {},
   "source": [
    "## Simple Somatic Mutation"
   ]
  },
  {
   "cell_type": "code",
   "execution_count": null,
   "id": "583b6348-c449-4bac-b929-cc33783f48f5",
   "metadata": {},
   "outputs": [],
   "source": [
    "df_tcga_ssm = pd.read_csv(\"mainTable_ssm.csv\", index_col=0)\n",
    "df_tcga_ssm = df_tcga_ssm.transpose().drop_duplicates().transpose()\n",
    "df_tcga_ssm = df_tcga_ssm.reindex(columns=df_all.columns).fillna(0)\n",
    "ssm_submitter_ids = [\"-\".join(case.split(\"-\")[:4]) for case in df_tcga_cnv.columns]\n",
    "df_tcga_ssm.head(2)"
   ]
  },
  {
   "cell_type": "code",
   "execution_count": null,
   "id": "94f5fbe8-ff2d-4874-b87b-358d2dc4d275",
   "metadata": {},
   "outputs": [],
   "source": [
    "df_tcga_ssm.sum(1).hist()"
   ]
  },
  {
   "cell_type": "markdown",
   "id": "144d85fc-6979-4dac-80bd-40410ca78c61",
   "metadata": {},
   "source": [
    "# Fit"
   ]
  },
  {
   "cell_type": "markdown",
   "id": "e1cc06ca",
   "metadata": {},
   "source": [
    "## hSBM"
   ]
  },
  {
   "cell_type": "code",
   "execution_count": null,
   "id": "6c1ddaa6",
   "metadata": {},
   "outputs": [],
   "source": [
    "import sys\n",
    "sys.path.append(\"../hSBM_Topicmodel/\")\n",
    "from sbmtm import sbmtm"
   ]
  },
  {
   "cell_type": "code",
   "execution_count": null,
   "id": "b76069c6",
   "metadata": {},
   "outputs": [],
   "source": [
    "hsbm = sbmtm()\n",
    "hsbm.make_graph_from_BoW_df(df_tcga.reindex(index=hvg).applymap(lambda fpkm: np.log2(fpkm+1)))"
   ]
  },
  {
   "cell_type": "code",
   "execution_count": null,
   "id": "c3338243",
   "metadata": {},
   "outputs": [],
   "source": [
    "hsbm.g"
   ]
  },
  {
   "cell_type": "code",
   "execution_count": null,
   "id": "fec90616",
   "metadata": {},
   "outputs": [],
   "source": [
    "hsbm.save_graph(\"graph_breast_hsbm.xml.gz\")"
   ]
  },
  {
   "cell_type": "markdown",
   "id": "256b2462-f2e1-4e55-b0c6-ab748cb6ae77",
   "metadata": {},
   "source": [
    "### CNV"
   ]
  },
  {
   "cell_type": "code",
   "execution_count": null,
   "id": "8adc3fe3-d84a-4da2-ad5e-36a09d595972",
   "metadata": {},
   "outputs": [],
   "source": [
    "hsbm = sbmtm()\n",
    "hsbm.make_graph_from_BoW_df(df_tcga_cnv.reindex(columns = df_tcga.columns).fillna(0))\n",
    "hsbm.save_graph(\"graph_breast_cnv.xml.gz\")"
   ]
  },
  {
   "cell_type": "markdown",
   "id": "57c219f1-4b7b-467d-8b70-2f9fb7928dbd",
   "metadata": {},
   "source": [
    "### ssmSBM"
   ]
  },
  {
   "cell_type": "code",
   "execution_count": null,
   "id": "0ce1df23-cb7e-4c06-8aa2-6b5863fea61c",
   "metadata": {},
   "outputs": [],
   "source": [
    "sys.path.append(\"../trisbm/\")\n",
    "from nsbm import nsbm"
   ]
  },
  {
   "cell_type": "code",
   "execution_count": null,
   "id": "33894b6f-8821-4e7c-ac4e-1ef9b910cef1",
   "metadata": {},
   "outputs": [],
   "source": [
    "nsbm_model = nsbm()\n",
    "nsbm_model.make_graph_from_BoW_df(df_tcga_ssm.fillna(0))"
   ]
  },
  {
   "cell_type": "code",
   "execution_count": null,
   "id": "d7dd83ad-f88a-443e-9de1-d3d2f3f7ea32",
   "metadata": {},
   "outputs": [],
   "source": [
    "nsbm_model.save_graph(\"graph_breast_ssm.xml.gz\")"
   ]
  },
  {
   "cell_type": "markdown",
   "id": "f92723d3",
   "metadata": {},
   "source": [
    "## triSBMdf_tcga_ssm"
   ]
  },
  {
   "cell_type": "code",
   "execution_count": null,
   "id": "529cb75c",
   "metadata": {},
   "outputs": [],
   "source": [
    "sys.path.append(\"../trisbm/\")\n",
    "from trisbm import trisbm"
   ]
  },
  {
   "cell_type": "code",
   "execution_count": null,
   "id": "7ae699d1",
   "metadata": {},
   "outputs": [],
   "source": [
    "trisbm_model = trisbm()\n",
    "trisbm_model.make_graph(df_all.applymap(lambda fpkm: np.log2(fpkm+1)), lambda gene: 1 if \"ENSG\" in gene else 2)"
   ]
  },
  {
   "cell_type": "code",
   "execution_count": null,
   "id": "cdde5307",
   "metadata": {},
   "outputs": [],
   "source": [
    "trisbm_model.save_graph(\"graph_breast_trisbm.xml.gz\")"
   ]
  },
  {
   "cell_type": "code",
   "execution_count": null,
   "id": "4fddcf21",
   "metadata": {},
   "outputs": [],
   "source": [
    "np.isin(hsbm.words, trisbm_model.words).sum()"
   ]
  },
  {
   "cell_type": "markdown",
   "id": "5897f996-65e8-4f11-8370-a5ea75f09e28",
   "metadata": {},
   "source": [
    "## tetraSBM"
   ]
  },
  {
   "cell_type": "code",
   "execution_count": null,
   "id": "e163e7d8-a080-4a0e-9493-c76e7026e8c0",
   "metadata": {},
   "outputs": [],
   "source": [
    "sys.path.append(\"../trisbm/\")\n",
    "from nsbm import nsbm"
   ]
  },
  {
   "cell_type": "code",
   "execution_count": null,
   "id": "e9bee1ec-d73e-4d4e-bbf6-87f0a3671fb9",
   "metadata": {},
   "outputs": [],
   "source": [
    "nsbm_model = nsbm()\n",
    "nsbm_model.make_graph_multiple_df(df_tcga.reindex(index=hvg).applymap(lambda fpkm: np.log2(fpkm+1)),\n",
    "                                  [\n",
    "                                      df_tcga_mirna.reindex(index=hvmiRNA, columns = df_tcga.columns).applymap(lambda fpkm: np.log2(fpkm+1)),\n",
    "                                      df_tcga_cnv.reindex(index=hvcn, columns = df_tcga.columns)\n",
    "                                  ])"
   ]
  },
  {
   "cell_type": "code",
   "execution_count": null,
   "id": "543bd3ed-015b-480c-bb9b-5ee03278ca48",
   "metadata": {},
   "outputs": [],
   "source": [
    "nsbm_model.save_graph(\"graph_breast_tetrasbm.xml.gz\")"
   ]
  },
  {
   "cell_type": "markdown",
   "id": "052b09a1-14d1-4a8b-bc5f-fdab0845a8bc",
   "metadata": {},
   "source": [
    "## pentaSBM"
   ]
  },
  {
   "cell_type": "code",
   "execution_count": null,
   "id": "ba013bac-32f6-410a-a3ba-a249768b0e48",
   "metadata": {},
   "outputs": [],
   "source": [
    "sys.path.append(\"../trisbm/\")\n",
    "from nsbm import nsbm"
   ]
  },
  {
   "cell_type": "code",
   "execution_count": null,
   "id": "f71a62b4-2e4e-4590-b71b-a2d0e123c3cb",
   "metadata": {},
   "outputs": [],
   "source": [
    "nsbm_model = nsbm()\n",
    "nsbm_model.make_graph_multiple_df(df_tcga.reindex(index=hvg).applymap(lambda fpkm: np.log2(fpkm+1)),\n",
    "                                  [\n",
    "                                      df_tcga_mirna.reindex(index=hvmiRNA, columns = df_tcga.columns).applymap(lambda fpkm: np.log2(fpkm+1)),\n",
    "                                      df_tcga_cnv.reindex(index=hvcn, columns = df_tcga.columns),\n",
    "                                      df_tcga_ssm.reindex(columns = df_tcga.columns)\n",
    "                                  ])"
   ]
  },
  {
   "cell_type": "code",
   "execution_count": null,
   "id": "2d950cef-a1f0-4301-af3d-80a32570491d",
   "metadata": {},
   "outputs": [],
   "source": [
    "nsbm_model.save_graph(\"graph_breast_pentasbm.xml.gz\")"
   ]
  },
  {
   "cell_type": "markdown",
   "id": "78ce4bb5",
   "metadata": {},
   "source": [
    "# Consistency check"
   ]
  },
  {
   "cell_type": "code",
   "execution_count": null,
   "id": "ac54ab25",
   "metadata": {},
   "outputs": [],
   "source": [
    "import os"
   ]
  },
  {
   "cell_type": "code",
   "execution_count": null,
   "id": "2a2b7073",
   "metadata": {},
   "outputs": [],
   "source": [
    "trisbm_model = trisbm()\n",
    "hsbm = sbmtm()\n",
    "\n",
    "trisbm_model.load_graph(\"brca/trisbm/graph.xml.gz\")\n",
    "hsbm.load_graph(\"brca/topsbm/graph.xml.gz\")"
   ]
  },
  {
   "cell_type": "code",
   "execution_count": null,
   "id": "5f9d229f",
   "metadata": {},
   "outputs": [],
   "source": [
    "import graph_tool.all as gt"
   ]
  },
  {
   "cell_type": "code",
   "execution_count": null,
   "id": "81eb8a86",
   "metadata": {},
   "outputs": [],
   "source": [
    "gt.adjacency(hsbm.g, weight=hsbm.g.ep[\"count\"]).max()"
   ]
  },
  {
   "cell_type": "code",
   "execution_count": null,
   "id": "ff702bf4",
   "metadata": {},
   "outputs": [],
   "source": [
    "gt.adjacency(trisbm_model.g, weight=trisbm_model.g.ep[\"count\"]).max()"
   ]
  },
  {
   "cell_type": "code",
   "execution_count": null,
   "id": "b69c3500",
   "metadata": {},
   "outputs": [],
   "source": [
    "import numpy as np\n",
    "np.isin(hsbm.words, trisbm_model.words, invert=True).sum()"
   ]
  },
  {
   "cell_type": "code",
   "execution_count": null,
   "id": "fac18b0d",
   "metadata": {},
   "outputs": [],
   "source": [
    "print(len(trisbm_model.words))\n",
    "print(len(hsbm.words))"
   ]
  },
  {
   "cell_type": "code",
   "execution_count": null,
   "id": "bfa574d5",
   "metadata": {},
   "outputs": [],
   "source": [
    "print(trisbm_model.g.num_vertices(), trisbm_model.g.num_edges())\n",
    "print(hsbm.g.num_vertices(), hsbm.g.num_edges())"
   ]
  },
  {
   "cell_type": "code",
   "execution_count": null,
   "id": "e786ee26-313c-490e-abee-b7fe24532ad6",
   "metadata": {},
   "outputs": [],
   "source": [
    "print(len(trisbm_model.documents), len(trisbm_model.words), len(trisbm_model.keywords[0]))\n",
    "print(len(hsbm.documents), len(hsbm.words))"
   ]
  },
  {
   "cell_type": "code",
   "execution_count": null,
   "id": "7abb6630-c3ef-4bc1-abea-bf1f9a4c8ef0",
   "metadata": {},
   "outputs": [],
   "source": [
    "3632009 / (3000*(1092+1286))\n",
    "#2607726 / (3000*1092)"
   ]
  },
  {
   "cell_type": "code",
   "execution_count": null,
   "id": "11fec167-3b8f-4bd1-8874-f67d457a3e9d",
   "metadata": {},
   "outputs": [],
   "source": [
    "import pandas as pd\n",
    "import numpy as np\n",
    "cnv_genes = pd.read_csv(\"brca/tetrasbm/trisbm/trisbm_level_0_kind_3_keyword-dist.csv\", index_col=0).index\n",
    "cnv_genes = [pc[2:] for pc in cnv_genes]\n",
    "pc_genes = pd.read_csv(\"brca/tetrasbm/trisbm/trisbm_level_0_word-dist.csv\", index_col=0).index\n",
    "np.isin(cnv_genes, pc_genes).sum(), len(cnv_genes), len(pc_genes)"
   ]
  },
  {
   "cell_type": "code",
   "execution_count": null,
   "id": "78577b29-c9ee-4f82-b73d-dbe84f133534",
   "metadata": {},
   "outputs": [],
   "source": [
    "import sys\n",
    "sys.path.append(\"../hSBM_Topicmodel/\")\n",
    "from sbmtm import sbmtm\n",
    "sys.path.append(\"../trisbm/\")\n",
    "from trisbm import trisbm"
   ]
  },
  {
   "cell_type": "code",
   "execution_count": null,
   "id": "7ff33841-9328-4bec-9f12-e2b90d875fa9",
   "metadata": {},
   "outputs": [],
   "source": [
    "trisbm_model = trisbm()\n",
    "hsbm = sbmtm()\n",
    "\n",
    "trisbm_model.load_graph(\"/home/jovyan/work/phd/keywordTCGA/brca_subtypes/trisbm/graph.xml.gz\")\n",
    "hsbm.load_graph(\"/home/jovyan/work/phd/cancers/breast/topsbm/graph_hde.xml.gz\")"
   ]
  },
  {
   "cell_type": "code",
   "execution_count": null,
   "id": "9a9b6f4a-5c8f-4e3a-92f5-4213f81cc4a8",
   "metadata": {},
   "outputs": [],
   "source": [
    "print(len(trisbm_model.words))\n",
    "print(len(hsbm.words))"
   ]
  },
  {
   "cell_type": "code",
   "execution_count": null,
   "id": "01e9a2d6-771f-4caa-93d6-3b446da1417e",
   "metadata": {},
   "outputs": [],
   "source": [
    "print(trisbm_model.g.num_vertices(), trisbm_model.g.num_edges())\n",
    "print(hsbm.g.num_vertices(), hsbm.g.num_edges())"
   ]
  },
  {
   "cell_type": "code",
   "execution_count": null,
   "id": "57f42f91-5fdc-40e1-97d4-b5e7373675b8",
   "metadata": {},
   "outputs": [],
   "source": [
    "np.isin(trisbm_model.words,hsbm.words).sum()"
   ]
  },
  {
   "cell_type": "code",
   "execution_count": null,
   "id": "86115d84-adf6-467a-98e6-c3aa5ee6de2b",
   "metadata": {},
   "outputs": [],
   "source": []
  }
 ],
 "metadata": {
  "kernelspec": {
   "display_name": "Python 3",
   "language": "python",
   "name": "python3"
  },
  "language_info": {
   "codemirror_mode": {
    "name": "ipython",
    "version": 3
   },
   "file_extension": ".py",
   "mimetype": "text/x-python",
   "name": "python",
   "nbconvert_exporter": "python",
   "pygments_lexer": "ipython3",
   "version": "3.8.8"
  }
 },
 "nbformat": 4,
 "nbformat_minor": 5
}
