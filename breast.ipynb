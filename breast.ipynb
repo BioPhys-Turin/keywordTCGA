{
 "cells": [
  {
   "cell_type": "code",
   "execution_count": 25,
   "id": "97e33ae3",
   "metadata": {},
   "outputs": [
    {
     "name": "stdout",
     "output_type": "stream",
     "text": [
      "The watermark extension is already loaded. To reload it, use:\n",
      "  %reload_ext watermark\n",
      "Author: Filippo_Valle\n",
      "\n",
      "Python implementation: CPython\n",
      "Python version       : 3.8.8\n",
      "IPython version      : 7.22.0\n",
      "\n",
      "pandas  : 1.2.4\n",
      "scanpy  : 1.7.2\n",
      "requests: 2.25.1\n",
      "\n",
      "Compiler    : GCC 9.3.0\n",
      "OS          : Linux\n",
      "Release     : 5.11.0-17-generic\n",
      "Machine     : x86_64\n",
      "Processor   : x86_64\n",
      "CPU cores   : 12\n",
      "Architecture: 64bit\n",
      "\n",
      "Git hash: 4171b27d7344a186dc376585830050869fc119e7\n",
      "\n"
     ]
    }
   ],
   "source": [
    "%load_ext watermark\n",
    "%watermark -a Filippo_Valle -p pandas,scanpy,requests -m -v -g"
   ]
  },
  {
   "cell_type": "code",
   "execution_count": null,
   "id": "bc2e52e3",
   "metadata": {},
   "outputs": [],
   "source": [
    "import pandas as pd\n",
    "import scanpy as sc\n",
    "import json\n",
    "import requests"
   ]
  },
  {
   "cell_type": "markdown",
   "id": "e6246a6f",
   "metadata": {},
   "source": [
    "# Preprocessing"
   ]
  },
  {
   "cell_type": "markdown",
   "id": "a0e34c19",
   "metadata": {},
   "source": [
    "## Gene Names"
   ]
  },
  {
   "cell_type": "code",
   "execution_count": null,
   "id": "b16a35c4",
   "metadata": {},
   "outputs": [],
   "source": [
    "df_conversion = pd.read_csv(\"https://www.genenames.org/cgi-bin/download/custom?col=gd_app_sym&col=md_ensembl_id&status=Approved&status=Entry%20Withdrawn&hgnc_dbtag=on&order_by=gd_app_sym_sort&format=text&submit=submit\", sep=\"\\t\").set_index(\"Approved symbol\")\n",
    "df_conversion.rename(columns={\"Ensembl ID(supplied by Ensembl)\":\"ensg\"}, inplace=True)\n",
    "df_conversion.head(2)"
   ]
  },
  {
   "cell_type": "markdown",
   "id": "af117475",
   "metadata": {},
   "source": [
    "## bioMART\n",
    "https://www.ensembl.org/biomart/martview/cf9b27b6e78e9d6a1be079a4ea60f7fe"
   ]
  },
  {
   "cell_type": "code",
   "execution_count": null,
   "id": "ce73132f",
   "metadata": {},
   "outputs": [],
   "source": [
    "df_mart = pd.read_csv(\"mart_export.txt\").set_index(\"Gene stable ID\")\n",
    "df_mart.head(2)"
   ]
  },
  {
   "cell_type": "markdown",
   "id": "a702b02a",
   "metadata": {},
   "source": [
    "# TCGA FPKM"
   ]
  },
  {
   "cell_type": "code",
   "execution_count": null,
   "id": "766e7b76",
   "metadata": {},
   "outputs": [],
   "source": [
    "df_tcga = pd.read_csv(\"mainTable_fpkm.csv\", sep=\",\", index_col=0)\n",
    "df_tcga = df_tcga.transpose().drop_duplicates().transpose()\n",
    "df_tcga.head(2)"
   ]
  },
  {
   "cell_type": "code",
   "execution_count": null,
   "id": "4013c6d4",
   "metadata": {},
   "outputs": [],
   "source": [
    "# isolate pc\n",
    "df_tcga = df_tcga.join(df_mart, how=\"inner\")\n",
    "df_tcga = df_tcga[df_tcga[\"Gene type\"]==\"protein_coding\"]\n",
    "df_tcga = df_tcga.drop([\"miRBase ID\", \"Gene type\"],1)\n",
    "cases = [\"-\".join(case.split(\"-\")[:5]) for case in df_tcga.columns]\n",
    "analytes = [\"-\".join(case.split(\"-\")[:6]) for case in df_tcga.columns]\n",
    "df_tcga.head(2)"
   ]
  },
  {
   "cell_type": "code",
   "execution_count": null,
   "id": "a92177a5",
   "metadata": {},
   "outputs": [],
   "source": [
    "df_files = pd.read_csv(\"files_tcga.dat\")\n",
    "df_files = df_files[df_files[\"sample_submitter_id\"].isin(df_tcga.columns)]\n",
    "df_files = df_files.loc[df_files.index[~df_files[\"sample_submitter_id\"].duplicated(keep=\"first\")],:]\n",
    "df_files = df_files.set_index(df_files.columns[0])\n",
    "df_files.head()"
   ]
  },
  {
   "cell_type": "markdown",
   "id": "7e7af384",
   "metadata": {},
   "source": [
    "## HVG"
   ]
  },
  {
   "cell_type": "code",
   "execution_count": null,
   "id": "741dd738",
   "metadata": {},
   "outputs": [],
   "source": [
    "adata = sc.AnnData(\n",
    "    X=df_tcga.transpose().reindex(index=df_files[\"sample_submitter_id\"]), \n",
    "    obs=df_files.set_index(\"sample_submitter_id\"))"
   ]
  },
  {
   "cell_type": "code",
   "execution_count": null,
   "id": "599402b1",
   "metadata": {},
   "outputs": [],
   "source": [
    "sc.pp.log1p(adata)\n",
    "sc.pp.highly_variable_genes(adata, n_top_genes=3000)\n",
    "sc.pl.highly_variable_genes(adata)"
   ]
  },
  {
   "cell_type": "code",
   "execution_count": null,
   "id": "9287516f",
   "metadata": {},
   "outputs": [],
   "source": [
    "hvg = adata.var[adata.var[\"highly_variable\"]==True].index"
   ]
  },
  {
   "cell_type": "markdown",
   "id": "8866308d",
   "metadata": {},
   "source": [
    "## miRNA"
   ]
  },
  {
   "cell_type": "code",
   "execution_count": null,
   "id": "ea00f1e4",
   "metadata": {},
   "outputs": [],
   "source": [
    "df_tcga_mirna = pd.read_csv(\"mainTable_mirna.csv\", index_col=0)\n",
    "df_tcga_mirna = df_tcga_mirna.transpose().drop_duplicates().transpose()\n",
    "mirna_submitter_ids = [\"-\".join(case.split(\"-\")[:4]) for case in df_tcga_mirna.columns]\n",
    "df_tcga_mirna.head(2)"
   ]
  },
  {
   "cell_type": "markdown",
   "id": "51f16bb0",
   "metadata": {},
   "source": [
    "## Highly variable miRNA"
   ]
  },
  {
   "cell_type": "code",
   "execution_count": null,
   "id": "7f547b66",
   "metadata": {},
   "outputs": [],
   "source": [
    "adata = sc.AnnData(\n",
    "    X=df_tcga_mirna.transpose().reindex(index=df_files[df_files[\"sample_submitter_id_mirna\"].isin(df_tcga_mirna.columns)][\"sample_submitter_id_mirna\"]), \n",
    "    obs=df_files[df_files[\"sample_submitter_id_mirna\"].isin(df_tcga_mirna.columns)].set_index(\"sample_submitter_id_mirna\"))"
   ]
  },
  {
   "cell_type": "code",
   "execution_count": null,
   "id": "04723368",
   "metadata": {},
   "outputs": [],
   "source": [
    "sc.pp.log1p(adata)\n",
    "sc.pp.highly_variable_genes(adata, n_top_genes=1000)\n",
    "sc.pl.highly_variable_genes(adata)"
   ]
  },
  {
   "cell_type": "code",
   "execution_count": null,
   "id": "7494ff97",
   "metadata": {},
   "outputs": [],
   "source": [
    "hvmiRNA = adata.var[adata.var[\"highly_variable\"]==True].index.unique()"
   ]
  },
  {
   "cell_type": "code",
   "execution_count": null,
   "id": "03aaf548",
   "metadata": {},
   "outputs": [],
   "source": [
    "df_files[[\"sample_submitter_id\", \"sample_submitter_id_mirna\"]]"
   ]
  },
  {
   "cell_type": "code",
   "execution_count": null,
   "id": "a741e86e",
   "metadata": {},
   "outputs": [],
   "source": [
    "df_tcga_mirna = df_tcga_mirna.reindex(columns=df_files[\"sample_submitter_id_mirna\"])\n",
    "df_tcga_mirna.columns = df_files.index\n",
    "df_tcga = df_tcga.reindex(columns=df_files[\"sample_submitter_id\"])\n",
    "df_tcga.columns = df_files.index"
   ]
  },
  {
   "cell_type": "code",
   "execution_count": null,
   "id": "69b21c6e",
   "metadata": {},
   "outputs": [],
   "source": [
    "df_all = df_tcga.reindex(index=hvg, columns=df_files.index).append(df_tcga_mirna.reindex(index=hvmiRNA))\n",
    "df_all"
   ]
  },
  {
   "cell_type": "code",
   "execution_count": null,
   "id": "b92b664c",
   "metadata": {},
   "outputs": [],
   "source": [
    "df_files = df_files.reset_index().rename(columns={\"Unnamed: 0\":\"case_id\"}).set_index(\"case_id\")\n",
    "df_files.to_csv(\"files.dat\")"
   ]
  },
  {
   "cell_type": "markdown",
   "id": "e1cc06ca",
   "metadata": {},
   "source": [
    "# hSBM"
   ]
  },
  {
   "cell_type": "code",
   "execution_count": null,
   "id": "6c1ddaa6",
   "metadata": {},
   "outputs": [],
   "source": [
    "import sys\n",
    "sys.path.append(\"../hSBM_Topicmodel/\")\n",
    "from sbmtm import sbmtm"
   ]
  },
  {
   "cell_type": "code",
   "execution_count": null,
   "id": "b76069c6",
   "metadata": {},
   "outputs": [],
   "source": [
    "hsbm = sbmtm()\n",
    "hsbm.make_graph_from_BoW_df(df_tcga.reindex(index=hvg).applymap(lambda fpkm: np.log2(fpkm+1)))"
   ]
  },
  {
   "cell_type": "code",
   "execution_count": null,
   "id": "c3338243",
   "metadata": {},
   "outputs": [],
   "source": [
    "hsbm.g"
   ]
  },
  {
   "cell_type": "code",
   "execution_count": null,
   "id": "fec90616",
   "metadata": {},
   "outputs": [],
   "source": [
    "hsbm.save_graph(\"graph_breast_hsbm.xml.gz\")"
   ]
  },
  {
   "cell_type": "markdown",
   "id": "f92723d3",
   "metadata": {},
   "source": [
    "## triSBM"
   ]
  },
  {
   "cell_type": "code",
   "execution_count": null,
   "id": "529cb75c",
   "metadata": {},
   "outputs": [],
   "source": [
    "sys.path.append(\"../trisbm/\")\n",
    "from trisbm import trisbm"
   ]
  },
  {
   "cell_type": "code",
   "execution_count": null,
   "id": "7ae699d1",
   "metadata": {},
   "outputs": [],
   "source": [
    "trisbm_model = trisbm()\n",
    "trisbm_model.make_graph(df_all.applymap(lambda fpkm: np.log2(fpkm+1)), lambda gene: 1 if \"ENSG\" in gene else 2)"
   ]
  },
  {
   "cell_type": "code",
   "execution_count": null,
   "id": "cdde5307",
   "metadata": {},
   "outputs": [],
   "source": [
    "trisbm_model.save_graph(\"graph_breast_trisbm.xml.gz\")"
   ]
  },
  {
   "cell_type": "code",
   "execution_count": null,
   "id": "4fddcf21",
   "metadata": {},
   "outputs": [],
   "source": [
    "np.isin(hsbm.words, trisbm_model.words).sum()"
   ]
  },
  {
   "cell_type": "markdown",
   "id": "78ce4bb5",
   "metadata": {},
   "source": [
    "# Consistency check"
   ]
  },
  {
   "cell_type": "code",
   "execution_count": null,
   "id": "ac54ab25",
   "metadata": {},
   "outputs": [],
   "source": [
    "import os"
   ]
  },
  {
   "cell_type": "code",
   "execution_count": null,
   "id": "2a2b7073",
   "metadata": {},
   "outputs": [],
   "source": [
    "trisbm_model = trisbm()\n",
    "hsbm = sbmtm()\n",
    "\n",
    "trisbm_model.load_graph(\"/home/jovyan/work/phd/keywordTCGA/brca/trisbm/graph.xml.gz\")\n",
    "hsbm.load_graph(\"/home/jovyan/work/phd/keywordTCGA/brca/topsbm/graph.xml.gz\")"
   ]
  },
  {
   "cell_type": "code",
   "execution_count": null,
   "id": "5f9d229f",
   "metadata": {},
   "outputs": [],
   "source": [
    "import graph_tool.all as gt"
   ]
  },
  {
   "cell_type": "code",
   "execution_count": null,
   "id": "81eb8a86",
   "metadata": {},
   "outputs": [],
   "source": [
    "gt.adjacency(hsbm.g, weight=hsbm.g.ep[\"count\"]).max()"
   ]
  },
  {
   "cell_type": "code",
   "execution_count": null,
   "id": "ff702bf4",
   "metadata": {},
   "outputs": [],
   "source": [
    "gt.adjacency(trisbm_model.g, weight=trisbm_model.g.ep[\"count\"]).max()"
   ]
  },
  {
   "cell_type": "code",
   "execution_count": null,
   "id": "b69c3500",
   "metadata": {},
   "outputs": [],
   "source": [
    "import numpy as np\n",
    "np.isin(hsbm.words, trisbm_model.words, invert=True).sum()"
   ]
  },
  {
   "cell_type": "code",
   "execution_count": null,
   "id": "fac18b0d",
   "metadata": {},
   "outputs": [],
   "source": [
    "print(len(trisbm_model.words))\n",
    "print(len(hsbm.words))"
   ]
  },
  {
   "cell_type": "code",
   "execution_count": null,
   "id": "bfa574d5",
   "metadata": {},
   "outputs": [],
   "source": [
    "print(trisbm_model.g.num_vertices(), trisbm_model.g.num_edges())\n",
    "print(hsbm.g.num_vertices(), hsbm.g.num_edges())"
   ]
  },
  {
   "cell_type": "code",
   "execution_count": null,
   "id": "e786ee26-313c-490e-abee-b7fe24532ad6",
   "metadata": {},
   "outputs": [],
   "source": [
    "print(len(trisbm_model.documents), len(trisbm_model.words), len(trisbm_model.keywords[0]))\n",
    "print(len(hsbm.documents), len(hsbm.words))"
   ]
  },
  {
   "cell_type": "code",
   "execution_count": null,
   "id": "7abb6630-c3ef-4bc1-abea-bf1f9a4c8ef0",
   "metadata": {},
   "outputs": [],
   "source": [
    "3632009 / (3000*(1092+1286))\n",
    "#2607726 / (3000*1092)"
   ]
  },
  {
   "cell_type": "code",
   "execution_count": null,
   "id": "e1184cbc-0299-4430-af0a-39a8f04eaf4f",
   "metadata": {},
   "outputs": [],
   "source": []
  }
 ],
 "metadata": {
  "kernelspec": {
   "display_name": "Python 3",
   "language": "python",
   "name": "python3"
  },
  "language_info": {
   "codemirror_mode": {
    "name": "ipython",
    "version": 3
   },
   "file_extension": ".py",
   "mimetype": "text/x-python",
   "name": "python",
   "nbconvert_exporter": "python",
   "pygments_lexer": "ipython3",
   "version": "3.8.8"
  }
 },
 "nbformat": 4,
 "nbformat_minor": 5
}
