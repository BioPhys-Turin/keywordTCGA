{
 "cells": [
  {
   "cell_type": "code",
   "execution_count": null,
   "id": "1113545a",
   "metadata": {},
   "outputs": [],
   "source": [
    "%load_ext watermark\n",
    "%watermark -a Filippo_Valle -p pandas,scanpy,requests,numpy -m -v -g"
   ]
  },
  {
   "cell_type": "code",
   "execution_count": null,
   "id": "c528b59f",
   "metadata": {},
   "outputs": [],
   "source": [
    "import pandas as pd\n",
    "import scanpy as sc\n",
    "import numpy as np\n",
    "import json\n",
    "import requests"
   ]
  },
  {
   "cell_type": "markdown",
   "id": "f46923e3",
   "metadata": {},
   "source": [
    "# Preprocessing"
   ]
  },
  {
   "cell_type": "markdown",
   "id": "f0cce3f7",
   "metadata": {},
   "source": [
    "## Gene Names"
   ]
  },
  {
   "cell_type": "code",
   "execution_count": null,
   "id": "9fc1dfae",
   "metadata": {},
   "outputs": [],
   "source": [
    "df_conversion = pd.read_csv(\"https://www.genenames.org/cgi-bin/download/custom?col=gd_app_sym&col=md_ensembl_id&status=Approved&status=Entry%20Withdrawn&hgnc_dbtag=on&order_by=gd_app_sym_sort&format=text&submit=submit\", sep=\"\\t\").set_index(\"Approved symbol\")\n",
    "df_conversion.rename(columns={\"Ensembl ID(supplied by Ensembl)\":\"ensg\"}, inplace=True)\n",
    "df_conversion.head(2)"
   ]
  },
  {
   "cell_type": "markdown",
   "id": "cd60a065",
   "metadata": {},
   "source": [
    "## bioMART\n",
    "https://www.ensembl.org/biomart/martview/cf9b27b6e78e9d6a1be079a4ea60f7fe"
   ]
  },
  {
   "cell_type": "code",
   "execution_count": null,
   "id": "d7da55c3",
   "metadata": {},
   "outputs": [],
   "source": [
    "df_mart = pd.read_csv(\"mart_export.txt\").set_index(\"Gene stable ID\")\n",
    "df_mart.head(2)"
   ]
  },
  {
   "cell_type": "markdown",
   "id": "1da848be",
   "metadata": {},
   "source": [
    "# Tables"
   ]
  },
  {
   "cell_type": "markdown",
   "id": "f3f0284d",
   "metadata": {},
   "source": [
    "## TCGA FPKM"
   ]
  },
  {
   "cell_type": "code",
   "execution_count": null,
   "id": "687156ca",
   "metadata": {},
   "outputs": [],
   "source": [
    "df_tcga = pd.read_csv(\"mainTable_fpkm.csv\", sep=\",\", index_col=0)\n",
    "df_tcga = df_tcga.transpose().drop_duplicates().transpose()\n",
    "df_tcga.head(2)"
   ]
  },
  {
   "cell_type": "code",
   "execution_count": null,
   "id": "38c1bfdc",
   "metadata": {},
   "outputs": [],
   "source": [
    "# isolate pc\n",
    "df_tcga = df_tcga.join(df_mart, how=\"inner\")\n",
    "df_tcga = df_tcga[df_tcga[\"Gene type\"]==\"protein_coding\"]\n",
    "df_tcga = df_tcga.drop([\"miRBase ID\", \"Gene type\"],1)\n",
    "cases = [\"-\".join(case.split(\"-\")[:5]) for case in df_tcga.columns]\n",
    "analytes = [\"-\".join(case.split(\"-\")[:6]) for case in df_tcga.columns]\n",
    "df_tcga.head(2)"
   ]
  },
  {
   "cell_type": "code",
   "execution_count": null,
   "id": "1a1223d7",
   "metadata": {},
   "outputs": [],
   "source": [
    "df_files = pd.read_csv(\"files_tcga.dat\")\n",
    "df_files = df_files[df_files[\"sample_submitter_id\"].isin(df_tcga.columns)]\n",
    "df_files = df_files.loc[df_files.index[~df_files[\"sample_submitter_id\"].duplicated(keep=\"first\")],:]\n",
    "df_files = df_files.set_index(df_files.columns[0])\n",
    "df_files.head()"
   ]
  },
  {
   "cell_type": "markdown",
   "id": "53abf218",
   "metadata": {},
   "source": [
    "### HVG"
   ]
  },
  {
   "cell_type": "code",
   "execution_count": null,
   "id": "7588e9a6",
   "metadata": {},
   "outputs": [],
   "source": [
    "adata = sc.AnnData(\n",
    "    X=df_tcga.transpose().reindex(index=df_files[\"sample_submitter_id\"]), \n",
    "    obs=df_files.set_index(\"sample_submitter_id\"))"
   ]
  },
  {
   "cell_type": "code",
   "execution_count": null,
   "id": "f9889533",
   "metadata": {},
   "outputs": [],
   "source": [
    "sc.pp.log1p(adata)\n",
    "sc.pp.highly_variable_genes(adata, n_top_genes=3000)\n",
    "sc.pl.highly_variable_genes(adata)"
   ]
  },
  {
   "cell_type": "code",
   "execution_count": null,
   "id": "a80cc65c",
   "metadata": {},
   "outputs": [],
   "source": [
    "hvg = adata.var[adata.var[\"highly_variable\"]==True].index"
   ]
  },
  {
   "cell_type": "markdown",
   "id": "d890a44f",
   "metadata": {},
   "source": [
    "## miRNA"
   ]
  },
  {
   "cell_type": "code",
   "execution_count": null,
   "id": "0428ad60",
   "metadata": {},
   "outputs": [],
   "source": [
    "df_tcga_mirna = pd.read_csv(\"mainTable_mirna.csv\", index_col=0)\n",
    "df_tcga_mirna = df_tcga_mirna.transpose().drop_duplicates().transpose()\n",
    "mirna_submitter_ids = [\"-\".join(case.split(\"-\")[:4]) for case in df_tcga_mirna.columns]\n",
    "df_tcga_mirna.head(2)"
   ]
  },
  {
   "cell_type": "markdown",
   "id": "17cfd395",
   "metadata": {},
   "source": [
    "### Highly variable miRNA"
   ]
  },
  {
   "cell_type": "code",
   "execution_count": null,
   "id": "0bd07dd7",
   "metadata": {},
   "outputs": [],
   "source": [
    "adata = sc.AnnData(\n",
    "    X=df_tcga_mirna.transpose().reindex(index=df_files[df_files[\"sample_submitter_id_mirna\"].isin(df_tcga_mirna.columns)][\"sample_submitter_id_mirna\"]), \n",
    "    obs=df_files[df_files[\"sample_submitter_id_mirna\"].isin(df_tcga_mirna.columns)].set_index(\"sample_submitter_id_mirna\"))"
   ]
  },
  {
   "cell_type": "code",
   "execution_count": null,
   "id": "0014bb23",
   "metadata": {},
   "outputs": [],
   "source": [
    "sc.pp.log1p(adata)\n",
    "sc.pp.highly_variable_genes(adata, n_top_genes=1000)\n",
    "sc.pl.highly_variable_genes(adata)"
   ]
  },
  {
   "cell_type": "code",
   "execution_count": null,
   "id": "14f28d20",
   "metadata": {},
   "outputs": [],
   "source": [
    "hvmiRNA = adata.var[adata.var[\"highly_variable\"]==True].index.unique()"
   ]
  },
  {
   "cell_type": "code",
   "execution_count": null,
   "id": "89c67682",
   "metadata": {},
   "outputs": [],
   "source": [
    "df_files[[\"sample_submitter_id\", \"sample_submitter_id_mirna\"]]"
   ]
  },
  {
   "cell_type": "code",
   "execution_count": null,
   "id": "f87dab3e",
   "metadata": {},
   "outputs": [],
   "source": [
    "df_tcga_mirna = df_tcga_mirna.reindex(columns=df_files[\"sample_submitter_id_mirna\"])\n",
    "df_tcga_mirna.columns = df_files.index\n",
    "df_tcga = df_tcga.reindex(columns=df_files[\"sample_submitter_id\"])\n",
    "df_tcga.columns = df_files.index"
   ]
  },
  {
   "cell_type": "code",
   "execution_count": null,
   "id": "376d573a",
   "metadata": {},
   "outputs": [],
   "source": [
    "df_all = df_tcga.reindex(index=hvg, columns=df_files.index).append(df_tcga_mirna.reindex(index=hvmiRNA))\n",
    "df_all"
   ]
  },
  {
   "cell_type": "code",
   "execution_count": null,
   "id": "6f98e5cb",
   "metadata": {},
   "outputs": [],
   "source": [
    "df_files = df_files.reset_index().rename(columns={\"Unnamed: 0\":\"case_id\"}).set_index(\"case_id\")\n",
    "df_files.to_csv(\"files.dat\")"
   ]
  },
  {
   "cell_type": "markdown",
   "id": "f0e05e5d",
   "metadata": {},
   "source": [
    "## CNV"
   ]
  },
  {
   "cell_type": "code",
   "execution_count": null,
   "id": "321ef3bb",
   "metadata": {},
   "outputs": [],
   "source": [
    "df_tcga_cnv = pd.read_csv(\"mainTable_cnv.csv\", index_col=0)\n",
    "df_tcga_cnv = df_tcga_cnv.transpose().drop_duplicates().transpose()\n",
    "df_tcga_cnv = df_tcga_cnv.reindex(columns=df_all.columns)\n",
    "cnv_submitter_ids = [\"-\".join(case.split(\"-\")[:4]) for case in df_tcga_cnv.columns]\n",
    "df_tcga_cnv.head(2)"
   ]
  },
  {
   "cell_type": "markdown",
   "id": "0dce50b6",
   "metadata": {},
   "source": [
    "### Highly variable CNVs"
   ]
  },
  {
   "cell_type": "code",
   "execution_count": null,
   "id": "dc9118d1",
   "metadata": {},
   "outputs": [],
   "source": [
    "df_tcga_cnv.mean(1).hist()"
   ]
  },
  {
   "cell_type": "markdown",
   "id": "96f4e575",
   "metadata": {},
   "source": [
    "2 cnv is a duplication on two chromosomes"
   ]
  },
  {
   "cell_type": "code",
   "execution_count": null,
   "id": "6228c167",
   "metadata": {},
   "outputs": [],
   "source": [
    "hvcn = df_tcga_cnv[df_tcga_cnv.mean(1)>3.5].index"
   ]
  },
  {
   "cell_type": "code",
   "execution_count": null,
   "id": "d3e26334",
   "metadata": {},
   "outputs": [],
   "source": [
    "np.isin(hvg,hvcn).sum()"
   ]
  },
  {
   "cell_type": "markdown",
   "id": "e3ac6c3a",
   "metadata": {},
   "source": [
    "## Simple Somatic Mutation"
   ]
  },
  {
   "cell_type": "code",
   "execution_count": null,
   "id": "24a83d52",
   "metadata": {},
   "outputs": [],
   "source": [
    "df_tcga_ssm = pd.read_csv(\"mainTable_ssm.csv\", index_col=0)\n",
    "df_tcga_ssm = df_tcga_ssm.transpose().drop_duplicates().transpose()\n",
    "df_tcga_ssm = df_tcga_ssm.reindex(columns=df_all.columns).fillna(0)\n",
    "ssm_submitter_ids = [\"-\".join(case.split(\"-\")[:4]) for case in df_tcga_cnv.columns]\n",
    "df_tcga_ssm.head(2)"
   ]
  },
  {
   "cell_type": "code",
   "execution_count": null,
   "id": "1fdfd8f4",
   "metadata": {},
   "outputs": [],
   "source": [
    "df_tcga_ssm.sum(1).hist()"
   ]
  },
  {
   "cell_type": "markdown",
   "id": "18178482",
   "metadata": {},
   "source": [
    "# Fit"
   ]
  },
  {
   "cell_type": "markdown",
   "id": "85cd93ae",
   "metadata": {},
   "source": [
    "## hSBM"
   ]
  },
  {
   "cell_type": "code",
   "execution_count": null,
   "id": "e4390ac2",
   "metadata": {},
   "outputs": [],
   "source": [
    "import sys\n",
    "sys.path.append(\"../hSBM_Topicmodel/\")\n",
    "from sbmtm import sbmtm"
   ]
  },
  {
   "cell_type": "code",
   "execution_count": null,
   "id": "bcdfd53d",
   "metadata": {},
   "outputs": [],
   "source": [
    "hsbm = sbmtm()\n",
    "hsbm.make_graph_from_BoW_df(df_tcga.reindex(index=hvg).applymap(lambda fpkm: np.log2(fpkm+1)))"
   ]
  },
  {
   "cell_type": "code",
   "execution_count": null,
   "id": "933be669",
   "metadata": {},
   "outputs": [],
   "source": [
    "hsbm.g"
   ]
  },
  {
   "cell_type": "code",
   "execution_count": null,
   "id": "82bed790",
   "metadata": {},
   "outputs": [],
   "source": [
    "hsbm.save_graph(\"graph_breast_hsbm.xml.gz\")"
   ]
  },
  {
   "cell_type": "markdown",
   "id": "dc370480",
   "metadata": {},
   "source": [
    "### CNV"
   ]
  },
  {
   "cell_type": "code",
   "execution_count": null,
   "id": "ab4a8f4b",
   "metadata": {},
   "outputs": [],
   "source": [
    "hsbm = sbmtm()\n",
    "hsbm.make_graph_from_BoW_df(df_tcga_cnv.reindex(columns = df_tcga.columns).fillna(0))\n",
    "hsbm.save_graph(\"graph_breast_cnv.xml.gz\")"
   ]
  },
  {
   "cell_type": "markdown",
   "id": "a491687c",
   "metadata": {},
   "source": [
    "### ssmSBM"
   ]
  },
  {
   "cell_type": "code",
   "execution_count": null,
   "id": "9789740c",
   "metadata": {},
   "outputs": [],
   "source": [
    "sys.path.append(\"../trisbm/\")\n",
    "from nsbm import nsbm"
   ]
  },
  {
   "cell_type": "code",
   "execution_count": null,
   "id": "85e9e71a",
   "metadata": {},
   "outputs": [],
   "source": [
    "nsbm_model = nsbm()\n",
    "nsbm_model.make_graph_from_BoW_df(df_tcga_ssm.fillna(0))"
   ]
  },
  {
   "cell_type": "code",
   "execution_count": null,
   "id": "0b743a10",
   "metadata": {},
   "outputs": [],
   "source": [
    "nsbm_model.save_graph(\"graph_breast_ssm.xml.gz\")"
   ]
  },
  {
   "cell_type": "markdown",
   "id": "2df72bef",
   "metadata": {},
   "source": [
    "## triSBMdf_tcga_ssm"
   ]
  },
  {
   "cell_type": "code",
   "execution_count": null,
   "id": "e25131d3",
   "metadata": {},
   "outputs": [],
   "source": [
    "sys.path.append(\"../trisbm/\")\n",
    "from trisbm import trisbm"
   ]
  },
  {
   "cell_type": "code",
   "execution_count": null,
   "id": "ecf32681",
   "metadata": {},
   "outputs": [],
   "source": [
    "trisbm_model = trisbm()\n",
    "trisbm_model.make_graph(df_all.applymap(lambda fpkm: np.log2(fpkm+1)), lambda gene: 1 if \"ENSG\" in gene else 2)"
   ]
  },
  {
   "cell_type": "code",
   "execution_count": null,
   "id": "994561ce",
   "metadata": {},
   "outputs": [],
   "source": [
    "trisbm_model.save_graph(\"graph_breast_trisbm.xml.gz\")"
   ]
  },
  {
   "cell_type": "code",
   "execution_count": null,
   "id": "27af5b0a",
   "metadata": {},
   "outputs": [],
   "source": [
    "np.isin(hsbm.words, trisbm_model.words).sum()"
   ]
  },
  {
   "cell_type": "markdown",
   "id": "5b370a2a",
   "metadata": {},
   "source": [
    "## tetraSBM"
   ]
  },
  {
   "cell_type": "code",
   "execution_count": null,
   "id": "845418f1",
   "metadata": {},
   "outputs": [],
   "source": [
    "sys.path.append(\"../trisbm/\")\n",
    "from nsbm import nsbm"
   ]
  },
  {
   "cell_type": "code",
   "execution_count": null,
   "id": "dd353a31",
   "metadata": {},
   "outputs": [],
   "source": [
    "nsbm_model = nsbm()\n",
    "nsbm_model.make_graph_multiple_df(df_tcga.reindex(index=hvg).applymap(lambda fpkm: np.log2(fpkm+1)),\n",
    "                                  [\n",
    "                                      df_tcga_mirna.reindex(index=hvmiRNA, columns = df_tcga.columns).applymap(lambda fpkm: np.log2(fpkm+1)),\n",
    "                                      df_tcga_cnv.reindex(index=hvcn, columns = df_tcga.columns)\n",
    "                                  ])"
   ]
  },
  {
   "cell_type": "code",
   "execution_count": null,
   "id": "9ab06ba0",
   "metadata": {},
   "outputs": [],
   "source": [
    "nsbm_model.save_graph(\"graph_breast_tetrasbm.xml.gz\")"
   ]
  },
  {
   "cell_type": "markdown",
   "id": "9683ad4d",
   "metadata": {},
   "source": [
    "## pentaSBM"
   ]
  },
  {
   "cell_type": "code",
   "execution_count": null,
   "id": "2d5fb009",
   "metadata": {},
   "outputs": [],
   "source": [
    "sys.path.append(\"../trisbm/\")\n",
    "from nsbm import nsbm"
   ]
  },
  {
   "cell_type": "code",
   "execution_count": null,
   "id": "5db8ce20",
   "metadata": {},
   "outputs": [],
   "source": [
    "nsbm_model = nsbm()\n",
    "nsbm_model.make_graph_multiple_df(df_tcga.reindex(index=hvg).applymap(lambda fpkm: np.log2(fpkm+1)),\n",
    "                                  [\n",
    "                                      df_tcga_mirna.reindex(index=hvmiRNA, columns = df_tcga.columns).applymap(lambda fpkm: np.log2(fpkm+1)),\n",
    "                                      df_tcga_cnv.reindex(index=hvcn, columns = df_tcga.columns),\n",
    "                                      df_tcga_ssm.reindex(columns = df_tcga.columns)\n",
    "                                  ])"
   ]
  },
  {
   "cell_type": "code",
   "execution_count": null,
   "id": "d72a53f6",
   "metadata": {},
   "outputs": [],
   "source": [
    "nsbm_model.save_graph(\"graph_breast_pentasbm.xml.gz\")"
   ]
  },
  {
   "cell_type": "markdown",
   "id": "fb780409",
   "metadata": {},
   "source": [
    "# Consistency check"
   ]
  },
  {
   "cell_type": "code",
   "execution_count": null,
   "id": "5905dc20",
   "metadata": {},
   "outputs": [],
   "source": [
    "import os"
   ]
  },
  {
   "cell_type": "code",
   "execution_count": null,
   "id": "6457caff",
   "metadata": {},
   "outputs": [],
   "source": [
    "trisbm_model = trisbm()\n",
    "hsbm = sbmtm()\n",
    "\n",
    "trisbm_model.load_graph(\"brca/trisbm/graph.xml.gz\")\n",
    "hsbm.load_graph(\"brca/topsbm/graph.xml.gz\")"
   ]
  },
  {
   "cell_type": "code",
   "execution_count": null,
   "id": "578e2fa1",
   "metadata": {},
   "outputs": [],
   "source": [
    "import graph_tool.all as gt"
   ]
  },
  {
   "cell_type": "code",
   "execution_count": null,
   "id": "04c79cfe",
   "metadata": {},
   "outputs": [],
   "source": [
    "gt.adjacency(hsbm.g, weight=hsbm.g.ep[\"count\"]).max()"
   ]
  },
  {
   "cell_type": "code",
   "execution_count": null,
   "id": "f06ed31b",
   "metadata": {},
   "outputs": [],
   "source": [
    "gt.adjacency(trisbm_model.g, weight=trisbm_model.g.ep[\"count\"]).max()"
   ]
  },
  {
   "cell_type": "code",
   "execution_count": null,
   "id": "f90db1be",
   "metadata": {},
   "outputs": [],
   "source": [
    "import numpy as np\n",
    "np.isin(hsbm.words, trisbm_model.words, invert=False).sum()"
   ]
  },
  {
   "cell_type": "code",
   "execution_count": null,
   "id": "5320e17c",
   "metadata": {},
   "outputs": [],
   "source": [
    "print(len(trisbm_model.words))\n",
    "print(len(hsbm.words))"
   ]
  },
  {
   "cell_type": "code",
   "execution_count": null,
   "id": "54fde5fa",
   "metadata": {},
   "outputs": [],
   "source": [
    "print(trisbm_model.g.num_vertices(), trisbm_model.g.num_edges())\n",
    "print(hsbm.g.num_vertices(), hsbm.g.num_edges())"
   ]
  },
  {
   "cell_type": "code",
   "execution_count": null,
   "id": "9f9fa81a",
   "metadata": {},
   "outputs": [],
   "source": [
    "print(len(trisbm_model.documents), len(trisbm_model.words), len(trisbm_model.keywords[0]))\n",
    "print(len(hsbm.documents), len(hsbm.words))"
   ]
  },
  {
   "cell_type": "code",
   "execution_count": null,
   "id": "bbf5fe6b",
   "metadata": {},
   "outputs": [],
   "source": [
    "3632009 / (3000*(1092+1286))\n",
    "#2607726 / (3000*1092)"
   ]
  },
  {
   "cell_type": "code",
   "execution_count": null,
   "id": "d40871b2",
   "metadata": {},
   "outputs": [],
   "source": [
    "import pandas as pd\n",
    "import numpy as np\n",
    "cnv_genes = pd.read_csv(\"brca/tetrasbm/trisbm/trisbm_level_0_kind_3_keyword-dist.csv\", index_col=0).index\n",
    "cnv_genes = [pc[2:] for pc in cnv_genes]\n",
    "pc_genes = pd.read_csv(\"brca/tetrasbm/trisbm/trisbm_level_0_word-dist.csv\", index_col=0).index\n",
    "np.isin(cnv_genes, pc_genes).sum(), len(cnv_genes), len(pc_genes)"
   ]
  },
  {
   "cell_type": "code",
   "execution_count": null,
   "id": "50a434b5",
   "metadata": {},
   "outputs": [],
   "source": [
    "import sys\n",
    "sys.path.append(\"../hSBM_Topicmodel/\")\n",
    "from sbmtm import sbmtm\n",
    "sys.path.append(\"../trisbm/\")\n",
    "from trisbm import trisbm"
   ]
  },
  {
   "cell_type": "code",
   "execution_count": null,
   "id": "59f74c5f",
   "metadata": {},
   "outputs": [],
   "source": [
    "trisbm_model = trisbm()\n",
    "hsbm = sbmtm()\n",
    "\n",
    "trisbm_model.load_graph(\"/home/jovyan/work/phd/keywordTCGA/brca_subtypes/trisbm/graph.xml.gz\")\n",
    "hsbm.load_graph(\"/home/jovyan/work/phd/cancers/breast/topsbm/graph_hde.xml.gz\")"
   ]
  },
  {
   "cell_type": "code",
   "execution_count": null,
   "id": "9af45ea6",
   "metadata": {},
   "outputs": [],
   "source": [
    "print(len(trisbm_model.words))\n",
    "print(len(hsbm.words))"
   ]
  },
  {
   "cell_type": "code",
   "execution_count": null,
   "id": "c37d2025",
   "metadata": {},
   "outputs": [],
   "source": [
    "print(trisbm_model.g.num_vertices(), trisbm_model.g.num_edges())\n",
    "print(hsbm.g.num_vertices(), hsbm.g.num_edges())"
   ]
  },
  {
   "cell_type": "code",
   "execution_count": null,
   "id": "29c08599",
   "metadata": {},
   "outputs": [],
   "source": [
    "np.isin(trisbm_model.words,hsbm.words).sum()"
   ]
  },
  {
   "cell_type": "code",
   "execution_count": null,
   "id": "07ac1bb9",
   "metadata": {},
   "outputs": [],
   "source": []
  }
 ],
 "metadata": {
  "kernelspec": {
   "display_name": "Python 3",
   "language": "python",
   "name": "python3"
  },
  "language_info": {
   "codemirror_mode": {
    "name": "ipython",
    "version": 3
   },
   "file_extension": ".py",
   "mimetype": "text/x-python",
   "name": "python",
   "nbconvert_exporter": "python",
   "pygments_lexer": "ipython3",
   "version": "3.8.5"
  }
 },
 "nbformat": 4,
 "nbformat_minor": 5
}
