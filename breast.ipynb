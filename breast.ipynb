{
 "cells": [
  {
   "cell_type": "code",
   "execution_count": null,
   "id": "c3b4bc0f",
   "metadata": {},
   "outputs": [],
   "source": [
    "import pandas as pd\n",
    "import scanpy as sc\n",
    "import json\n",
    "import requests"
   ]
  },
  {
   "cell_type": "markdown",
   "id": "9121b4b0",
   "metadata": {},
   "source": [
    "# Preprocessing"
   ]
  },
  {
   "cell_type": "markdown",
   "id": "473b5618",
   "metadata": {},
   "source": [
    "## Gene Names"
   ]
  },
  {
   "cell_type": "code",
   "execution_count": null,
   "id": "baec1d75",
   "metadata": {},
   "outputs": [],
   "source": [
    "df_conversion = pd.read_csv(\"https://www.genenames.org/cgi-bin/download/custom?col=gd_app_sym&col=md_ensembl_id&status=Approved&status=Entry%20Withdrawn&hgnc_dbtag=on&order_by=gd_app_sym_sort&format=text&submit=submit\", sep=\"\\t\").set_index(\"Approved symbol\")\n",
    "df_conversion.rename(columns={\"Ensembl ID(supplied by Ensembl)\":\"ensg\"}, inplace=True)\n",
    "df_conversion.head(2)"
   ]
  },
  {
   "cell_type": "markdown",
   "id": "a349ebaa",
   "metadata": {},
   "source": [
    "## bioMART\n",
    "https://www.ensembl.org/biomart/martview/cf9b27b6e78e9d6a1be079a4ea60f7fe"
   ]
  },
  {
   "cell_type": "code",
   "execution_count": null,
   "id": "0b1d1d78",
   "metadata": {},
   "outputs": [],
   "source": [
    "df_mart = pd.read_csv(\"mart_export.txt\").set_index(\"Gene stable ID\")\n",
    "df_mart.head(2)"
   ]
  },
  {
   "cell_type": "markdown",
   "id": "1e7c1815",
   "metadata": {},
   "source": [
    "# TCGA FPKM"
   ]
  },
  {
   "cell_type": "code",
   "execution_count": null,
   "id": "4f3421dc",
   "metadata": {},
   "outputs": [],
   "source": [
    "df_tcga = pd.read_csv(\"mainTable_fpkm.csv\", sep=\",\", index_col=0)\n",
    "df_tcga = df_tcga.transpose().drop_duplicates().transpose()\n",
    "df_tcga.head(2)"
   ]
  },
  {
   "cell_type": "code",
   "execution_count": null,
   "id": "4c3d5eb4",
   "metadata": {},
   "outputs": [],
   "source": [
    "# isolate pc\n",
    "df_tcga = df_tcga.join(df_mart, how=\"inner\")\n",
    "df_tcga = df_tcga[df_tcga[\"Gene type\"]==\"protein_coding\"]\n",
    "df_tcga = df_tcga.drop([\"miRBase ID\", \"Gene type\"],1)\n",
    "cases = [\"-\".join(case.split(\"-\")[:5]) for case in df_tcga.columns]\n",
    "analytes = [\"-\".join(case.split(\"-\")[:6]) for case in df_tcga.columns]\n",
    "df_tcga.head(2)"
   ]
  },
  {
   "cell_type": "code",
   "execution_count": null,
   "id": "ca486a1f",
   "metadata": {},
   "outputs": [],
   "source": [
    "df_files = pd.read_csv(\"files.dat\")\n",
    "df_files = df_files[df_files[\"sample_submitter_id\"].isin(df_tcga.columns)]\n",
    "df_files = df_files.loc[df_files.index[~df_files[\"sample_submitter_id\"].duplicated(keep=\"first\")],:]\n",
    "df_files = df_files.set_index(df_files.columns[0])\n",
    "df_files.head()"
   ]
  },
  {
   "cell_type": "markdown",
   "id": "18aef223",
   "metadata": {},
   "source": [
    "## HVG"
   ]
  },
  {
   "cell_type": "code",
   "execution_count": null,
   "id": "0b23654b",
   "metadata": {},
   "outputs": [],
   "source": [
    "adata = sc.AnnData(\n",
    "    X=df_tcga.transpose().reindex(index=df_files[\"sample_submitter_id\"]), \n",
    "    obs=df_files.set_index(\"sample_submitter_id\"))"
   ]
  },
  {
   "cell_type": "code",
   "execution_count": null,
   "id": "8dac2fb8",
   "metadata": {},
   "outputs": [],
   "source": [
    "sc.pp.log1p(adata)\n",
    "sc.pp.highly_variable_genes(adata, n_top_genes=3000)\n",
    "sc.pl.highly_variable_genes(adata)"
   ]
  },
  {
   "cell_type": "code",
   "execution_count": null,
   "id": "e6e893a3",
   "metadata": {},
   "outputs": [],
   "source": [
    "hvg = adata.var[adata.var[\"highly_variable\"]==True].index"
   ]
  },
  {
   "cell_type": "markdown",
   "id": "bdf0c100",
   "metadata": {},
   "source": [
    "## miRNA"
   ]
  },
  {
   "cell_type": "code",
   "execution_count": null,
   "id": "488647c7",
   "metadata": {},
   "outputs": [],
   "source": [
    "df_tcga_mirna = pd.read_csv(\"mainTable_mirna.csv\", index_col=0)\n",
    "df_tcga_mirna = df_tcga_mirna.transpose().drop_duplicates().transpose()\n",
    "mirna_submitter_ids = [\"-\".join(case.split(\"-\")[:4]) for case in df_tcga_mirna.columns]\n",
    "df_tcga_mirna.head(2)"
   ]
  },
  {
   "cell_type": "markdown",
   "id": "08acc6d0",
   "metadata": {},
   "source": [
    "## Highly variable miRNA"
   ]
  },
  {
   "cell_type": "code",
   "execution_count": null,
   "id": "2a49abd7",
   "metadata": {},
   "outputs": [],
   "source": [
    "adata = sc.AnnData(\n",
    "    X=df_tcga_mirna.transpose().reindex(index=df_files[df_files[\"sample_submitter_id_mirna\"].isin(df_tcga_mirna.columns)][\"sample_submitter_id_mirna\"]), \n",
    "    obs=df_files[df_files[\"sample_submitter_id_mirna\"].isin(df_tcga_mirna.columns)].set_index(\"sample_submitter_id_mirna\"))"
   ]
  },
  {
   "cell_type": "code",
   "execution_count": null,
   "id": "67390428",
   "metadata": {},
   "outputs": [],
   "source": [
    "sc.pp.log1p(adata)\n",
    "sc.pp.highly_variable_genes(adata, n_top_genes=1000)\n",
    "sc.pl.highly_variable_genes(adata)"
   ]
  },
  {
   "cell_type": "code",
   "execution_count": null,
   "id": "c104f94c",
   "metadata": {},
   "outputs": [],
   "source": [
    "hvmiRNA = adata.var[adata.var[\"highly_variable\"]==True].index.unique()"
   ]
  },
  {
   "cell_type": "code",
   "execution_count": null,
   "id": "c5db0ff5",
   "metadata": {},
   "outputs": [],
   "source": [
    "df_files[[\"sample_submitter_id\", \"sample_submitter_id_mirna\"]]"
   ]
  },
  {
   "cell_type": "code",
   "execution_count": null,
   "id": "e55439b8",
   "metadata": {},
   "outputs": [],
   "source": [
    "df_tcga_mirna = df_tcga_mirna.reindex(columns=df_files[\"sample_submitter_id_mirna\"])\n",
    "df_tcga_mirna.columns = df_files.index\n",
    "df_tcga = df_tcga.reindex(columns=df_files[\"sample_submitter_id\"])\n",
    "df_tcga.columns = df_files.index"
   ]
  },
  {
   "cell_type": "code",
   "execution_count": null,
   "id": "218578e3",
   "metadata": {},
   "outputs": [],
   "source": [
    "df_all = df_tcga.reindex(index=hvg, columns=df_files.index).append(df_tcga_mirna.reindex(index=hvmiRNA))\n",
    "df_all"
   ]
  },
  {
   "cell_type": "code",
   "execution_count": null,
   "id": "a7730cb7",
   "metadata": {},
   "outputs": [],
   "source": [
    "df_files.to_csv(\"files.dat\")"
   ]
  },
  {
   "cell_type": "markdown",
   "id": "c9f84e85",
   "metadata": {},
   "source": [
    "# hSBM"
   ]
  },
  {
   "cell_type": "code",
   "execution_count": null,
   "id": "052d05eb",
   "metadata": {},
   "outputs": [],
   "source": [
    "import sys\n",
    "sys.path.append(\"../hSBM_Topicmodel/\")\n",
    "from sbmtm import sbmtm"
   ]
  },
  {
   "cell_type": "code",
   "execution_count": null,
   "id": "8043e3eb",
   "metadata": {},
   "outputs": [],
   "source": [
    "hsbm = sbmtm()\n",
    "hsbm.make_graph_from_BoW_df(df_tcga.reindex(index=hvg))"
   ]
  },
  {
   "cell_type": "code",
   "execution_count": null,
   "id": "bb7f812b",
   "metadata": {},
   "outputs": [],
   "source": [
    "hsbm.g"
   ]
  },
  {
   "cell_type": "code",
   "execution_count": null,
   "id": "d25fccb8",
   "metadata": {},
   "outputs": [],
   "source": [
    "hsbm.save_graph(\"graph_breast_hsbm.xml.gz\")"
   ]
  },
  {
   "cell_type": "markdown",
   "id": "51ab2a4b",
   "metadata": {},
   "source": [
    "## triSBM"
   ]
  },
  {
   "cell_type": "code",
   "execution_count": null,
   "id": "e79df8fc",
   "metadata": {},
   "outputs": [],
   "source": [
    "sys.path.append(\"../trisbm/\")\n",
    "from trisbm import trisbm"
   ]
  },
  {
   "cell_type": "code",
   "execution_count": null,
   "id": "6025f497",
   "metadata": {},
   "outputs": [],
   "source": [
    "trisbm = trisbm()\n",
    "trisbm.make_graph(df_all, lambda gene: 1 if \"ENSG\" in gene else 2)"
   ]
  },
  {
   "cell_type": "code",
   "execution_count": null,
   "id": "38d60746",
   "metadata": {},
   "outputs": [],
   "source": [
    "trisbm.g"
   ]
  },
  {
   "cell_type": "code",
   "execution_count": null,
   "id": "7f4700dd",
   "metadata": {},
   "outputs": [],
   "source": [
    "trisbm.save_graph(\"graph_breast_trisbm.xml.gz\")"
   ]
  },
  {
   "cell_type": "code",
   "execution_count": null,
   "id": "78f1470a",
   "metadata": {},
   "outputs": [],
   "source": []
  }
 ],
 "metadata": {
  "kernelspec": {
   "display_name": "Python 3",
   "language": "python",
   "name": "python3"
  },
  "language_info": {
   "codemirror_mode": {
    "name": "ipython",
    "version": 3
   },
   "file_extension": ".py",
   "mimetype": "text/x-python",
   "name": "python",
   "nbconvert_exporter": "python",
   "pygments_lexer": "ipython3",
   "version": "3.8.8"
  }
 },
 "nbformat": 4,
 "nbformat_minor": 5
}
