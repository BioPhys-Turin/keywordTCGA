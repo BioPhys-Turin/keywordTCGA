{
 "cells": [
  {
   "cell_type": "code",
   "execution_count": null,
   "id": "5742fa89",
   "metadata": {},
   "outputs": [],
   "source": [
    "%load_ext watermark\n",
    "%watermark -a Filippo_Valle -p pandas,scanpy,requests,numpy -m -v -g"
   ]
  },
  {
   "cell_type": "code",
   "execution_count": null,
   "id": "fbf907cd",
   "metadata": {},
   "outputs": [],
   "source": [
    "import pandas as pd\n",
    "import scanpy as sc\n",
    "import numpy as np\n",
    "import json\n",
    "import requests"
   ]
  },
  {
   "cell_type": "markdown",
   "id": "4ee45b43",
   "metadata": {},
   "source": [
    "# Preprocessing"
   ]
  },
  {
   "cell_type": "markdown",
   "id": "a5c64e6f",
   "metadata": {},
   "source": [
    "## Gene Names"
   ]
  },
  {
   "cell_type": "code",
   "execution_count": null,
   "id": "b35ffb68",
   "metadata": {},
   "outputs": [],
   "source": [
    "df_conversion = pd.read_csv(\"https://www.genenames.org/cgi-bin/download/custom?col=gd_app_sym&col=md_ensembl_id&status=Approved&status=Entry%20Withdrawn&hgnc_dbtag=on&order_by=gd_app_sym_sort&format=text&submit=submit\", sep=\"\\t\").set_index(\"Approved symbol\")\n",
    "df_conversion.rename(columns={\"Ensembl ID(supplied by Ensembl)\":\"ensg\"}, inplace=True)\n",
    "df_conversion.head(2)"
   ]
  },
  {
   "cell_type": "markdown",
   "id": "8c5a95e1",
   "metadata": {},
   "source": [
    "## bioMART\n",
    "https://www.ensembl.org/biomart/martview/cf9b27b6e78e9d6a1be079a4ea60f7fe"
   ]
  },
  {
   "cell_type": "code",
   "execution_count": null,
   "id": "9388bac3",
   "metadata": {},
   "outputs": [],
   "source": [
    "df_mart = pd.read_csv(\"mart_export.txt\").set_index(\"Gene stable ID\")\n",
    "df_mart.head(2)"
   ]
  },
  {
   "cell_type": "markdown",
   "id": "ecd14055",
   "metadata": {},
   "source": [
    "# Tables"
   ]
  },
  {
   "cell_type": "markdown",
   "id": "0654612e",
   "metadata": {},
   "source": [
    "## TCGA FPKM"
   ]
  },
  {
   "cell_type": "code",
   "execution_count": null,
   "id": "012d876e",
   "metadata": {},
   "outputs": [],
   "source": [
    "df_tcga = pd.read_csv(\"mainTable_fpkm.csv\", sep=\",\", index_col=0)\n",
    "df_tcga = df_tcga.transpose().drop_duplicates().transpose()\n",
    "df_tcga.head(2)"
   ]
  },
  {
   "cell_type": "code",
   "execution_count": null,
   "id": "acb66186",
   "metadata": {},
   "outputs": [],
   "source": [
    "# isolate pc\n",
    "df_tcga = df_tcga.join(df_mart, how=\"inner\")\n",
    "df_tcga = df_tcga[df_tcga[\"Gene type\"]==\"protein_coding\"]\n",
    "df_tcga = df_tcga.drop([\"miRBase ID\", \"Gene type\"],1)\n",
    "cases = [\"-\".join(case.split(\"-\")[:5]) for case in df_tcga.columns]\n",
    "analytes = [\"-\".join(case.split(\"-\")[:6]) for case in df_tcga.columns]\n",
    "df_tcga.head(2)"
   ]
  },
  {
   "cell_type": "code",
   "execution_count": null,
   "id": "504e3d87",
   "metadata": {},
   "outputs": [],
   "source": [
    "df_files = pd.read_csv(\"files_tcga.dat\")\n",
    "df_files = df_files[df_files[\"sample_submitter_id\"].isin(df_tcga.columns)]\n",
    "df_files = df_files.loc[df_files.index[~df_files[\"sample_submitter_id\"].duplicated(keep=\"first\")],:]\n",
    "df_files = df_files.set_index(df_files.columns[0])\n",
    "df_files.head()"
   ]
  },
  {
   "cell_type": "markdown",
   "id": "7dd1012d",
   "metadata": {},
   "source": [
    "### HVG"
   ]
  },
  {
   "cell_type": "code",
   "execution_count": null,
   "id": "595baa05",
   "metadata": {},
   "outputs": [],
   "source": [
    "adata = sc.AnnData(\n",
    "    X=df_tcga.transpose().reindex(index=df_files[\"sample_submitter_id\"]), \n",
    "    obs=df_files.set_index(\"sample_submitter_id\"))"
   ]
  },
  {
   "cell_type": "code",
   "execution_count": null,
   "id": "3cb881ae",
   "metadata": {},
   "outputs": [],
   "source": [
    "sc.pp.log1p(adata)\n",
    "sc.pp.highly_variable_genes(adata, n_top_genes=3000)\n",
    "sc.pl.highly_variable_genes(adata)"
   ]
  },
  {
   "cell_type": "code",
   "execution_count": null,
   "id": "20d51daa",
   "metadata": {},
   "outputs": [],
   "source": [
    "hvg = adata.var[adata.var[\"highly_variable\"]==True].index"
   ]
  },
  {
   "cell_type": "markdown",
   "id": "70816ed7",
   "metadata": {},
   "source": [
    "## miRNA"
   ]
  },
  {
   "cell_type": "code",
   "execution_count": null,
   "id": "55a74bbd",
   "metadata": {},
   "outputs": [],
   "source": [
    "df_tcga_mirna = pd.read_csv(\"mainTable_mirna.csv\", index_col=0)\n",
    "df_tcga_mirna = df_tcga_mirna.transpose().drop_duplicates().transpose()\n",
    "mirna_submitter_ids = [\"-\".join(case.split(\"-\")[:4]) for case in df_tcga_mirna.columns]\n",
    "df_tcga_mirna.head(2)"
   ]
  },
  {
   "cell_type": "markdown",
   "id": "e37775aa",
   "metadata": {},
   "source": [
    "### Highly variable miRNA"
   ]
  },
  {
   "cell_type": "code",
   "execution_count": null,
   "id": "a25666bc",
   "metadata": {},
   "outputs": [],
   "source": [
    "adata = sc.AnnData(\n",
    "    X=df_tcga_mirna.transpose().reindex(index=df_files[df_files[\"sample_submitter_id_mirna\"].isin(df_tcga_mirna.columns)][\"sample_submitter_id_mirna\"]), \n",
    "    obs=df_files[df_files[\"sample_submitter_id_mirna\"].isin(df_tcga_mirna.columns)].set_index(\"sample_submitter_id_mirna\"))"
   ]
  },
  {
   "cell_type": "code",
   "execution_count": null,
   "id": "5296dd18",
   "metadata": {},
   "outputs": [],
   "source": [
    "sc.pp.log1p(adata)\n",
    "sc.pp.highly_variable_genes(adata, n_top_genes=1000)\n",
    "sc.pl.highly_variable_genes(adata)"
   ]
  },
  {
   "cell_type": "code",
   "execution_count": null,
   "id": "b8c990ae",
   "metadata": {},
   "outputs": [],
   "source": [
    "hvmiRNA = adata.var[adata.var[\"highly_variable\"]==True].index.unique()"
   ]
  },
  {
   "cell_type": "code",
   "execution_count": null,
   "id": "c16731af",
   "metadata": {},
   "outputs": [],
   "source": [
    "df_files[[\"sample_submitter_id\", \"sample_submitter_id_mirna\"]]"
   ]
  },
  {
   "cell_type": "code",
   "execution_count": null,
   "id": "13a6d623",
   "metadata": {},
   "outputs": [],
   "source": [
    "df_tcga_mirna = df_tcga_mirna.reindex(columns=df_files[\"sample_submitter_id_mirna\"])\n",
    "df_tcga_mirna.columns = df_files.index\n",
    "df_tcga = df_tcga.reindex(columns=df_files[\"sample_submitter_id\"])\n",
    "df_tcga.columns = df_files.index"
   ]
  },
  {
   "cell_type": "code",
   "execution_count": null,
   "id": "25bbdedf",
   "metadata": {},
   "outputs": [],
   "source": [
    "df_all = df_tcga.reindex(index=hvg, columns=df_files.index).append(df_tcga_mirna.reindex(index=hvmiRNA))\n",
    "df_all"
   ]
  },
  {
   "cell_type": "code",
   "execution_count": null,
   "id": "ee49c97d",
   "metadata": {},
   "outputs": [],
   "source": [
    "df_files = df_files.reset_index().rename(columns={\"Unnamed: 0\":\"case_id\"}).set_index(\"case_id\")\n",
    "df_files.to_csv(\"files.dat\")"
   ]
  },
  {
   "cell_type": "code",
   "execution_count": null,
   "id": "ee27323e",
   "metadata": {},
   "outputs": [],
   "source": [
    "df_files = pd.read_csv(\"brca/files.dat\")\n",
    "df_files[(df_files[\"Subtype_Selected\"]==\"BRCA.Normal\") & (df_files[\"sample_submitter_id_type\"]==\"tumor\")][[\"file_fpkm\", \"sample_submitter_id\", \"Subtype_Selected\"]]\n",
    "\n",
    "new_val = []\n",
    "\n",
    "for file in df_files.index:\n",
    "    sub = df_files.loc[file,\"Subtype_Selected\"]\n",
    "    typ = df_files.loc[file,\"sample_submitter_id_type\"]\n",
    "    if (sub==\"BRCA.Normal\"):\n",
    "        if typ == \"normal\":\n",
    "            new_val.append(\"Normal\")\n",
    "        else:\n",
    "            new_val.append(\"Normal-like\")\n",
    "    else:\n",
    "        new_val.append(sub)\n",
    "df_files[\"Subtype_Selected_Norm\"]=new_val"
   ]
  },
  {
   "cell_type": "code",
   "execution_count": null,
   "id": "095193c6",
   "metadata": {},
   "outputs": [],
   "source": [
    "df_files.to_csv(\"brca/files_norm.dat\", index=False)"
   ]
  },
  {
   "cell_type": "markdown",
   "id": "aa3e0744",
   "metadata": {},
   "source": [
    "## CNV"
   ]
  },
  {
   "cell_type": "code",
   "execution_count": null,
   "id": "4adc276f",
   "metadata": {},
   "outputs": [],
   "source": [
    "df_tcga_cnv = pd.read_csv(\"mainTable_cnv.csv\", index_col=0)\n",
    "df_tcga_cnv = df_tcga_cnv.transpose().drop_duplicates().transpose()\n",
    "df_tcga_cnv = df_tcga_cnv.reindex(columns=df_all.columns)\n",
    "cnv_submitter_ids = [\"-\".join(case.split(\"-\")[:4]) for case in df_tcga_cnv.columns]\n",
    "df_tcga_cnv.head(2)"
   ]
  },
  {
   "cell_type": "markdown",
   "id": "b84c6cd0",
   "metadata": {},
   "source": [
    "### Highly variable CNVs"
   ]
  },
  {
   "cell_type": "code",
   "execution_count": null,
   "id": "4b875ba2",
   "metadata": {},
   "outputs": [],
   "source": [
    "df_tcga_cnv.mean(1).hist()"
   ]
  },
  {
   "cell_type": "markdown",
   "id": "be468358",
   "metadata": {},
   "source": [
    "2 cnv is a duplication on two chromosomes"
   ]
  },
  {
   "cell_type": "code",
   "execution_count": null,
   "id": "d284d8a7",
   "metadata": {},
   "outputs": [],
   "source": [
    "hvcn = df_tcga_cnv[df_tcga_cnv.mean(1)>3.5].index"
   ]
  },
  {
   "cell_type": "code",
   "execution_count": null,
   "id": "6bc9f1d0",
   "metadata": {},
   "outputs": [],
   "source": [
    "np.isin(hvg,hvcn).sum()"
   ]
  },
  {
   "cell_type": "markdown",
   "id": "0107b3c8",
   "metadata": {},
   "source": [
    "## Simple Somatic Mutation"
   ]
  },
  {
   "cell_type": "code",
   "execution_count": null,
   "id": "dedafdba",
   "metadata": {},
   "outputs": [],
   "source": [
    "df_tcga_ssm = pd.read_csv(\"mainTable_ssm.csv\", index_col=0)\n",
    "df_tcga_ssm = df_tcga_ssm.transpose().drop_duplicates().transpose()\n",
    "df_tcga_ssm = df_tcga_ssm.reindex(columns=df_all.columns).fillna(0)\n",
    "ssm_submitter_ids = [\"-\".join(case.split(\"-\")[:4]) for case in df_tcga_cnv.columns]\n",
    "df_tcga_ssm.head(2)"
   ]
  },
  {
   "cell_type": "code",
   "execution_count": null,
   "id": "77113e81",
   "metadata": {},
   "outputs": [],
   "source": [
    "df_tcga_ssm.sum(1).hist()"
   ]
  },
  {
   "cell_type": "markdown",
   "id": "8bfe9e48",
   "metadata": {},
   "source": [
    "# Fit"
   ]
  },
  {
   "cell_type": "markdown",
   "id": "073c774d",
   "metadata": {},
   "source": [
    "## hSBM"
   ]
  },
  {
   "cell_type": "code",
   "execution_count": null,
   "id": "4d5d9f16",
   "metadata": {},
   "outputs": [],
   "source": [
    "import sys\n",
    "sys.path.append(\"../hSBM_Topicmodel/\")\n",
    "from sbmtm import sbmtm"
   ]
  },
  {
   "cell_type": "code",
   "execution_count": null,
   "id": "ca40efc2",
   "metadata": {},
   "outputs": [],
   "source": [
    "hsbm = sbmtm()\n",
    "hsbm.make_graph_from_BoW_df(df_tcga.reindex(index=hvg).applymap(lambda fpkm: np.log2(fpkm+1)))"
   ]
  },
  {
   "cell_type": "code",
   "execution_count": null,
   "id": "7a0095f1",
   "metadata": {},
   "outputs": [],
   "source": [
    "hsbm.g"
   ]
  },
  {
   "cell_type": "code",
   "execution_count": null,
   "id": "479d82d8",
   "metadata": {},
   "outputs": [],
   "source": [
    "hsbm.save_graph(\"graph_breast_hsbm.xml.gz\")"
   ]
  },
  {
   "cell_type": "markdown",
   "id": "21492f03",
   "metadata": {},
   "source": [
    "### CNV"
   ]
  },
  {
   "cell_type": "code",
   "execution_count": null,
   "id": "161cc787",
   "metadata": {},
   "outputs": [],
   "source": [
    "hsbm = sbmtm()\n",
    "hsbm.make_graph_from_BoW_df(df_tcga_cnv.reindex(columns = df_tcga.columns).fillna(0))\n",
    "hsbm.save_graph(\"graph_breast_cnv.xml.gz\")"
   ]
  },
  {
   "cell_type": "markdown",
   "id": "e66a08dd",
   "metadata": {},
   "source": [
    "### ssmSBM"
   ]
  },
  {
   "cell_type": "code",
   "execution_count": null,
   "id": "599b6275",
   "metadata": {},
   "outputs": [],
   "source": [
    "sys.path.append(\"../trisbm/\")\n",
    "from nsbm import nsbm"
   ]
  },
  {
   "cell_type": "code",
   "execution_count": null,
   "id": "252780e4",
   "metadata": {},
   "outputs": [],
   "source": [
    "nsbm_model = nsbm()\n",
    "nsbm_model.make_graph_from_BoW_df(df_tcga_ssm.fillna(0))"
   ]
  },
  {
   "cell_type": "code",
   "execution_count": null,
   "id": "86d66c5a",
   "metadata": {},
   "outputs": [],
   "source": [
    "nsbm_model.save_graph(\"graph_breast_ssm.xml.gz\")"
   ]
  },
  {
   "cell_type": "markdown",
   "id": "0dc0fd57",
   "metadata": {},
   "source": [
    "## triSBMdf_tcga_ssm"
   ]
  },
  {
   "cell_type": "code",
   "execution_count": null,
   "id": "86481229",
   "metadata": {},
   "outputs": [],
   "source": [
    "sys.path.append(\"../trisbm/\")\n",
    "from trisbm import trisbm"
   ]
  },
  {
   "cell_type": "code",
   "execution_count": null,
   "id": "1ebff852",
   "metadata": {},
   "outputs": [],
   "source": [
    "trisbm_model = trisbm()\n",
    "trisbm_model.make_graph(df_all.applymap(lambda fpkm: np.log2(fpkm+1)), lambda gene: 1 if \"ENSG\" in gene else 2)"
   ]
  },
  {
   "cell_type": "code",
   "execution_count": null,
   "id": "0b28e5bc",
   "metadata": {},
   "outputs": [],
   "source": [
    "trisbm_model.save_graph(\"graph_breast_trisbm.xml.gz\")"
   ]
  },
  {
   "cell_type": "code",
   "execution_count": null,
   "id": "75f43a1a",
   "metadata": {},
   "outputs": [],
   "source": [
    "np.isin(hsbm.words, trisbm_model.words).sum()"
   ]
  },
  {
   "cell_type": "markdown",
   "id": "886fc4c9",
   "metadata": {},
   "source": [
    "## tetraSBM"
   ]
  },
  {
   "cell_type": "code",
   "execution_count": null,
   "id": "636c6e86",
   "metadata": {},
   "outputs": [],
   "source": [
    "sys.path.append(\"../trisbm/\")\n",
    "from nsbm import nsbm"
   ]
  },
  {
   "cell_type": "code",
   "execution_count": null,
   "id": "fd67a62a",
   "metadata": {},
   "outputs": [],
   "source": [
    "nsbm_model = nsbm()\n",
    "nsbm_model.make_graph_multiple_df(df_tcga.reindex(index=hvg).applymap(lambda fpkm: np.log2(fpkm+1)),\n",
    "                                  [\n",
    "                                      df_tcga_mirna.reindex(index=hvmiRNA, columns = df_tcga.columns).applymap(lambda fpkm: np.log2(fpkm+1)),\n",
    "                                      df_tcga_cnv.reindex(index=hvcn, columns = df_tcga.columns)\n",
    "                                  ])"
   ]
  },
  {
   "cell_type": "code",
   "execution_count": null,
   "id": "84b9b13f",
   "metadata": {},
   "outputs": [],
   "source": [
    "nsbm_model.save_graph(\"graph_breast_tetrasbm.xml.gz\")"
   ]
  },
  {
   "cell_type": "markdown",
   "id": "ca7141cf",
   "metadata": {},
   "source": [
    "## pentaSBM"
   ]
  },
  {
   "cell_type": "code",
   "execution_count": null,
   "id": "bfbb2c20",
   "metadata": {},
   "outputs": [],
   "source": [
    "sys.path.append(\"../trisbm/\")\n",
    "from nsbm import nsbm"
   ]
  },
  {
   "cell_type": "code",
   "execution_count": null,
   "id": "5e48ede8",
   "metadata": {},
   "outputs": [],
   "source": [
    "nsbm_model = nsbm()\n",
    "nsbm_model.make_graph_multiple_df(df_tcga.reindex(index=hvg).applymap(lambda fpkm: np.log2(fpkm+1)),\n",
    "                                  [\n",
    "                                      df_tcga_mirna.reindex(index=hvmiRNA, columns = df_tcga.columns).applymap(lambda fpkm: np.log2(fpkm+1)),\n",
    "                                      df_tcga_cnv.reindex(index=hvcn, columns = df_tcga.columns),\n",
    "                                      df_tcga_ssm.reindex(columns = df_tcga.columns)\n",
    "                                  ])"
   ]
  },
  {
   "cell_type": "code",
   "execution_count": null,
   "id": "fe835623",
   "metadata": {},
   "outputs": [],
   "source": [
    "nsbm_model.save_graph(\"graph_breast_pentasbm.xml.gz\")"
   ]
  },
  {
   "cell_type": "markdown",
   "id": "5098af82",
   "metadata": {},
   "source": [
    "# Consistency check"
   ]
  },
  {
   "cell_type": "code",
   "execution_count": null,
   "id": "c8d4674e",
   "metadata": {},
   "outputs": [],
   "source": [
    "import os"
   ]
  },
  {
   "cell_type": "code",
   "execution_count": null,
   "id": "ea84d03a",
   "metadata": {},
   "outputs": [],
   "source": [
    "trisbm_model = trisbm()\n",
    "hsbm = sbmtm()\n",
    "\n",
    "trisbm_model.load_graph(\"brca/trisbm/graph.xml.gz\")\n",
    "hsbm.load_graph(\"brca/topsbm/graph.xml.gz\")"
   ]
  },
  {
   "cell_type": "code",
   "execution_count": null,
   "id": "e473b50f",
   "metadata": {},
   "outputs": [],
   "source": [
    "import graph_tool.all as gt"
   ]
  },
  {
   "cell_type": "code",
   "execution_count": null,
   "id": "516c279c",
   "metadata": {},
   "outputs": [],
   "source": [
    "gt.adjacency(hsbm.g, weight=hsbm.g.ep[\"count\"]).max()"
   ]
  },
  {
   "cell_type": "code",
   "execution_count": null,
   "id": "574f2cdb",
   "metadata": {},
   "outputs": [],
   "source": [
    "gt.adjacency(trisbm_model.g, weight=trisbm_model.g.ep[\"count\"]).max()"
   ]
  },
  {
   "cell_type": "code",
   "execution_count": null,
   "id": "36036074",
   "metadata": {},
   "outputs": [],
   "source": [
    "import numpy as np\n",
    "np.isin(hsbm.words, trisbm_model.words, invert=False).sum()"
   ]
  },
  {
   "cell_type": "code",
   "execution_count": null,
   "id": "9767b057",
   "metadata": {},
   "outputs": [],
   "source": [
    "print(len(trisbm_model.words))\n",
    "print(len(hsbm.words))"
   ]
  },
  {
   "cell_type": "code",
   "execution_count": null,
   "id": "dbd81bb2",
   "metadata": {},
   "outputs": [],
   "source": [
    "print(trisbm_model.g.num_vertices(), trisbm_model.g.num_edges())\n",
    "print(hsbm.g.num_vertices(), hsbm.g.num_edges())"
   ]
  },
  {
   "cell_type": "code",
   "execution_count": null,
   "id": "45990d67",
   "metadata": {},
   "outputs": [],
   "source": [
    "print(len(trisbm_model.documents), len(trisbm_model.words), len(trisbm_model.keywords[0]))\n",
    "print(len(hsbm.documents), len(hsbm.words))"
   ]
  },
  {
   "cell_type": "code",
   "execution_count": null,
   "id": "cc6cc442",
   "metadata": {},
   "outputs": [],
   "source": [
    "3632009 / (3000*(1092+1286))\n",
    "#2607726 / (3000*1092)"
   ]
  },
  {
   "cell_type": "code",
   "execution_count": null,
   "id": "9ff33bfc",
   "metadata": {},
   "outputs": [],
   "source": [
    "import pandas as pd\n",
    "import numpy as np\n",
    "cnv_genes = pd.read_csv(\"brca/tetrasbm/trisbm/trisbm_level_0_kind_3_keyword-dist.csv\", index_col=0).index\n",
    "cnv_genes = [pc[2:] for pc in cnv_genes]\n",
    "pc_genes = pd.read_csv(\"brca/tetrasbm/trisbm/trisbm_level_0_word-dist.csv\", index_col=0).index\n",
    "np.isin(cnv_genes, pc_genes).sum(), len(cnv_genes), len(pc_genes)"
   ]
  },
  {
   "cell_type": "code",
   "execution_count": null,
   "id": "25b69d78",
   "metadata": {},
   "outputs": [],
   "source": [
    "import sys\n",
    "sys.path.append(\"../hSBM_Topicmodel/\")\n",
    "from sbmtm import sbmtm\n",
    "sys.path.append(\"../trisbm/\")\n",
    "from trisbm import trisbm"
   ]
  },
  {
   "cell_type": "code",
   "execution_count": null,
   "id": "31336e9d",
   "metadata": {},
   "outputs": [],
   "source": [
    "trisbm_model = trisbm()\n",
    "hsbm = sbmtm()\n",
    "\n",
    "trisbm_model.load_graph(\"/home/jovyan/work/phd/keywordTCGA/brca_subtypes/trisbm/graph.xml.gz\")\n",
    "hsbm.load_graph(\"/home/jovyan/work/phd/cancers/breast/topsbm/graph_hde.xml.gz\")"
   ]
  },
  {
   "cell_type": "code",
   "execution_count": null,
   "id": "250234d5",
   "metadata": {},
   "outputs": [],
   "source": [
    "print(len(trisbm_model.words))\n",
    "print(len(hsbm.words))"
   ]
  },
  {
   "cell_type": "code",
   "execution_count": null,
   "id": "947909a9",
   "metadata": {},
   "outputs": [],
   "source": [
    "print(trisbm_model.g.num_vertices(), trisbm_model.g.num_edges())\n",
    "print(hsbm.g.num_vertices(), hsbm.g.num_edges())"
   ]
  },
  {
   "cell_type": "code",
   "execution_count": null,
   "id": "85d38a39",
   "metadata": {},
   "outputs": [],
   "source": [
    "np.isin(trisbm_model.words,hsbm.words).sum()"
   ]
  },
  {
   "cell_type": "code",
   "execution_count": null,
   "id": "8a2fe760",
   "metadata": {},
   "outputs": [],
   "source": []
  }
 ],
 "metadata": {
  "kernelspec": {
   "display_name": "Python 3",
   "language": "python",
   "name": "python3"
  },
  "language_info": {
   "codemirror_mode": {
    "name": "ipython",
    "version": 3
   },
   "file_extension": ".py",
   "mimetype": "text/x-python",
   "name": "python",
   "nbconvert_exporter": "python",
   "pygments_lexer": "ipython3",
   "version": "3.8.5"
  }
 },
 "nbformat": 4,
 "nbformat_minor": 5
}
